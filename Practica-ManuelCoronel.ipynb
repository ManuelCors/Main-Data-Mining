{
 "cells": [
  {
   "cell_type": "markdown",
   "metadata": {},
   "source": [
    "Vasmos a cargar el dataset de AirBnB descargado de [aquí](https://public.opendatasoft.com/explore/dataset/airbnb-listings/export/?disjunctive.host_verifications&disjunctive.amenities&disjunctive.features&q=Madrid&dataChart=eyJxdWVyaWVzIjpbeyJjaGFydHMiOlt7InR5cGUiOiJjb2x1bW4iLCJmdW5jIjoiQ09VTlQiLCJ5QXhpcyI6Imhvc3RfbGlzdGluZ3NfY291bnQiLCJzY2llbnRpZmljRGlzcGxheSI6dHJ1ZSwiY29sb3IiOiJyYW5nZS1jdXN0b20ifV0sInhBeGlzIjoiY2l0eSIsIm1heHBvaW50cyI6IiIsInRpbWVzY2FsZSI6IiIsInNvcnQiOiIiLCJzZXJpZXNCcmVha2Rvd24iOiJyb29tX3R5cGUiLCJjb25maWciOnsiZGF0YXNldCI6ImFpcmJuYi1saXN0aW5ncyIsIm9wdGlvbnMiOnsiZGlzanVuY3RpdmUuaG9zdF92ZXJpZmljYXRpb25zIjp0cnVlLCJkaXNqdW5jdGl2ZS5hbWVuaXRpZXMiOnRydWUsImRpc2p1bmN0aXZlLmZlYXR1cmVzIjp0cnVlfX19XSwidGltZXNjYWxlIjoiIiwiZGlzcGxheUxlZ2VuZCI6dHJ1ZSwiYWxpZ25Nb250aCI6dHJ1ZX0%3D&location=16,41.38377,2.15774&basemap=jawg.streets)\n",
    "\n",
    "![](descargar.png)"
   ]
  },
  {
   "cell_type": "code",
   "execution_count": 1,
   "metadata": {},
   "outputs": [],
   "source": [
    "airbnb<-read.csv('airbnb-listings.csv',sep = ';')\n",
    "options(repr.plot.height=4,repr.plot.width=6,repr.plot.res = 300)"
   ]
  },
  {
   "cell_type": "markdown",
   "metadata": {},
   "source": [
    "Vamos a quedarnos con las columnas de mayor interés:\n",
    "\n",
    "'City','Room.Type','Neighbourhood','Accommodates','Bathrooms','Bedrooms','Beds','Price','Square.Feet','Guests.Included','Extra.People','Review.Scores.Rating','Latitude', 'Longitude'"
   ]
  },
  {
   "cell_type": "code",
   "execution_count": 2,
   "metadata": {
    "scrolled": true
   },
   "outputs": [
    {
     "name": "stderr",
     "output_type": "stream",
     "text": [
      "\n",
      "Attaching package: 'dplyr'\n",
      "\n",
      "The following objects are masked from 'package:stats':\n",
      "\n",
      "    filter, lag\n",
      "\n",
      "The following objects are masked from 'package:base':\n",
      "\n",
      "    intersect, setdiff, setequal, union\n",
      "\n"
     ]
    },
    {
     "data": {
      "text/html": [
       "<table>\n",
       "<thead><tr><th scope=col>City</th><th scope=col>Room.Type</th><th scope=col>Neighbourhood</th><th scope=col>Accommodates</th><th scope=col>Bathrooms</th><th scope=col>Bedrooms</th><th scope=col>Beds</th><th scope=col>Price</th><th scope=col>Square.Feet</th><th scope=col>Guests.Included</th><th scope=col>Extra.People</th><th scope=col>Review.Scores.Rating</th><th scope=col>Latitude</th><th scope=col>Longitude</th></tr></thead>\n",
       "<tbody>\n",
       "\t<tr><td>Madrid         </td><td>Entire home/apt</td><td>               </td><td> 2             </td><td>1.0            </td><td>0              </td><td> 1             </td><td> 50            </td><td>NA             </td><td>2              </td><td>15             </td><td> 96            </td><td>40.40745       </td><td>  -3.7079955   </td></tr>\n",
       "\t<tr><td>Madrid         </td><td>Entire home/apt</td><td>               </td><td> 4             </td><td>1.0            </td><td>1              </td><td> 2             </td><td> 50            </td><td>NA             </td><td>2              </td><td>25             </td><td> 81            </td><td>40.40832       </td><td>  -3.7050064   </td></tr>\n",
       "\t<tr><td>Madrid         </td><td>Entire home/apt</td><td>               </td><td> 4             </td><td>1.5            </td><td>1              </td><td> 2             </td><td> 77            </td><td>NA             </td><td>1              </td><td> 0             </td><td> 89            </td><td>40.41372       </td><td>  -3.7068231   </td></tr>\n",
       "\t<tr><td>Madrid         </td><td>Entire home/apt</td><td>Embajadores    </td><td> 2             </td><td>1.0            </td><td>1              </td><td> 2             </td><td> 50            </td><td>NA             </td><td>1              </td><td>20             </td><td> 93            </td><td>40.41126       </td><td>  -3.6973054   </td></tr>\n",
       "\t<tr><td>Madrid         </td><td>Entire home/apt</td><td>Embajadores    </td><td> 5             </td><td>1.0            </td><td>2              </td><td> 4             </td><td> 95            </td><td>NA             </td><td>4              </td><td> 0             </td><td> 97            </td><td>40.41256       </td><td>  -3.7011554   </td></tr>\n",
       "\t<tr><td>Madrid         </td><td>Entire home/apt</td><td>La Latina      </td><td> 4             </td><td>1.0            </td><td>1              </td><td> 2             </td><td> 69            </td><td>NA             </td><td>2              </td><td>18             </td><td> 91            </td><td>40.40791       </td><td>  -3.7050954   </td></tr>\n",
       "\t<tr><td>Madrid         </td><td>Entire home/apt</td><td>               </td><td> 2             </td><td>1.0            </td><td>1              </td><td> 1             </td><td> 70            </td><td>NA             </td><td>1              </td><td> 0             </td><td>100            </td><td>40.40898       </td><td>  -3.6982515   </td></tr>\n",
       "\t<tr><td>Madrid         </td><td>Private room   </td><td>La Latina      </td><td> 2             </td><td>1.5            </td><td>1              </td><td> 1             </td><td> 30            </td><td>NA             </td><td>1              </td><td> 0             </td><td> 80            </td><td>40.40836       </td><td>  -3.7040433   </td></tr>\n",
       "\t<tr><td>Madrid         </td><td>Entire home/apt</td><td>Embajadores    </td><td> 4             </td><td>1.0            </td><td>1              </td><td> 2             </td><td> 57            </td><td>NA             </td><td>2              </td><td> 8             </td><td> 98            </td><td>40.41162       </td><td>  -3.7032811   </td></tr>\n",
       "\t<tr><td>Madrid         </td><td>Entire home/apt</td><td>La Latina      </td><td> 2             </td><td>1.0            </td><td>1              </td><td> 1             </td><td> 59            </td><td>NA             </td><td>1              </td><td> 0             </td><td> 95            </td><td>40.40734       </td><td>  -3.7070192   </td></tr>\n",
       "\t<tr><td>Madrid         </td><td>Entire home/apt</td><td>               </td><td> 8             </td><td>1.5            </td><td>4              </td><td> 5             </td><td>160            </td><td>NA             </td><td>4              </td><td>15             </td><td> 98            </td><td>40.41056       </td><td>  -3.7064286   </td></tr>\n",
       "\t<tr><td>Madrid         </td><td>Private room   </td><td>               </td><td> 2             </td><td>1.0            </td><td>1              </td><td> 1             </td><td> 25            </td><td>NA             </td><td>1              </td><td> 0             </td><td> NA            </td><td>40.41216       </td><td>  -3.7018281   </td></tr>\n",
       "\t<tr><td>Madrid         </td><td>Entire home/apt</td><td>               </td><td> 2             </td><td>1.0            </td><td>1              </td><td> 2             </td><td> 70            </td><td>NA             </td><td>1              </td><td> 0             </td><td> NA            </td><td>40.41286       </td><td>  -3.7030505   </td></tr>\n",
       "\t<tr><td>Madrid         </td><td>Entire home/apt</td><td>               </td><td> 7             </td><td>2.0            </td><td>3              </td><td> 5             </td><td>150            </td><td>NA             </td><td>4              </td><td>25             </td><td> 97            </td><td>40.41359       </td><td>  -3.7031695   </td></tr>\n",
       "\t<tr><td>Madrid         </td><td>Entire home/apt</td><td>La Latina      </td><td>14             </td><td>2.0            </td><td>3              </td><td>14             </td><td>120            </td><td>NA             </td><td>2              </td><td>18             </td><td> 92            </td><td>40.40908       </td><td>  -3.7047445   </td></tr>\n",
       "\t<tr><td>Madrid         </td><td>Entire home/apt</td><td>               </td><td> 2             </td><td>1.0            </td><td>1              </td><td> 2             </td><td> 45            </td><td>NA             </td><td>1              </td><td> 8             </td><td> 95            </td><td>40.40553       </td><td>  -3.7023778   </td></tr>\n",
       "\t<tr><td>Madrid         </td><td>Private room   </td><td>La Latina      </td><td> 2             </td><td>1.0            </td><td>1              </td><td> 1             </td><td> 37            </td><td>NA             </td><td>1              </td><td> 0             </td><td> 96            </td><td>40.41196       </td><td>  -3.7069477   </td></tr>\n",
       "\t<tr><td>London         </td><td>Private room   </td><td>LB of Islington</td><td> 2             </td><td>1.0            </td><td>1              </td><td> 1             </td><td> 55            </td><td>NA             </td><td>1              </td><td>15             </td><td> NA            </td><td>51.54754       </td><td>  -0.0767345   </td></tr>\n",
       "\t<tr><td>Los Angeles    </td><td>Entire home/apt</td><td>               </td><td> 3             </td><td>1.0            </td><td>1              </td><td> 1             </td><td>145            </td><td>NA             </td><td>2              </td><td>20             </td><td> 93            </td><td>34.04591       </td><td>-118.2315683   </td></tr>\n",
       "\t<tr><td>Santa Monica   </td><td>Private room   </td><td>Santa Monica   </td><td> 2             </td><td>2.0            </td><td>1              </td><td> 1             </td><td> 95            </td><td>NA             </td><td>1              </td><td> 0             </td><td> 95            </td><td>34.01992       </td><td>-118.4968223   </td></tr>\n",
       "\t<tr><td>Madrid         </td><td>Entire home/apt</td><td>La Latina      </td><td> 2             </td><td>1.0            </td><td>1              </td><td> 1             </td><td> 89            </td><td>NA             </td><td>1              </td><td>10             </td><td> 98            </td><td>40.41007       </td><td>  -3.7106237   </td></tr>\n",
       "\t<tr><td>Madrid         </td><td>Entire home/apt</td><td>Palacio        </td><td> 5             </td><td>3.0            </td><td>3              </td><td> 3             </td><td>192            </td><td>NA             </td><td>2              </td><td>12             </td><td> 80            </td><td>40.42017       </td><td>  -3.7126287   </td></tr>\n",
       "\t<tr><td>Madrid         </td><td>Entire home/apt</td><td>La Latina      </td><td> 4             </td><td>1.0            </td><td>1              </td><td> 1             </td><td>100            </td><td>NA             </td><td>2              </td><td>12             </td><td> NA            </td><td>40.40990       </td><td>  -3.7109480   </td></tr>\n",
       "\t<tr><td>Madrid         </td><td>Entire home/apt</td><td>               </td><td> 4             </td><td>1.0            </td><td>2              </td><td> 3             </td><td> 70            </td><td>NA             </td><td>2              </td><td>15             </td><td> 88            </td><td>40.41179       </td><td>  -3.7097079   </td></tr>\n",
       "\t<tr><td>Madrid         </td><td>Private room   </td><td>La Latina      </td><td> 1             </td><td>2.0            </td><td>1              </td><td> 1             </td><td> 15            </td><td>NA             </td><td>1              </td><td> 0             </td><td> NA            </td><td>40.41215       </td><td>  -3.7080062   </td></tr>\n",
       "\t<tr><td>Madrid         </td><td>Entire home/apt</td><td>Palacio        </td><td> 5             </td><td>2.0            </td><td>2              </td><td> 2             </td><td>100            </td><td>NA             </td><td>2              </td><td>15             </td><td> 95            </td><td>40.42156       </td><td>  -3.7098480   </td></tr>\n",
       "\t<tr><td>Madrid         </td><td>Private room   </td><td>La Latina      </td><td> 2             </td><td>1.5            </td><td>1              </td><td> 1             </td><td> 52            </td><td>NA             </td><td>1              </td><td> 0             </td><td> 90            </td><td>40.41277       </td><td>  -3.7075910   </td></tr>\n",
       "\t<tr><td>Madrid         </td><td>Entire home/apt</td><td>La Latina      </td><td> 4             </td><td>2.0            </td><td>2              </td><td> 3             </td><td>160            </td><td>NA             </td><td>1              </td><td> 0             </td><td> 93            </td><td>40.41173       </td><td>  -3.7126622   </td></tr>\n",
       "\t<tr><td>Madrid         </td><td>Entire home/apt</td><td>Palacio        </td><td> 4             </td><td>1.0            </td><td>1              </td><td> 2             </td><td> 80            </td><td>NA             </td><td>2              </td><td> 0             </td><td> 88            </td><td>40.42099       </td><td>  -3.7104020   </td></tr>\n",
       "\t<tr><td>Madrid         </td><td>Entire home/apt</td><td>Palacio        </td><td> 3             </td><td>1.0            </td><td>1              </td><td> 1             </td><td> 68            </td><td>NA             </td><td>2              </td><td> 5             </td><td> 83            </td><td>40.41203       </td><td>  -3.7157788   </td></tr>\n",
       "\t<tr><td>...</td><td>...</td><td>...</td><td>...</td><td>...</td><td>...</td><td>...</td><td>...</td><td>...</td><td>...</td><td>...</td><td>...</td><td>...</td><td>...</td></tr>\n",
       "\t<tr><td>Madrid             </td><td>Entire home/apt    </td><td>Justicia           </td><td>2                  </td><td>1.0                </td><td>0                  </td><td>1                  </td><td> 74                </td><td> NA                </td><td>1                  </td><td>  0                </td><td> 93                </td><td>40.42741           </td><td>  -3.699927        </td></tr>\n",
       "\t<tr><td>Madrid             </td><td>Entire home/apt    </td><td>Justicia           </td><td>2                  </td><td>1.0                </td><td>1                  </td><td>1                  </td><td> 50                </td><td> NA                </td><td>1                  </td><td>  0                </td><td> 95                </td><td>40.42449           </td><td>  -3.698675        </td></tr>\n",
       "\t<tr><td>Madrid             </td><td>Private room       </td><td>Justicia           </td><td>2                  </td><td>2.0                </td><td>1                  </td><td>1                  </td><td> 35                </td><td> NA                </td><td>1                  </td><td>  0                </td><td> 96                </td><td>40.42093           </td><td>  -3.697121        </td></tr>\n",
       "\t<tr><td>Madrid             </td><td>Entire home/apt    </td><td>Cortes             </td><td>4                  </td><td>1.0                </td><td>1                  </td><td>2                  </td><td> 65                </td><td> NA                </td><td>2                  </td><td> 10                </td><td>100                </td><td>40.41141           </td><td>  -3.696039        </td></tr>\n",
       "\t<tr><td>Madrid             </td><td>Entire home/apt    </td><td>Cortes             </td><td>4                  </td><td>1.0                </td><td>1                  </td><td>1                  </td><td> 80                </td><td> NA                </td><td>1                  </td><td>  0                </td><td> 90                </td><td>40.41269           </td><td>  -3.695939        </td></tr>\n",
       "\t<tr><td>Madrid             </td><td>Entire home/apt    </td><td>                   </td><td>2                  </td><td>2.0                </td><td>1                  </td><td>1                  </td><td> 55                </td><td> NA                </td><td>1                  </td><td>  0                </td><td> 97                </td><td>40.41580           </td><td>  -3.695896        </td></tr>\n",
       "\t<tr><td>Madrid             </td><td>Private room       </td><td>Cortes             </td><td>2                  </td><td>1.0                </td><td>1                  </td><td>1                  </td><td> 39                </td><td> NA                </td><td>1                  </td><td> 12                </td><td> 95                </td><td>40.41216           </td><td>  -3.695424        </td></tr>\n",
       "\t<tr><td>Madrid             </td><td>Entire home/apt    </td><td>                   </td><td>4                  </td><td>1.0                </td><td>1                  </td><td>1                  </td><td> 55                </td><td> NA                </td><td>2                  </td><td> 15                </td><td> 86                </td><td>40.41559           </td><td>  -3.701471        </td></tr>\n",
       "\t<tr><td>Madrid             </td><td>Entire home/apt    </td><td>Cortes             </td><td>4                  </td><td>1.0                </td><td>0                  </td><td>2                  </td><td> 65                </td><td> NA                </td><td>2                  </td><td> 15                </td><td> 98                </td><td>40.41875           </td><td>  -3.698898        </td></tr>\n",
       "\t<tr><td>Madrid             </td><td>Entire home/apt    </td><td>Cortes             </td><td>9                  </td><td>2.0                </td><td>2                  </td><td>6                  </td><td> 80                </td><td> NA                </td><td>2                  </td><td> 10                </td><td> 98                </td><td>40.41632           </td><td>  -3.700375        </td></tr>\n",
       "\t<tr><td>Madrid             </td><td>Entire home/apt    </td><td>Cortes             </td><td>3                  </td><td>1.0                </td><td>1                  </td><td>3                  </td><td>200                </td><td> NA                </td><td>1                  </td><td>  0                </td><td> NA                </td><td>40.41428           </td><td>  -3.702910        </td></tr>\n",
       "\t<tr><td>Madrid             </td><td>Entire home/apt    </td><td>Embajadores        </td><td>4                  </td><td>1.0                </td><td>1                  </td><td>2                  </td><td>150                </td><td> NA                </td><td>1                  </td><td>  0                </td><td> 87                </td><td>40.41143           </td><td>  -3.697099        </td></tr>\n",
       "\t<tr><td>Madrid             </td><td>Private room       </td><td>Cortes             </td><td>4                  </td><td>1.0                </td><td>1                  </td><td>3                  </td><td> 36                </td><td>  0                </td><td>2                  </td><td> 28                </td><td> 89                </td><td>40.41652           </td><td>  -3.696699        </td></tr>\n",
       "\t<tr><td>Madrid             </td><td>Entire home/apt    </td><td>Cortes             </td><td>4                  </td><td>2.0                </td><td>2                  </td><td>2                  </td><td>127                </td><td> NA                </td><td>4                  </td><td> 35                </td><td> 93                </td><td>40.41352           </td><td>  -3.696828        </td></tr>\n",
       "\t<tr><td>Madrid             </td><td>Entire home/apt    </td><td>Centro             </td><td>4                  </td><td>1.0                </td><td>1                  </td><td>1                  </td><td> 70                </td><td> NA                </td><td>1                  </td><td>  0                </td><td> NA                </td><td>40.41267           </td><td>  -3.699217        </td></tr>\n",
       "\t<tr><td>Madrid             </td><td>Entire home/apt    </td><td>                   </td><td>4                  </td><td>1.0                </td><td>1                  </td><td>1                  </td><td> 80                </td><td> NA                </td><td>2                  </td><td>  5                </td><td> 98                </td><td>40.41187           </td><td>  -3.697796        </td></tr>\n",
       "\t<tr><td>Centro             </td><td>Private room       </td><td>Cortes             </td><td>2                  </td><td>1.0                </td><td>1                  </td><td>1                  </td><td> 55                </td><td> NA                </td><td>1                  </td><td> 20                </td><td> 91                </td><td>40.41133           </td><td>  -3.694809        </td></tr>\n",
       "\t<tr><td>Madrid             </td><td>Entire home/apt    </td><td>Cortes             </td><td>4                  </td><td>1.0                </td><td>1                  </td><td>3                  </td><td> 80                </td><td> NA                </td><td>2                  </td><td>  9                </td><td> 95                </td><td>40.41293           </td><td>  -3.695167        </td></tr>\n",
       "\t<tr><td>Madrid             </td><td>Private room       </td><td>                   </td><td>3                  </td><td>2.0                </td><td>1                  </td><td>2                  </td><td> 50                </td><td> NA                </td><td>2                  </td><td> 18                </td><td> 80                </td><td>40.41465           </td><td>  -3.697372        </td></tr>\n",
       "\t<tr><td>Madrid             </td><td>Entire home/apt    </td><td>                   </td><td>4                  </td><td>1.0                </td><td>1                  </td><td>2                  </td><td> 70                </td><td> NA                </td><td>2                  </td><td> 10                </td><td> 94                </td><td>40.41412           </td><td>  -3.697248        </td></tr>\n",
       "\t<tr><td>Madrid             </td><td>Entire home/apt    </td><td>                   </td><td>6                  </td><td>1.0                </td><td>2                  </td><td>4                  </td><td> 89                </td><td> NA                </td><td>2                  </td><td> 10                </td><td> 96                </td><td>40.41411           </td><td>  -3.701141        </td></tr>\n",
       "\t<tr><td>Los Angeles        </td><td>Private room       </td><td>                   </td><td>2                  </td><td>1.0                </td><td>1                  </td><td>1                  </td><td>100                </td><td> NA                </td><td>1                  </td><td> 35                </td><td> 84                </td><td>34.05144           </td><td>-118.264406        </td></tr>\n",
       "\t<tr><td>Barcelona          </td><td>Entire home/apt    </td><td>Vila de GrÃ cia    </td><td>6                  </td><td>2.0                </td><td>2                  </td><td>3                  </td><td>132                </td><td> NA                </td><td>1                  </td><td>  0                </td><td> 80                </td><td>41.40085           </td><td>   2.155299        </td></tr>\n",
       "\t<tr><td>Amsterdam          </td><td>Private room       </td><td>                   </td><td>2                  </td><td>1.0                </td><td>1                  </td><td>1                  </td><td> 89                </td><td> NA                </td><td>1                  </td><td> 10                </td><td> 94                </td><td>52.38299           </td><td>   4.802410        </td></tr>\n",
       "\t<tr><td>Barcelona          </td><td>Entire home/apt    </td><td>Dreta de l'Eixample</td><td>6                  </td><td>1.0                </td><td>2                  </td><td>3                  </td><td>179                </td><td>861                </td><td>2                  </td><td> 39                </td><td> 90                </td><td>41.39724           </td><td>   2.169795        </td></tr>\n",
       "\t<tr><td>Barcelona          </td><td>Private room       </td><td>el Fort Pienc      </td><td>1                  </td><td>1.5                </td><td>1                  </td><td>1                  </td><td> 30                </td><td> NA                </td><td>1                  </td><td>  0                </td><td> 97                </td><td>41.39934           </td><td>   2.178007        </td></tr>\n",
       "\t<tr><td>Barcelona          </td><td>Entire home/apt    </td><td>Dreta de l'Eixample</td><td>6                  </td><td>1.0                </td><td>2                  </td><td>3                  </td><td> 99                </td><td> NA                </td><td>2                  </td><td> 30                </td><td>100                </td><td>41.39465           </td><td>   2.162502        </td></tr>\n",
       "\t<tr><td>Barcelona          </td><td>Entire home/apt    </td><td>                   </td><td>6                  </td><td>2.0                </td><td>2                  </td><td>2                  </td><td>100                </td><td> NA                </td><td>2                  </td><td>105                </td><td> NA                </td><td>41.38818           </td><td>   2.171467        </td></tr>\n",
       "\t<tr><td>Berlin             </td><td>Private room       </td><td>                   </td><td>1                  </td><td>1.0                </td><td>1                  </td><td>1                  </td><td> 75                </td><td> NA                </td><td>1                  </td><td>  0                </td><td> 92                </td><td>52.52776           </td><td>  13.395542        </td></tr>\n",
       "\t<tr><td>Barcelona          </td><td>Entire home/apt    </td><td>                   </td><td>8                  </td><td>2.0                </td><td>3                  </td><td>7                  </td><td> 80                </td><td> NA                </td><td>3                  </td><td>  5                </td><td> 83                </td><td>41.36478           </td><td>   2.139083        </td></tr>\n",
       "</tbody>\n",
       "</table>\n"
      ],
      "text/latex": [
       "\\begin{tabular}{r|llllllllllllll}\n",
       " City & Room.Type & Neighbourhood & Accommodates & Bathrooms & Bedrooms & Beds & Price & Square.Feet & Guests.Included & Extra.People & Review.Scores.Rating & Latitude & Longitude\\\\\n",
       "\\hline\n",
       "\t Madrid          & Entire home/apt &                 &  2              & 1.0             & 0               &  1              &  50             & NA              & 2               & 15              &  96             & 40.40745        &   -3.7079955   \\\\\n",
       "\t Madrid          & Entire home/apt &                 &  4              & 1.0             & 1               &  2              &  50             & NA              & 2               & 25              &  81             & 40.40832        &   -3.7050064   \\\\\n",
       "\t Madrid          & Entire home/apt &                 &  4              & 1.5             & 1               &  2              &  77             & NA              & 1               &  0              &  89             & 40.41372        &   -3.7068231   \\\\\n",
       "\t Madrid          & Entire home/apt & Embajadores     &  2              & 1.0             & 1               &  2              &  50             & NA              & 1               & 20              &  93             & 40.41126        &   -3.6973054   \\\\\n",
       "\t Madrid          & Entire home/apt & Embajadores     &  5              & 1.0             & 2               &  4              &  95             & NA              & 4               &  0              &  97             & 40.41256        &   -3.7011554   \\\\\n",
       "\t Madrid          & Entire home/apt & La Latina       &  4              & 1.0             & 1               &  2              &  69             & NA              & 2               & 18              &  91             & 40.40791        &   -3.7050954   \\\\\n",
       "\t Madrid          & Entire home/apt &                 &  2              & 1.0             & 1               &  1              &  70             & NA              & 1               &  0              & 100             & 40.40898        &   -3.6982515   \\\\\n",
       "\t Madrid          & Private room    & La Latina       &  2              & 1.5             & 1               &  1              &  30             & NA              & 1               &  0              &  80             & 40.40836        &   -3.7040433   \\\\\n",
       "\t Madrid          & Entire home/apt & Embajadores     &  4              & 1.0             & 1               &  2              &  57             & NA              & 2               &  8              &  98             & 40.41162        &   -3.7032811   \\\\\n",
       "\t Madrid          & Entire home/apt & La Latina       &  2              & 1.0             & 1               &  1              &  59             & NA              & 1               &  0              &  95             & 40.40734        &   -3.7070192   \\\\\n",
       "\t Madrid          & Entire home/apt &                 &  8              & 1.5             & 4               &  5              & 160             & NA              & 4               & 15              &  98             & 40.41056        &   -3.7064286   \\\\\n",
       "\t Madrid          & Private room    &                 &  2              & 1.0             & 1               &  1              &  25             & NA              & 1               &  0              &  NA             & 40.41216        &   -3.7018281   \\\\\n",
       "\t Madrid          & Entire home/apt &                 &  2              & 1.0             & 1               &  2              &  70             & NA              & 1               &  0              &  NA             & 40.41286        &   -3.7030505   \\\\\n",
       "\t Madrid          & Entire home/apt &                 &  7              & 2.0             & 3               &  5              & 150             & NA              & 4               & 25              &  97             & 40.41359        &   -3.7031695   \\\\\n",
       "\t Madrid          & Entire home/apt & La Latina       & 14              & 2.0             & 3               & 14              & 120             & NA              & 2               & 18              &  92             & 40.40908        &   -3.7047445   \\\\\n",
       "\t Madrid          & Entire home/apt &                 &  2              & 1.0             & 1               &  2              &  45             & NA              & 1               &  8              &  95             & 40.40553        &   -3.7023778   \\\\\n",
       "\t Madrid          & Private room    & La Latina       &  2              & 1.0             & 1               &  1              &  37             & NA              & 1               &  0              &  96             & 40.41196        &   -3.7069477   \\\\\n",
       "\t London          & Private room    & LB of Islington &  2              & 1.0             & 1               &  1              &  55             & NA              & 1               & 15              &  NA             & 51.54754        &   -0.0767345   \\\\\n",
       "\t Los Angeles     & Entire home/apt &                 &  3              & 1.0             & 1               &  1              & 145             & NA              & 2               & 20              &  93             & 34.04591        & -118.2315683   \\\\\n",
       "\t Santa Monica    & Private room    & Santa Monica    &  2              & 2.0             & 1               &  1              &  95             & NA              & 1               &  0              &  95             & 34.01992        & -118.4968223   \\\\\n",
       "\t Madrid          & Entire home/apt & La Latina       &  2              & 1.0             & 1               &  1              &  89             & NA              & 1               & 10              &  98             & 40.41007        &   -3.7106237   \\\\\n",
       "\t Madrid          & Entire home/apt & Palacio         &  5              & 3.0             & 3               &  3              & 192             & NA              & 2               & 12              &  80             & 40.42017        &   -3.7126287   \\\\\n",
       "\t Madrid          & Entire home/apt & La Latina       &  4              & 1.0             & 1               &  1              & 100             & NA              & 2               & 12              &  NA             & 40.40990        &   -3.7109480   \\\\\n",
       "\t Madrid          & Entire home/apt &                 &  4              & 1.0             & 2               &  3              &  70             & NA              & 2               & 15              &  88             & 40.41179        &   -3.7097079   \\\\\n",
       "\t Madrid          & Private room    & La Latina       &  1              & 2.0             & 1               &  1              &  15             & NA              & 1               &  0              &  NA             & 40.41215        &   -3.7080062   \\\\\n",
       "\t Madrid          & Entire home/apt & Palacio         &  5              & 2.0             & 2               &  2              & 100             & NA              & 2               & 15              &  95             & 40.42156        &   -3.7098480   \\\\\n",
       "\t Madrid          & Private room    & La Latina       &  2              & 1.5             & 1               &  1              &  52             & NA              & 1               &  0              &  90             & 40.41277        &   -3.7075910   \\\\\n",
       "\t Madrid          & Entire home/apt & La Latina       &  4              & 2.0             & 2               &  3              & 160             & NA              & 1               &  0              &  93             & 40.41173        &   -3.7126622   \\\\\n",
       "\t Madrid          & Entire home/apt & Palacio         &  4              & 1.0             & 1               &  2              &  80             & NA              & 2               &  0              &  88             & 40.42099        &   -3.7104020   \\\\\n",
       "\t Madrid          & Entire home/apt & Palacio         &  3              & 1.0             & 1               &  1              &  68             & NA              & 2               &  5              &  83             & 40.41203        &   -3.7157788   \\\\\n",
       "\t ... & ... & ... & ... & ... & ... & ... & ... & ... & ... & ... & ... & ... & ...\\\\\n",
       "\t Madrid              & Entire home/apt     & Justicia            & 2                   & 1.0                 & 0                   & 1                   &  74                 &  NA                 & 1                   &   0                 &  93                 & 40.42741            &   -3.699927        \\\\\n",
       "\t Madrid              & Entire home/apt     & Justicia            & 2                   & 1.0                 & 1                   & 1                   &  50                 &  NA                 & 1                   &   0                 &  95                 & 40.42449            &   -3.698675        \\\\\n",
       "\t Madrid              & Private room        & Justicia            & 2                   & 2.0                 & 1                   & 1                   &  35                 &  NA                 & 1                   &   0                 &  96                 & 40.42093            &   -3.697121        \\\\\n",
       "\t Madrid              & Entire home/apt     & Cortes              & 4                   & 1.0                 & 1                   & 2                   &  65                 &  NA                 & 2                   &  10                 & 100                 & 40.41141            &   -3.696039        \\\\\n",
       "\t Madrid              & Entire home/apt     & Cortes              & 4                   & 1.0                 & 1                   & 1                   &  80                 &  NA                 & 1                   &   0                 &  90                 & 40.41269            &   -3.695939        \\\\\n",
       "\t Madrid              & Entire home/apt     &                     & 2                   & 2.0                 & 1                   & 1                   &  55                 &  NA                 & 1                   &   0                 &  97                 & 40.41580            &   -3.695896        \\\\\n",
       "\t Madrid              & Private room        & Cortes              & 2                   & 1.0                 & 1                   & 1                   &  39                 &  NA                 & 1                   &  12                 &  95                 & 40.41216            &   -3.695424        \\\\\n",
       "\t Madrid              & Entire home/apt     &                     & 4                   & 1.0                 & 1                   & 1                   &  55                 &  NA                 & 2                   &  15                 &  86                 & 40.41559            &   -3.701471        \\\\\n",
       "\t Madrid              & Entire home/apt     & Cortes              & 4                   & 1.0                 & 0                   & 2                   &  65                 &  NA                 & 2                   &  15                 &  98                 & 40.41875            &   -3.698898        \\\\\n",
       "\t Madrid              & Entire home/apt     & Cortes              & 9                   & 2.0                 & 2                   & 6                   &  80                 &  NA                 & 2                   &  10                 &  98                 & 40.41632            &   -3.700375        \\\\\n",
       "\t Madrid              & Entire home/apt     & Cortes              & 3                   & 1.0                 & 1                   & 3                   & 200                 &  NA                 & 1                   &   0                 &  NA                 & 40.41428            &   -3.702910        \\\\\n",
       "\t Madrid              & Entire home/apt     & Embajadores         & 4                   & 1.0                 & 1                   & 2                   & 150                 &  NA                 & 1                   &   0                 &  87                 & 40.41143            &   -3.697099        \\\\\n",
       "\t Madrid              & Private room        & Cortes              & 4                   & 1.0                 & 1                   & 3                   &  36                 &   0                 & 2                   &  28                 &  89                 & 40.41652            &   -3.696699        \\\\\n",
       "\t Madrid              & Entire home/apt     & Cortes              & 4                   & 2.0                 & 2                   & 2                   & 127                 &  NA                 & 4                   &  35                 &  93                 & 40.41352            &   -3.696828        \\\\\n",
       "\t Madrid              & Entire home/apt     & Centro              & 4                   & 1.0                 & 1                   & 1                   &  70                 &  NA                 & 1                   &   0                 &  NA                 & 40.41267            &   -3.699217        \\\\\n",
       "\t Madrid              & Entire home/apt     &                     & 4                   & 1.0                 & 1                   & 1                   &  80                 &  NA                 & 2                   &   5                 &  98                 & 40.41187            &   -3.697796        \\\\\n",
       "\t Centro              & Private room        & Cortes              & 2                   & 1.0                 & 1                   & 1                   &  55                 &  NA                 & 1                   &  20                 &  91                 & 40.41133            &   -3.694809        \\\\\n",
       "\t Madrid              & Entire home/apt     & Cortes              & 4                   & 1.0                 & 1                   & 3                   &  80                 &  NA                 & 2                   &   9                 &  95                 & 40.41293            &   -3.695167        \\\\\n",
       "\t Madrid              & Private room        &                     & 3                   & 2.0                 & 1                   & 2                   &  50                 &  NA                 & 2                   &  18                 &  80                 & 40.41465            &   -3.697372        \\\\\n",
       "\t Madrid              & Entire home/apt     &                     & 4                   & 1.0                 & 1                   & 2                   &  70                 &  NA                 & 2                   &  10                 &  94                 & 40.41412            &   -3.697248        \\\\\n",
       "\t Madrid              & Entire home/apt     &                     & 6                   & 1.0                 & 2                   & 4                   &  89                 &  NA                 & 2                   &  10                 &  96                 & 40.41411            &   -3.701141        \\\\\n",
       "\t Los Angeles         & Private room        &                     & 2                   & 1.0                 & 1                   & 1                   & 100                 &  NA                 & 1                   &  35                 &  84                 & 34.05144            & -118.264406        \\\\\n",
       "\t Barcelona           & Entire home/apt     & Vila de GrÃ cia     & 6                   & 2.0                 & 2                   & 3                   & 132                 &  NA                 & 1                   &   0                 &  80                 & 41.40085            &    2.155299        \\\\\n",
       "\t Amsterdam           & Private room        &                     & 2                   & 1.0                 & 1                   & 1                   &  89                 &  NA                 & 1                   &  10                 &  94                 & 52.38299            &    4.802410        \\\\\n",
       "\t Barcelona           & Entire home/apt     & Dreta de l'Eixample & 6                   & 1.0                 & 2                   & 3                   & 179                 & 861                 & 2                   &  39                 &  90                 & 41.39724            &    2.169795        \\\\\n",
       "\t Barcelona           & Private room        & el Fort Pienc       & 1                   & 1.5                 & 1                   & 1                   &  30                 &  NA                 & 1                   &   0                 &  97                 & 41.39934            &    2.178007        \\\\\n",
       "\t Barcelona           & Entire home/apt     & Dreta de l'Eixample & 6                   & 1.0                 & 2                   & 3                   &  99                 &  NA                 & 2                   &  30                 & 100                 & 41.39465            &    2.162502        \\\\\n",
       "\t Barcelona           & Entire home/apt     &                     & 6                   & 2.0                 & 2                   & 2                   & 100                 &  NA                 & 2                   & 105                 &  NA                 & 41.38818            &    2.171467        \\\\\n",
       "\t Berlin              & Private room        &                     & 1                   & 1.0                 & 1                   & 1                   &  75                 &  NA                 & 1                   &   0                 &  92                 & 52.52776            &   13.395542        \\\\\n",
       "\t Barcelona           & Entire home/apt     &                     & 8                   & 2.0                 & 3                   & 7                   &  80                 &  NA                 & 3                   &   5                 &  83                 & 41.36478            &    2.139083        \\\\\n",
       "\\end{tabular}\n"
      ],
      "text/markdown": [
       "\n",
       "| City | Room.Type | Neighbourhood | Accommodates | Bathrooms | Bedrooms | Beds | Price | Square.Feet | Guests.Included | Extra.People | Review.Scores.Rating | Latitude | Longitude |\n",
       "|---|---|---|---|---|---|---|---|---|---|---|---|---|---|\n",
       "| Madrid          | Entire home/apt |                 |  2              | 1.0             | 0               |  1              |  50             | NA              | 2               | 15              |  96             | 40.40745        |   -3.7079955    |\n",
       "| Madrid          | Entire home/apt |                 |  4              | 1.0             | 1               |  2              |  50             | NA              | 2               | 25              |  81             | 40.40832        |   -3.7050064    |\n",
       "| Madrid          | Entire home/apt |                 |  4              | 1.5             | 1               |  2              |  77             | NA              | 1               |  0              |  89             | 40.41372        |   -3.7068231    |\n",
       "| Madrid          | Entire home/apt | Embajadores     |  2              | 1.0             | 1               |  2              |  50             | NA              | 1               | 20              |  93             | 40.41126        |   -3.6973054    |\n",
       "| Madrid          | Entire home/apt | Embajadores     |  5              | 1.0             | 2               |  4              |  95             | NA              | 4               |  0              |  97             | 40.41256        |   -3.7011554    |\n",
       "| Madrid          | Entire home/apt | La Latina       |  4              | 1.0             | 1               |  2              |  69             | NA              | 2               | 18              |  91             | 40.40791        |   -3.7050954    |\n",
       "| Madrid          | Entire home/apt |                 |  2              | 1.0             | 1               |  1              |  70             | NA              | 1               |  0              | 100             | 40.40898        |   -3.6982515    |\n",
       "| Madrid          | Private room    | La Latina       |  2              | 1.5             | 1               |  1              |  30             | NA              | 1               |  0              |  80             | 40.40836        |   -3.7040433    |\n",
       "| Madrid          | Entire home/apt | Embajadores     |  4              | 1.0             | 1               |  2              |  57             | NA              | 2               |  8              |  98             | 40.41162        |   -3.7032811    |\n",
       "| Madrid          | Entire home/apt | La Latina       |  2              | 1.0             | 1               |  1              |  59             | NA              | 1               |  0              |  95             | 40.40734        |   -3.7070192    |\n",
       "| Madrid          | Entire home/apt |                 |  8              | 1.5             | 4               |  5              | 160             | NA              | 4               | 15              |  98             | 40.41056        |   -3.7064286    |\n",
       "| Madrid          | Private room    |                 |  2              | 1.0             | 1               |  1              |  25             | NA              | 1               |  0              |  NA             | 40.41216        |   -3.7018281    |\n",
       "| Madrid          | Entire home/apt |                 |  2              | 1.0             | 1               |  2              |  70             | NA              | 1               |  0              |  NA             | 40.41286        |   -3.7030505    |\n",
       "| Madrid          | Entire home/apt |                 |  7              | 2.0             | 3               |  5              | 150             | NA              | 4               | 25              |  97             | 40.41359        |   -3.7031695    |\n",
       "| Madrid          | Entire home/apt | La Latina       | 14              | 2.0             | 3               | 14              | 120             | NA              | 2               | 18              |  92             | 40.40908        |   -3.7047445    |\n",
       "| Madrid          | Entire home/apt |                 |  2              | 1.0             | 1               |  2              |  45             | NA              | 1               |  8              |  95             | 40.40553        |   -3.7023778    |\n",
       "| Madrid          | Private room    | La Latina       |  2              | 1.0             | 1               |  1              |  37             | NA              | 1               |  0              |  96             | 40.41196        |   -3.7069477    |\n",
       "| London          | Private room    | LB of Islington |  2              | 1.0             | 1               |  1              |  55             | NA              | 1               | 15              |  NA             | 51.54754        |   -0.0767345    |\n",
       "| Los Angeles     | Entire home/apt |                 |  3              | 1.0             | 1               |  1              | 145             | NA              | 2               | 20              |  93             | 34.04591        | -118.2315683    |\n",
       "| Santa Monica    | Private room    | Santa Monica    |  2              | 2.0             | 1               |  1              |  95             | NA              | 1               |  0              |  95             | 34.01992        | -118.4968223    |\n",
       "| Madrid          | Entire home/apt | La Latina       |  2              | 1.0             | 1               |  1              |  89             | NA              | 1               | 10              |  98             | 40.41007        |   -3.7106237    |\n",
       "| Madrid          | Entire home/apt | Palacio         |  5              | 3.0             | 3               |  3              | 192             | NA              | 2               | 12              |  80             | 40.42017        |   -3.7126287    |\n",
       "| Madrid          | Entire home/apt | La Latina       |  4              | 1.0             | 1               |  1              | 100             | NA              | 2               | 12              |  NA             | 40.40990        |   -3.7109480    |\n",
       "| Madrid          | Entire home/apt |                 |  4              | 1.0             | 2               |  3              |  70             | NA              | 2               | 15              |  88             | 40.41179        |   -3.7097079    |\n",
       "| Madrid          | Private room    | La Latina       |  1              | 2.0             | 1               |  1              |  15             | NA              | 1               |  0              |  NA             | 40.41215        |   -3.7080062    |\n",
       "| Madrid          | Entire home/apt | Palacio         |  5              | 2.0             | 2               |  2              | 100             | NA              | 2               | 15              |  95             | 40.42156        |   -3.7098480    |\n",
       "| Madrid          | Private room    | La Latina       |  2              | 1.5             | 1               |  1              |  52             | NA              | 1               |  0              |  90             | 40.41277        |   -3.7075910    |\n",
       "| Madrid          | Entire home/apt | La Latina       |  4              | 2.0             | 2               |  3              | 160             | NA              | 1               |  0              |  93             | 40.41173        |   -3.7126622    |\n",
       "| Madrid          | Entire home/apt | Palacio         |  4              | 1.0             | 1               |  2              |  80             | NA              | 2               |  0              |  88             | 40.42099        |   -3.7104020    |\n",
       "| Madrid          | Entire home/apt | Palacio         |  3              | 1.0             | 1               |  1              |  68             | NA              | 2               |  5              |  83             | 40.41203        |   -3.7157788    |\n",
       "| ... | ... | ... | ... | ... | ... | ... | ... | ... | ... | ... | ... | ... | ... |\n",
       "| Madrid              | Entire home/apt     | Justicia            | 2                   | 1.0                 | 0                   | 1                   |  74                 |  NA                 | 1                   |   0                 |  93                 | 40.42741            |   -3.699927         |\n",
       "| Madrid              | Entire home/apt     | Justicia            | 2                   | 1.0                 | 1                   | 1                   |  50                 |  NA                 | 1                   |   0                 |  95                 | 40.42449            |   -3.698675         |\n",
       "| Madrid              | Private room        | Justicia            | 2                   | 2.0                 | 1                   | 1                   |  35                 |  NA                 | 1                   |   0                 |  96                 | 40.42093            |   -3.697121         |\n",
       "| Madrid              | Entire home/apt     | Cortes              | 4                   | 1.0                 | 1                   | 2                   |  65                 |  NA                 | 2                   |  10                 | 100                 | 40.41141            |   -3.696039         |\n",
       "| Madrid              | Entire home/apt     | Cortes              | 4                   | 1.0                 | 1                   | 1                   |  80                 |  NA                 | 1                   |   0                 |  90                 | 40.41269            |   -3.695939         |\n",
       "| Madrid              | Entire home/apt     |                     | 2                   | 2.0                 | 1                   | 1                   |  55                 |  NA                 | 1                   |   0                 |  97                 | 40.41580            |   -3.695896         |\n",
       "| Madrid              | Private room        | Cortes              | 2                   | 1.0                 | 1                   | 1                   |  39                 |  NA                 | 1                   |  12                 |  95                 | 40.41216            |   -3.695424         |\n",
       "| Madrid              | Entire home/apt     |                     | 4                   | 1.0                 | 1                   | 1                   |  55                 |  NA                 | 2                   |  15                 |  86                 | 40.41559            |   -3.701471         |\n",
       "| Madrid              | Entire home/apt     | Cortes              | 4                   | 1.0                 | 0                   | 2                   |  65                 |  NA                 | 2                   |  15                 |  98                 | 40.41875            |   -3.698898         |\n",
       "| Madrid              | Entire home/apt     | Cortes              | 9                   | 2.0                 | 2                   | 6                   |  80                 |  NA                 | 2                   |  10                 |  98                 | 40.41632            |   -3.700375         |\n",
       "| Madrid              | Entire home/apt     | Cortes              | 3                   | 1.0                 | 1                   | 3                   | 200                 |  NA                 | 1                   |   0                 |  NA                 | 40.41428            |   -3.702910         |\n",
       "| Madrid              | Entire home/apt     | Embajadores         | 4                   | 1.0                 | 1                   | 2                   | 150                 |  NA                 | 1                   |   0                 |  87                 | 40.41143            |   -3.697099         |\n",
       "| Madrid              | Private room        | Cortes              | 4                   | 1.0                 | 1                   | 3                   |  36                 |   0                 | 2                   |  28                 |  89                 | 40.41652            |   -3.696699         |\n",
       "| Madrid              | Entire home/apt     | Cortes              | 4                   | 2.0                 | 2                   | 2                   | 127                 |  NA                 | 4                   |  35                 |  93                 | 40.41352            |   -3.696828         |\n",
       "| Madrid              | Entire home/apt     | Centro              | 4                   | 1.0                 | 1                   | 1                   |  70                 |  NA                 | 1                   |   0                 |  NA                 | 40.41267            |   -3.699217         |\n",
       "| Madrid              | Entire home/apt     |                     | 4                   | 1.0                 | 1                   | 1                   |  80                 |  NA                 | 2                   |   5                 |  98                 | 40.41187            |   -3.697796         |\n",
       "| Centro              | Private room        | Cortes              | 2                   | 1.0                 | 1                   | 1                   |  55                 |  NA                 | 1                   |  20                 |  91                 | 40.41133            |   -3.694809         |\n",
       "| Madrid              | Entire home/apt     | Cortes              | 4                   | 1.0                 | 1                   | 3                   |  80                 |  NA                 | 2                   |   9                 |  95                 | 40.41293            |   -3.695167         |\n",
       "| Madrid              | Private room        |                     | 3                   | 2.0                 | 1                   | 2                   |  50                 |  NA                 | 2                   |  18                 |  80                 | 40.41465            |   -3.697372         |\n",
       "| Madrid              | Entire home/apt     |                     | 4                   | 1.0                 | 1                   | 2                   |  70                 |  NA                 | 2                   |  10                 |  94                 | 40.41412            |   -3.697248         |\n",
       "| Madrid              | Entire home/apt     |                     | 6                   | 1.0                 | 2                   | 4                   |  89                 |  NA                 | 2                   |  10                 |  96                 | 40.41411            |   -3.701141         |\n",
       "| Los Angeles         | Private room        |                     | 2                   | 1.0                 | 1                   | 1                   | 100                 |  NA                 | 1                   |  35                 |  84                 | 34.05144            | -118.264406         |\n",
       "| Barcelona           | Entire home/apt     | Vila de GrÃ cia     | 6                   | 2.0                 | 2                   | 3                   | 132                 |  NA                 | 1                   |   0                 |  80                 | 41.40085            |    2.155299         |\n",
       "| Amsterdam           | Private room        |                     | 2                   | 1.0                 | 1                   | 1                   |  89                 |  NA                 | 1                   |  10                 |  94                 | 52.38299            |    4.802410         |\n",
       "| Barcelona           | Entire home/apt     | Dreta de l'Eixample | 6                   | 1.0                 | 2                   | 3                   | 179                 | 861                 | 2                   |  39                 |  90                 | 41.39724            |    2.169795         |\n",
       "| Barcelona           | Private room        | el Fort Pienc       | 1                   | 1.5                 | 1                   | 1                   |  30                 |  NA                 | 1                   |   0                 |  97                 | 41.39934            |    2.178007         |\n",
       "| Barcelona           | Entire home/apt     | Dreta de l'Eixample | 6                   | 1.0                 | 2                   | 3                   |  99                 |  NA                 | 2                   |  30                 | 100                 | 41.39465            |    2.162502         |\n",
       "| Barcelona           | Entire home/apt     |                     | 6                   | 2.0                 | 2                   | 2                   | 100                 |  NA                 | 2                   | 105                 |  NA                 | 41.38818            |    2.171467         |\n",
       "| Berlin              | Private room        |                     | 1                   | 1.0                 | 1                   | 1                   |  75                 |  NA                 | 1                   |   0                 |  92                 | 52.52776            |   13.395542         |\n",
       "| Barcelona           | Entire home/apt     |                     | 8                   | 2.0                 | 3                   | 7                   |  80                 |  NA                 | 3                   |   5                 |  83                 | 41.36478            |    2.139083         |\n",
       "\n"
      ],
      "text/plain": [
       "      City         Room.Type       Neighbourhood       Accommodates Bathrooms\n",
       "1     Madrid       Entire home/apt                      2           1.0      \n",
       "2     Madrid       Entire home/apt                      4           1.0      \n",
       "3     Madrid       Entire home/apt                      4           1.5      \n",
       "4     Madrid       Entire home/apt Embajadores          2           1.0      \n",
       "5     Madrid       Entire home/apt Embajadores          5           1.0      \n",
       "6     Madrid       Entire home/apt La Latina            4           1.0      \n",
       "7     Madrid       Entire home/apt                      2           1.0      \n",
       "8     Madrid       Private room    La Latina            2           1.5      \n",
       "9     Madrid       Entire home/apt Embajadores          4           1.0      \n",
       "10    Madrid       Entire home/apt La Latina            2           1.0      \n",
       "11    Madrid       Entire home/apt                      8           1.5      \n",
       "12    Madrid       Private room                         2           1.0      \n",
       "13    Madrid       Entire home/apt                      2           1.0      \n",
       "14    Madrid       Entire home/apt                      7           2.0      \n",
       "15    Madrid       Entire home/apt La Latina           14           2.0      \n",
       "16    Madrid       Entire home/apt                      2           1.0      \n",
       "17    Madrid       Private room    La Latina            2           1.0      \n",
       "18    London       Private room    LB of Islington      2           1.0      \n",
       "19    Los Angeles  Entire home/apt                      3           1.0      \n",
       "20    Santa Monica Private room    Santa Monica         2           2.0      \n",
       "21    Madrid       Entire home/apt La Latina            2           1.0      \n",
       "22    Madrid       Entire home/apt Palacio              5           3.0      \n",
       "23    Madrid       Entire home/apt La Latina            4           1.0      \n",
       "24    Madrid       Entire home/apt                      4           1.0      \n",
       "25    Madrid       Private room    La Latina            1           2.0      \n",
       "26    Madrid       Entire home/apt Palacio              5           2.0      \n",
       "27    Madrid       Private room    La Latina            2           1.5      \n",
       "28    Madrid       Entire home/apt La Latina            4           2.0      \n",
       "29    Madrid       Entire home/apt Palacio              4           1.0      \n",
       "30    Madrid       Entire home/apt Palacio              3           1.0      \n",
       "...   ...          ...             ...                 ...          ...      \n",
       "14751 Madrid       Entire home/apt Justicia            2            1.0      \n",
       "14752 Madrid       Entire home/apt Justicia            2            1.0      \n",
       "14753 Madrid       Private room    Justicia            2            2.0      \n",
       "14754 Madrid       Entire home/apt Cortes              4            1.0      \n",
       "14755 Madrid       Entire home/apt Cortes              4            1.0      \n",
       "14756 Madrid       Entire home/apt                     2            2.0      \n",
       "14757 Madrid       Private room    Cortes              2            1.0      \n",
       "14758 Madrid       Entire home/apt                     4            1.0      \n",
       "14759 Madrid       Entire home/apt Cortes              4            1.0      \n",
       "14760 Madrid       Entire home/apt Cortes              9            2.0      \n",
       "14761 Madrid       Entire home/apt Cortes              3            1.0      \n",
       "14762 Madrid       Entire home/apt Embajadores         4            1.0      \n",
       "14763 Madrid       Private room    Cortes              4            1.0      \n",
       "14764 Madrid       Entire home/apt Cortes              4            2.0      \n",
       "14765 Madrid       Entire home/apt Centro              4            1.0      \n",
       "14766 Madrid       Entire home/apt                     4            1.0      \n",
       "14767 Centro       Private room    Cortes              2            1.0      \n",
       "14768 Madrid       Entire home/apt Cortes              4            1.0      \n",
       "14769 Madrid       Private room                        3            2.0      \n",
       "14770 Madrid       Entire home/apt                     4            1.0      \n",
       "14771 Madrid       Entire home/apt                     6            1.0      \n",
       "14772 Los Angeles  Private room                        2            1.0      \n",
       "14773 Barcelona    Entire home/apt Vila de GrÃ cia     6            2.0      \n",
       "14774 Amsterdam    Private room                        2            1.0      \n",
       "14775 Barcelona    Entire home/apt Dreta de l'Eixample 6            1.0      \n",
       "14776 Barcelona    Private room    el Fort Pienc       1            1.5      \n",
       "14777 Barcelona    Entire home/apt Dreta de l'Eixample 6            1.0      \n",
       "14778 Barcelona    Entire home/apt                     6            2.0      \n",
       "14779 Berlin       Private room                        1            1.0      \n",
       "14780 Barcelona    Entire home/apt                     8            2.0      \n",
       "      Bedrooms Beds Price Square.Feet Guests.Included Extra.People\n",
       "1     0         1    50   NA          2               15          \n",
       "2     1         2    50   NA          2               25          \n",
       "3     1         2    77   NA          1                0          \n",
       "4     1         2    50   NA          1               20          \n",
       "5     2         4    95   NA          4                0          \n",
       "6     1         2    69   NA          2               18          \n",
       "7     1         1    70   NA          1                0          \n",
       "8     1         1    30   NA          1                0          \n",
       "9     1         2    57   NA          2                8          \n",
       "10    1         1    59   NA          1                0          \n",
       "11    4         5   160   NA          4               15          \n",
       "12    1         1    25   NA          1                0          \n",
       "13    1         2    70   NA          1                0          \n",
       "14    3         5   150   NA          4               25          \n",
       "15    3        14   120   NA          2               18          \n",
       "16    1         2    45   NA          1                8          \n",
       "17    1         1    37   NA          1                0          \n",
       "18    1         1    55   NA          1               15          \n",
       "19    1         1   145   NA          2               20          \n",
       "20    1         1    95   NA          1                0          \n",
       "21    1         1    89   NA          1               10          \n",
       "22    3         3   192   NA          2               12          \n",
       "23    1         1   100   NA          2               12          \n",
       "24    2         3    70   NA          2               15          \n",
       "25    1         1    15   NA          1                0          \n",
       "26    2         2   100   NA          2               15          \n",
       "27    1         1    52   NA          1                0          \n",
       "28    2         3   160   NA          1                0          \n",
       "29    1         2    80   NA          2                0          \n",
       "30    1         1    68   NA          2                5          \n",
       "...   ...      ...  ...   ...         ...             ...         \n",
       "14751 0        1     74    NA         1                 0         \n",
       "14752 1        1     50    NA         1                 0         \n",
       "14753 1        1     35    NA         1                 0         \n",
       "14754 1        2     65    NA         2                10         \n",
       "14755 1        1     80    NA         1                 0         \n",
       "14756 1        1     55    NA         1                 0         \n",
       "14757 1        1     39    NA         1                12         \n",
       "14758 1        1     55    NA         2                15         \n",
       "14759 0        2     65    NA         2                15         \n",
       "14760 2        6     80    NA         2                10         \n",
       "14761 1        3    200    NA         1                 0         \n",
       "14762 1        2    150    NA         1                 0         \n",
       "14763 1        3     36     0         2                28         \n",
       "14764 2        2    127    NA         4                35         \n",
       "14765 1        1     70    NA         1                 0         \n",
       "14766 1        1     80    NA         2                 5         \n",
       "14767 1        1     55    NA         1                20         \n",
       "14768 1        3     80    NA         2                 9         \n",
       "14769 1        2     50    NA         2                18         \n",
       "14770 1        2     70    NA         2                10         \n",
       "14771 2        4     89    NA         2                10         \n",
       "14772 1        1    100    NA         1                35         \n",
       "14773 2        3    132    NA         1                 0         \n",
       "14774 1        1     89    NA         1                10         \n",
       "14775 2        3    179   861         2                39         \n",
       "14776 1        1     30    NA         1                 0         \n",
       "14777 2        3     99    NA         2                30         \n",
       "14778 2        2    100    NA         2               105         \n",
       "14779 1        1     75    NA         1                 0         \n",
       "14780 3        7     80    NA         3                 5         \n",
       "      Review.Scores.Rating Latitude Longitude   \n",
       "1      96                  40.40745   -3.7079955\n",
       "2      81                  40.40832   -3.7050064\n",
       "3      89                  40.41372   -3.7068231\n",
       "4      93                  40.41126   -3.6973054\n",
       "5      97                  40.41256   -3.7011554\n",
       "6      91                  40.40791   -3.7050954\n",
       "7     100                  40.40898   -3.6982515\n",
       "8      80                  40.40836   -3.7040433\n",
       "9      98                  40.41162   -3.7032811\n",
       "10     95                  40.40734   -3.7070192\n",
       "11     98                  40.41056   -3.7064286\n",
       "12     NA                  40.41216   -3.7018281\n",
       "13     NA                  40.41286   -3.7030505\n",
       "14     97                  40.41359   -3.7031695\n",
       "15     92                  40.40908   -3.7047445\n",
       "16     95                  40.40553   -3.7023778\n",
       "17     96                  40.41196   -3.7069477\n",
       "18     NA                  51.54754   -0.0767345\n",
       "19     93                  34.04591 -118.2315683\n",
       "20     95                  34.01992 -118.4968223\n",
       "21     98                  40.41007   -3.7106237\n",
       "22     80                  40.42017   -3.7126287\n",
       "23     NA                  40.40990   -3.7109480\n",
       "24     88                  40.41179   -3.7097079\n",
       "25     NA                  40.41215   -3.7080062\n",
       "26     95                  40.42156   -3.7098480\n",
       "27     90                  40.41277   -3.7075910\n",
       "28     93                  40.41173   -3.7126622\n",
       "29     88                  40.42099   -3.7104020\n",
       "30     83                  40.41203   -3.7157788\n",
       "...   ...                  ...      ...         \n",
       "14751  93                  40.42741   -3.699927 \n",
       "14752  95                  40.42449   -3.698675 \n",
       "14753  96                  40.42093   -3.697121 \n",
       "14754 100                  40.41141   -3.696039 \n",
       "14755  90                  40.41269   -3.695939 \n",
       "14756  97                  40.41580   -3.695896 \n",
       "14757  95                  40.41216   -3.695424 \n",
       "14758  86                  40.41559   -3.701471 \n",
       "14759  98                  40.41875   -3.698898 \n",
       "14760  98                  40.41632   -3.700375 \n",
       "14761  NA                  40.41428   -3.702910 \n",
       "14762  87                  40.41143   -3.697099 \n",
       "14763  89                  40.41652   -3.696699 \n",
       "14764  93                  40.41352   -3.696828 \n",
       "14765  NA                  40.41267   -3.699217 \n",
       "14766  98                  40.41187   -3.697796 \n",
       "14767  91                  40.41133   -3.694809 \n",
       "14768  95                  40.41293   -3.695167 \n",
       "14769  80                  40.41465   -3.697372 \n",
       "14770  94                  40.41412   -3.697248 \n",
       "14771  96                  40.41411   -3.701141 \n",
       "14772  84                  34.05144 -118.264406 \n",
       "14773  80                  41.40085    2.155299 \n",
       "14774  94                  52.38299    4.802410 \n",
       "14775  90                  41.39724    2.169795 \n",
       "14776  97                  41.39934    2.178007 \n",
       "14777 100                  41.39465    2.162502 \n",
       "14778  NA                  41.38818    2.171467 \n",
       "14779  92                  52.52776   13.395542 \n",
       "14780  83                  41.36478    2.139083 "
      ]
     },
     "metadata": {},
     "output_type": "display_data"
    }
   ],
   "source": [
    "library(dplyr) #se usa la libreria para poder utilizar la función Select.\n",
    "airbnb <- select(airbnb, 'City','Room.Type','Neighbourhood','Accommodates','Bathrooms','Bedrooms','Beds','Price','Square.Feet','Guests.Included','Extra.People','Review.Scores.Rating','Latitude', 'Longitude')\n",
    "airbnb"
   ]
  },
  {
   "cell_type": "markdown",
   "metadata": {},
   "source": [
    "Nos quedarmos solo con las entradas de Madrid para Room.Type==\"Entire home/apt\" y cuyo barrio (Neighbourhood) no está vacio ''\n",
    "Podemos eliminar las siguientes columnas que ya no son necesarias:\n",
    "\"Room.Type\",'City'\n",
    "\n",
    "Llama a nuevo dataframe df_madrid."
   ]
  },
  {
   "cell_type": "code",
   "execution_count": 3,
   "metadata": {},
   "outputs": [
    {
     "name": "stderr",
     "output_type": "stream",
     "text": [
      "Registered S3 methods overwritten by 'ggplot2':\n",
      "  method         from \n",
      "  [.quosures     rlang\n",
      "  c.quosures     rlang\n",
      "  print.quosures rlang\n",
      "Registered S3 method overwritten by 'rvest':\n",
      "  method            from\n",
      "  read_xml.response xml2\n",
      "-- Attaching packages --------------------------------------- tidyverse 1.2.1 --\n",
      "v ggplot2 3.1.1     v readr   1.3.1\n",
      "v tibble  2.1.1     v purrr   0.3.2\n",
      "v tidyr   0.8.3     v stringr 1.4.0\n",
      "v ggplot2 3.1.1     v forcats 0.4.0\n",
      "-- Conflicts ------------------------------------------ tidyverse_conflicts() --\n",
      "x dplyr::filter() masks stats::filter()\n",
      "x dplyr::lag()    masks stats::lag()\n"
     ]
    },
    {
     "data": {
      "text/html": [
       "<table>\n",
       "<thead><tr><th scope=col>Neighbourhood</th><th scope=col>Accommodates</th><th scope=col>Bathrooms</th><th scope=col>Bedrooms</th><th scope=col>Beds</th><th scope=col>Price</th><th scope=col>Square.Feet</th><th scope=col>Guests.Included</th><th scope=col>Extra.People</th><th scope=col>Review.Scores.Rating</th><th scope=col>Latitude</th><th scope=col>Longitude</th></tr></thead>\n",
       "<tbody>\n",
       "\t<tr><td>Embajadores</td><td>2          </td><td>1          </td><td>1          </td><td>2          </td><td>50         </td><td>NA         </td><td>1          </td><td>20         </td><td>93         </td><td>40.41126   </td><td>-3.697305  </td></tr>\n",
       "\t<tr><td>Embajadores</td><td>5          </td><td>1          </td><td>2          </td><td>4          </td><td>95         </td><td>NA         </td><td>4          </td><td> 0         </td><td>97         </td><td>40.41256   </td><td>-3.701155  </td></tr>\n",
       "\t<tr><td>La Latina  </td><td>4          </td><td>1          </td><td>1          </td><td>2          </td><td>69         </td><td>NA         </td><td>2          </td><td>18         </td><td>91         </td><td>40.40791   </td><td>-3.705095  </td></tr>\n",
       "\t<tr><td>Embajadores</td><td>4          </td><td>1          </td><td>1          </td><td>2          </td><td>57         </td><td>NA         </td><td>2          </td><td> 8         </td><td>98         </td><td>40.41162   </td><td>-3.703281  </td></tr>\n",
       "\t<tr><td>La Latina  </td><td>2          </td><td>1          </td><td>1          </td><td>1          </td><td>59         </td><td>NA         </td><td>1          </td><td> 0         </td><td>95         </td><td>40.40734   </td><td>-3.707019  </td></tr>\n",
       "</tbody>\n",
       "</table>\n"
      ],
      "text/latex": [
       "\\begin{tabular}{r|llllllllllll}\n",
       " Neighbourhood & Accommodates & Bathrooms & Bedrooms & Beds & Price & Square.Feet & Guests.Included & Extra.People & Review.Scores.Rating & Latitude & Longitude\\\\\n",
       "\\hline\n",
       "\t Embajadores & 2           & 1           & 1           & 2           & 50          & NA          & 1           & 20          & 93          & 40.41126    & -3.697305  \\\\\n",
       "\t Embajadores & 5           & 1           & 2           & 4           & 95          & NA          & 4           &  0          & 97          & 40.41256    & -3.701155  \\\\\n",
       "\t La Latina   & 4           & 1           & 1           & 2           & 69          & NA          & 2           & 18          & 91          & 40.40791    & -3.705095  \\\\\n",
       "\t Embajadores & 4           & 1           & 1           & 2           & 57          & NA          & 2           &  8          & 98          & 40.41162    & -3.703281  \\\\\n",
       "\t La Latina   & 2           & 1           & 1           & 1           & 59          & NA          & 1           &  0          & 95          & 40.40734    & -3.707019  \\\\\n",
       "\\end{tabular}\n"
      ],
      "text/markdown": [
       "\n",
       "| Neighbourhood | Accommodates | Bathrooms | Bedrooms | Beds | Price | Square.Feet | Guests.Included | Extra.People | Review.Scores.Rating | Latitude | Longitude |\n",
       "|---|---|---|---|---|---|---|---|---|---|---|---|\n",
       "| Embajadores | 2           | 1           | 1           | 2           | 50          | NA          | 1           | 20          | 93          | 40.41126    | -3.697305   |\n",
       "| Embajadores | 5           | 1           | 2           | 4           | 95          | NA          | 4           |  0          | 97          | 40.41256    | -3.701155   |\n",
       "| La Latina   | 4           | 1           | 1           | 2           | 69          | NA          | 2           | 18          | 91          | 40.40791    | -3.705095   |\n",
       "| Embajadores | 4           | 1           | 1           | 2           | 57          | NA          | 2           |  8          | 98          | 40.41162    | -3.703281   |\n",
       "| La Latina   | 2           | 1           | 1           | 1           | 59          | NA          | 1           |  0          | 95          | 40.40734    | -3.707019   |\n",
       "\n"
      ],
      "text/plain": [
       "  Neighbourhood Accommodates Bathrooms Bedrooms Beds Price Square.Feet\n",
       "1 Embajadores   2            1         1        2    50    NA         \n",
       "2 Embajadores   5            1         2        4    95    NA         \n",
       "3 La Latina     4            1         1        2    69    NA         \n",
       "4 Embajadores   4            1         1        2    57    NA         \n",
       "5 La Latina     2            1         1        1    59    NA         \n",
       "  Guests.Included Extra.People Review.Scores.Rating Latitude Longitude\n",
       "1 1               20           93                   40.41126 -3.697305\n",
       "2 4                0           97                   40.41256 -3.701155\n",
       "3 2               18           91                   40.40791 -3.705095\n",
       "4 2                8           98                   40.41162 -3.703281\n",
       "5 1                0           95                   40.40734 -3.707019"
      ]
     },
     "metadata": {},
     "output_type": "display_data"
    }
   ],
   "source": [
    "library(tidyverse)\n",
    "#Hacemos aplicamos un filtro para hacer el nuevo dataframe: \"df_madrid\" con sus respectivas condiciones:\n",
    "df_madrid <- filter(airbnb, City==\"Madrid\" & Room.Type==\"Entire home/apt\" & Neighbourhood!=\"\")\n",
    "#Eliminamos las columnas que ya no son necesarias:\n",
    "df_madrid <- select(df_madrid, -Room.Type,-City)\n",
    "head(df_madrid,5)"
   ]
  },
  {
   "cell_type": "markdown",
   "metadata": {},
   "source": [
    "Crea una nueva columna llamada Square.Meters a partir de Square.Feet. Recuerda que un pie cuadrado son 0.092903 metros cuadrados."
   ]
  },
  {
   "cell_type": "code",
   "execution_count": 4,
   "metadata": {},
   "outputs": [
    {
     "data": {
      "text/html": [
       "<table>\n",
       "<thead><tr><th scope=col>Neighbourhood</th><th scope=col>Accommodates</th><th scope=col>Bathrooms</th><th scope=col>Bedrooms</th><th scope=col>Beds</th><th scope=col>Price</th><th scope=col>Square.Feet</th><th scope=col>Guests.Included</th><th scope=col>Extra.People</th><th scope=col>Review.Scores.Rating</th><th scope=col>Latitude</th><th scope=col>Longitude</th><th scope=col>Square.Meters</th></tr></thead>\n",
       "<tbody>\n",
       "\t<tr><td>Embajadores</td><td> 2         </td><td>1          </td><td>1          </td><td> 2         </td><td> 50        </td><td>NA         </td><td>1          </td><td>20         </td><td>93         </td><td>40.41126   </td><td>-3.697305  </td><td>NA         </td></tr>\n",
       "\t<tr><td>Embajadores</td><td> 5         </td><td>1          </td><td>2          </td><td> 4         </td><td> 95        </td><td>NA         </td><td>4          </td><td> 0         </td><td>97         </td><td>40.41256   </td><td>-3.701155  </td><td>NA         </td></tr>\n",
       "\t<tr><td>La Latina  </td><td> 4         </td><td>1          </td><td>1          </td><td> 2         </td><td> 69        </td><td>NA         </td><td>2          </td><td>18         </td><td>91         </td><td>40.40791   </td><td>-3.705095  </td><td>NA         </td></tr>\n",
       "\t<tr><td>Embajadores</td><td> 4         </td><td>1          </td><td>1          </td><td> 2         </td><td> 57        </td><td>NA         </td><td>2          </td><td> 8         </td><td>98         </td><td>40.41162   </td><td>-3.703281  </td><td>NA         </td></tr>\n",
       "\t<tr><td>La Latina  </td><td> 2         </td><td>1          </td><td>1          </td><td> 1         </td><td> 59        </td><td>NA         </td><td>1          </td><td> 0         </td><td>95         </td><td>40.40734   </td><td>-3.707019  </td><td>NA         </td></tr>\n",
       "\t<tr><td>La Latina  </td><td>14         </td><td>2          </td><td>3          </td><td>14         </td><td>120        </td><td>NA         </td><td>2          </td><td>18         </td><td>92         </td><td>40.40908   </td><td>-3.704744  </td><td>NA         </td></tr>\n",
       "</tbody>\n",
       "</table>\n"
      ],
      "text/latex": [
       "\\begin{tabular}{r|lllllllllllll}\n",
       " Neighbourhood & Accommodates & Bathrooms & Bedrooms & Beds & Price & Square.Feet & Guests.Included & Extra.People & Review.Scores.Rating & Latitude & Longitude & Square.Meters\\\\\n",
       "\\hline\n",
       "\t Embajadores &  2          & 1           & 1           &  2          &  50         & NA          & 1           & 20          & 93          & 40.41126    & -3.697305   & NA         \\\\\n",
       "\t Embajadores &  5          & 1           & 2           &  4          &  95         & NA          & 4           &  0          & 97          & 40.41256    & -3.701155   & NA         \\\\\n",
       "\t La Latina   &  4          & 1           & 1           &  2          &  69         & NA          & 2           & 18          & 91          & 40.40791    & -3.705095   & NA         \\\\\n",
       "\t Embajadores &  4          & 1           & 1           &  2          &  57         & NA          & 2           &  8          & 98          & 40.41162    & -3.703281   & NA         \\\\\n",
       "\t La Latina   &  2          & 1           & 1           &  1          &  59         & NA          & 1           &  0          & 95          & 40.40734    & -3.707019   & NA         \\\\\n",
       "\t La Latina   & 14          & 2           & 3           & 14          & 120         & NA          & 2           & 18          & 92          & 40.40908    & -3.704744   & NA         \\\\\n",
       "\\end{tabular}\n"
      ],
      "text/markdown": [
       "\n",
       "| Neighbourhood | Accommodates | Bathrooms | Bedrooms | Beds | Price | Square.Feet | Guests.Included | Extra.People | Review.Scores.Rating | Latitude | Longitude | Square.Meters |\n",
       "|---|---|---|---|---|---|---|---|---|---|---|---|---|\n",
       "| Embajadores |  2          | 1           | 1           |  2          |  50         | NA          | 1           | 20          | 93          | 40.41126    | -3.697305   | NA          |\n",
       "| Embajadores |  5          | 1           | 2           |  4          |  95         | NA          | 4           |  0          | 97          | 40.41256    | -3.701155   | NA          |\n",
       "| La Latina   |  4          | 1           | 1           |  2          |  69         | NA          | 2           | 18          | 91          | 40.40791    | -3.705095   | NA          |\n",
       "| Embajadores |  4          | 1           | 1           |  2          |  57         | NA          | 2           |  8          | 98          | 40.41162    | -3.703281   | NA          |\n",
       "| La Latina   |  2          | 1           | 1           |  1          |  59         | NA          | 1           |  0          | 95          | 40.40734    | -3.707019   | NA          |\n",
       "| La Latina   | 14          | 2           | 3           | 14          | 120         | NA          | 2           | 18          | 92          | 40.40908    | -3.704744   | NA          |\n",
       "\n"
      ],
      "text/plain": [
       "  Neighbourhood Accommodates Bathrooms Bedrooms Beds Price Square.Feet\n",
       "1 Embajadores    2           1         1         2    50   NA         \n",
       "2 Embajadores    5           1         2         4    95   NA         \n",
       "3 La Latina      4           1         1         2    69   NA         \n",
       "4 Embajadores    4           1         1         2    57   NA         \n",
       "5 La Latina      2           1         1         1    59   NA         \n",
       "6 La Latina     14           2         3        14   120   NA         \n",
       "  Guests.Included Extra.People Review.Scores.Rating Latitude Longitude\n",
       "1 1               20           93                   40.41126 -3.697305\n",
       "2 4                0           97                   40.41256 -3.701155\n",
       "3 2               18           91                   40.40791 -3.705095\n",
       "4 2                8           98                   40.41162 -3.703281\n",
       "5 1                0           95                   40.40734 -3.707019\n",
       "6 2               18           92                   40.40908 -3.704744\n",
       "  Square.Meters\n",
       "1 NA           \n",
       "2 NA           \n",
       "3 NA           \n",
       "4 NA           \n",
       "5 NA           \n",
       "6 NA           "
      ]
     },
     "metadata": {},
     "output_type": "display_data"
    }
   ],
   "source": [
    "#Usamos la función mutate(): para crear una nueva columna con lo que nos pide:\n",
    "df_madrid <- mutate(df_madrid, Square.Meters=Square.Feet*0.092903)\n",
    "head(df_madrid)"
   ]
  },
  {
   "cell_type": "markdown",
   "metadata": {},
   "source": [
    "¿Que porcentaje de los apartamentos no muestran los metros cuadrados? Es decir, ¿cuantos tienen NA en Square.Meters?"
   ]
  },
  {
   "cell_type": "code",
   "execution_count": 5,
   "metadata": {},
   "outputs": [
    {
     "data": {
      "text/html": [
       "'¿Cuantos tienen NA en Square.Meters?'"
      ],
      "text/latex": [
       "'¿Cuantos tienen NA en Square.Meters?'"
      ],
      "text/markdown": [
       "'¿Cuantos tienen NA en Square.Meters?'"
      ],
      "text/plain": [
       "[1] \"¿Cuantos tienen NA en Square.Meters?\""
      ]
     },
     "metadata": {},
     "output_type": "display_data"
    },
    {
     "data": {
      "text/html": [
       "5254"
      ],
      "text/latex": [
       "5254"
      ],
      "text/markdown": [
       "5254"
      ],
      "text/plain": [
       "[1] 5254"
      ]
     },
     "metadata": {},
     "output_type": "display_data"
    },
    {
     "data": {
      "text/html": [
       "'¿Que porcentaje de los apartamentos no muestran los metros cuadrados?:'"
      ],
      "text/latex": [
       "'¿Que porcentaje de los apartamentos no muestran los metros cuadrados?:'"
      ],
      "text/markdown": [
       "'¿Que porcentaje de los apartamentos no muestran los metros cuadrados?:'"
      ],
      "text/plain": [
       "[1] \"¿Que porcentaje de los apartamentos no muestran los metros cuadrados?:\""
      ]
     },
     "metadata": {},
     "output_type": "display_data"
    },
    {
     "data": {
      "text/html": [
       "'El porcentaje es: 93.8046777361185 %'"
      ],
      "text/latex": [
       "'El porcentaje es: 93.8046777361185 \\%'"
      ],
      "text/markdown": [
       "'El porcentaje es: 93.8046777361185 %'"
      ],
      "text/plain": [
       "[1] \"El porcentaje es: 93.8046777361185 %\""
      ]
     },
     "metadata": {},
     "output_type": "display_data"
    }
   ],
   "source": [
    "paste(\"¿Cuantos tienen NA en Square.Meters?\")\n",
    "Square.Meters_NA <- sum(is.na(df_madrid$Square.Meters)) #suma de los que son NA\n",
    "Square.Meters_NA\n",
    "paste(\"¿Que porcentaje de los apartamentos no muestran los metros cuadrados?:\")\n",
    "NA_porcentaje <- paste(\"El porcentaje es:\", ((Square.Meters_NA)/nrow(df_madrid))*100, \"%\") #calculo del porcetaje\n",
    "NA_porcentaje"
   ]
  },
  {
   "cell_type": "markdown",
   "metadata": {},
   "source": [
    "De todos los apartamentos que tienen un valor de metros cuadrados diferente de NA \n",
    "¿Que porcentaje de los apartamentos tienen 0 metros cuadrados?"
   ]
  },
  {
   "cell_type": "code",
   "execution_count": 6,
   "metadata": {},
   "outputs": [
    {
     "data": {
      "text/html": [
       "'¿Que porcentaje de los apartamentos tienen 0 metros cuadrados?'"
      ],
      "text/latex": [
       "'¿Que porcentaje de los apartamentos tienen 0 metros cuadrados?'"
      ],
      "text/markdown": [
       "'¿Que porcentaje de los apartamentos tienen 0 metros cuadrados?'"
      ],
      "text/plain": [
       "[1] \"¿Que porcentaje de los apartamentos tienen 0 metros cuadrados?\""
      ]
     },
     "metadata": {},
     "output_type": "display_data"
    },
    {
     "data": {
      "text/html": [
       "<span style=white-space:pre-wrap>'Los Square.Meters con 0 existentes:  128'</span>"
      ],
      "text/latex": [
       "'Los Square.Meters con 0 existentes:  128'"
      ],
      "text/markdown": [
       "<span style=white-space:pre-wrap>'Los Square.Meters con 0 existentes:  128'</span>"
      ],
      "text/plain": [
       "[1] \"Los Square.Meters con 0 existentes:  128\""
      ]
     },
     "metadata": {},
     "output_type": "display_data"
    },
    {
     "data": {
      "text/html": [
       "'El porcentaje es: 2.28530619532226 %'"
      ],
      "text/latex": [
       "'El porcentaje es: 2.28530619532226 \\%'"
      ],
      "text/markdown": [
       "'El porcentaje es: 2.28530619532226 %'"
      ],
      "text/plain": [
       "[1] \"El porcentaje es: 2.28530619532226 %\""
      ]
     },
     "metadata": {},
     "output_type": "display_data"
    }
   ],
   "source": [
    "paste(\"¿Que porcentaje de los apartamentos tienen 0 metros cuadrados?\")\n",
    "#se suman los valores que son 0 y los que son diferente a NA:\n",
    "cero_cantidad <- sum(df_madrid$Square.Meters == 0 & !is.na(df_madrid$Square.Meters))\n",
    "paste(\"Los Square.Meters con 0 existentes: \", cero_cantidad)\n",
    "cero_porcentaje <- paste(\"El porcentaje es:\", ((cero_cantidad)/nrow(df_madrid))*100, \"%\") #calculo del porcetaje\n",
    "cero_porcentaje"
   ]
  },
  {
   "cell_type": "markdown",
   "metadata": {},
   "source": [
    "Reemplazar todos los 0m^2 por NA "
   ]
  },
  {
   "cell_type": "code",
   "execution_count": 7,
   "metadata": {},
   "outputs": [
    {
     "data": {
      "text/html": [
       "<span style=white-space:pre-wrap>'Los Square.Meters con valor de 0:  128'</span>"
      ],
      "text/latex": [
       "'Los Square.Meters con valor de 0:  128'"
      ],
      "text/markdown": [
       "<span style=white-space:pre-wrap>'Los Square.Meters con valor de 0:  128'</span>"
      ],
      "text/plain": [
       "[1] \"Los Square.Meters con valor de 0:  128\""
      ]
     },
     "metadata": {},
     "output_type": "display_data"
    },
    {
     "data": {
      "text/html": [
       "<span style=white-space:pre-wrap>'Los Square.Meters con valor de NA:  5254'</span>"
      ],
      "text/latex": [
       "'Los Square.Meters con valor de NA:  5254'"
      ],
      "text/markdown": [
       "<span style=white-space:pre-wrap>'Los Square.Meters con valor de NA:  5254'</span>"
      ],
      "text/plain": [
       "[1] \"Los Square.Meters con valor de NA:  5254\""
      ]
     },
     "metadata": {},
     "output_type": "display_data"
    },
    {
     "data": {
      "text/html": [
       "'¿Cuantos tienen NA en Square.Meters?'"
      ],
      "text/latex": [
       "'¿Cuantos tienen NA en Square.Meters?'"
      ],
      "text/markdown": [
       "'¿Cuantos tienen NA en Square.Meters?'"
      ],
      "text/plain": [
       "[1] \"¿Cuantos tienen NA en Square.Meters?\""
      ]
     },
     "metadata": {},
     "output_type": "display_data"
    },
    {
     "data": {
      "text/html": [
       "5382"
      ],
      "text/latex": [
       "5382"
      ],
      "text/markdown": [
       "5382"
      ],
      "text/plain": [
       "[1] 5382"
      ]
     },
     "metadata": {},
     "output_type": "display_data"
    }
   ],
   "source": [
    "#Valores antes de ejecutar el cambio de 0 a NA:\n",
    "paste(\"Los Square.Meters con valor de 0: \", cero_cantidad)\n",
    "paste(\"Los Square.Meters con valor de NA: \", Square.Meters_NA)\n",
    "\n",
    "#Convertir los 0 a NA:\n",
    "df_madrid <- df_madrid %>% mutate(Square.Meters=ifelse(Square.Meters==0, NA, Square.Meters))\n",
    "\n",
    "#Para corroborar de que se aplico correctamente la condición, usamos el codigo anterior del porcentaje de NA:\n",
    "paste(\"¿Cuantos tienen NA en Square.Meters?\")\n",
    "Square.Meters_NA <- sum(is.na(df_madrid$Square.Meters)) #suma de los que son NA\n",
    "Square.Meters_NA"
   ]
  },
  {
   "cell_type": "markdown",
   "metadata": {},
   "source": [
    "Son muchos, vamos a intentar crear un modelo que nos prediga cuantos son los metros cuadrados en función del resto de variables para tratar de rellenar esos NA. Pero **antes de crear el modelo** vamos a hacer:\n",
    "* pintar el histograma de los metros cuadrados y ver si tenemos que filtrar algún elemento más.\n",
    "* crearemos una variable sintética nueva basada en la similitud entre barrios que usaremos en nuestro modelo."
   ]
  },
  {
   "cell_type": "markdown",
   "metadata": {},
   "source": [
    "Pinta el histograma de los metros cuadrados y ver si tenemos que filtrar algún elemento más"
   ]
  },
  {
   "cell_type": "code",
   "execution_count": 8,
   "metadata": {},
   "outputs": [
    {
     "name": "stderr",
     "output_type": "stream",
     "text": [
      "`stat_bin()` using `bins = 30`. Pick better value with `binwidth`.\n",
      "Warning message:\n",
      "\"Removed 5382 rows containing non-finite values (stat_bin).\""
     ]
    },
    {
     "data": {
      "image/png": "[encoded data removed]",
      "text/plain": [
       "plot without title"
      ]
     },
     "metadata": {},
     "output_type": "display_data"
    }
   ],
   "source": [
    "library(ggplot2)\n",
    "ggplot(data=df_madrid)+\n",
    "    geom_histogram(mapping=aes(x=Square.Meters, color=\"balck\"))+\n",
    "    labs(x=\"Metros Cuadrados\")"
   ]
  },
  {
   "cell_type": "markdown",
   "metadata": {},
   "source": []
  },
  {
   "cell_type": "markdown",
   "metadata": {},
   "source": [
    "Asigna el valor NA a la columna Square.Meters de los apartamentos que tengan menos de 20 m^2"
   ]
  },
  {
   "cell_type": "code",
   "execution_count": 9,
   "metadata": {},
   "outputs": [
    {
     "data": {
      "text/html": [
       "<span style=white-space:pre-wrap>'Valores con menos de 20m^2:  45'</span>"
      ],
      "text/latex": [
       "'Valores con menos de 20m\\textasciicircum{}2:  45'"
      ],
      "text/markdown": [
       "<span style=white-space:pre-wrap>'Valores con menos de 20m^2:  45'</span>"
      ],
      "text/plain": [
       "[1] \"Valores con menos de 20m^2:  45\""
      ]
     },
     "metadata": {},
     "output_type": "display_data"
    },
    {
     "data": {
      "text/html": [
       "<span style=white-space:pre-wrap>'Cantidad de NA actualmente en Metros cuadrados:  5382'</span>"
      ],
      "text/latex": [
       "'Cantidad de NA actualmente en Metros cuadrados:  5382'"
      ],
      "text/markdown": [
       "<span style=white-space:pre-wrap>'Cantidad de NA actualmente en Metros cuadrados:  5382'</span>"
      ],
      "text/plain": [
       "[1] \"Cantidad de NA actualmente en Metros cuadrados:  5382\""
      ]
     },
     "metadata": {},
     "output_type": "display_data"
    },
    {
     "data": {
      "text/html": [
       "'¿Cuantos tienen NA en Square.Meters?'"
      ],
      "text/latex": [
       "'¿Cuantos tienen NA en Square.Meters?'"
      ],
      "text/markdown": [
       "'¿Cuantos tienen NA en Square.Meters?'"
      ],
      "text/plain": [
       "[1] \"¿Cuantos tienen NA en Square.Meters?\""
      ]
     },
     "metadata": {},
     "output_type": "display_data"
    },
    {
     "data": {
      "text/html": [
       "5427"
      ],
      "text/latex": [
       "5427"
      ],
      "text/markdown": [
       "5427"
      ],
      "text/plain": [
       "[1] 5427"
      ]
     },
     "metadata": {},
     "output_type": "display_data"
    }
   ],
   "source": [
    "cantidad <- sum(df_madrid$Square.Meters < 20 & !is.na(df_madrid$Square.Meters))\n",
    "paste(\"Valores con menos de 20m^2: \", cantidad)\n",
    "\n",
    "#NA antes:\n",
    "paste(\"Cantidad de NA actualmente en Metros cuadrados: \", Square.Meters_NA)\n",
    "\n",
    "#Convertir los valores menos de 20m^2 a NA:\n",
    "df_madrid <- df_madrid %>% mutate(Square.Meters=ifelse(Square.Meters<20, NA, Square.Meters))\n",
    "\n",
    "#Despues:\n",
    "#Para corroborar de que se aplico correctamente la condición, usamos el codigo anterior del porcentaje de NA:\n",
    "paste(\"¿Cuantos tienen NA en Square.Meters?\")\n",
    "Square.Meters_NA <- sum(is.na(df_madrid$Square.Meters)) #suma de los que son NA\n",
    "Square.Meters_NA"
   ]
  },
  {
   "cell_type": "markdown",
   "metadata": {},
   "source": [
    "Existen varios Barrios que todas sus entradas de Square.Meters son NA, vamos a eliminar del dataset todos los pisos que pertenecen a estos barrios."
   ]
  },
  {
   "cell_type": "code",
   "execution_count": 10,
   "metadata": {
    "scrolled": true
   },
   "outputs": [
    {
     "data": {
      "text/html": [
       "<table>\n",
       "<thead><tr><th scope=col>n</th></tr></thead>\n",
       "<tbody>\n",
       "\t<tr><td>4901</td></tr>\n",
       "</tbody>\n",
       "</table>\n"
      ],
      "text/latex": [
       "\\begin{tabular}{r|l}\n",
       " n\\\\\n",
       "\\hline\n",
       "\t 4901\\\\\n",
       "\\end{tabular}\n"
      ],
      "text/markdown": [
       "\n",
       "| n |\n",
       "|---|\n",
       "| 4901 |\n",
       "\n"
      ],
      "text/plain": [
       "  n   \n",
       "1 4901"
      ]
     },
     "metadata": {},
     "output_type": "display_data"
    },
    {
     "data": {
      "text/html": [
       "38"
      ],
      "text/latex": [
       "38"
      ],
      "text/markdown": [
       "38"
      ],
      "text/plain": [
       "[1] 38"
      ]
     },
     "metadata": {},
     "output_type": "display_data"
    }
   ],
   "source": [
    "#Agrupamos los barrios y filtramos los que no son valores NA, ni igual a 0:\n",
    "#del dataframe tomamos las columna de interes:\n",
    "Neighbourhood_All <- df_madrid[c(\"Neighbourhood\",\"Square.Meters\")] %>% \n",
    "    group_by(Neighbourhood) %>% \n",
    "    summarise(sum(na.omit(Square.Meters))) %>%\n",
    "    filter(`sum(na.omit(Square.Meters))`==0)\n",
    "\n",
    "#Ver barrios -> Neighbourhood_All\n",
    "\n",
    "#Aplicamos el Filtro que nos seleccionara todos los barrios que son diferente a NA del dataframe:\n",
    "df_madrid <- df_madrid %>%\n",
    "    filter(!Neighbourhood %in% (Neighbourhood_All$Neighbourhood))\n",
    "count(df_madrid) \n",
    "length(unique(df_madrid$Neighbourhood))"
   ]
  },
  {
   "cell_type": "markdown",
   "metadata": {},
   "source": [
    "El barrio parece ser un indicador importante para los metros cuadrados de un apartamento.\n",
    "\n",
    "Vamos a agrupar los barrios por metros cuadrados. Podemos usar una matriz de similaridad de Tukey tal y como hicimos en el curso de estadística:"
   ]
  },
  {
   "cell_type": "code",
   "execution_count": 11,
   "metadata": {},
   "outputs": [
    {
     "name": "stderr",
     "output_type": "stream",
     "text": [
      "\n",
      "Attaching package: 'reshape2'\n",
      "\n",
      "The following object is masked from 'package:tidyr':\n",
      "\n",
      "    smiths\n",
      "\n"
     ]
    },
    {
     "data": {
      "image/png": "[encoded data removed]",
      "text/plain": [
       "plot without title"
      ]
     },
     "metadata": {},
     "output_type": "display_data"
    }
   ],
   "source": [
    "tky<-TukeyHSD(aov( formula=Square.Meters~Neighbourhood, data=df_madrid ))\n",
    "tky.result<-data.frame(tky$Neighbourhood)\n",
    "cn <-sort(unique(df_madrid$Neighbourhood))\n",
    "resm <- matrix(NA, length(cn),length(cn))\n",
    "rownames(resm) <- cn\n",
    "colnames(resm) <- cn\n",
    "resm[lower.tri(resm) ] <- round(tky.result$p.adj,4)\n",
    "resm[upper.tri(resm) ] <- t(resm)[upper.tri(resm)] \n",
    "diag(resm) <- 1\n",
    "library(ggplot2)\n",
    "library(reshape2)\n",
    "dfResm <- melt(resm)\n",
    "ggplot(dfResm, aes(x=Var1, y=Var2, fill=value))+\n",
    "  geom_tile(colour = \"black\")+\n",
    "  scale_fill_gradient(low = \"white\",high = \"steelblue\")+\n",
    "  ylab(\"Class\")+xlab(\"Class\")+theme_bw()+\n",
    "  theme(axis.text.x = element_text(angle = 90, hjust = 1),legend.position=\"none\")"
   ]
  },
  {
   "cell_type": "markdown",
   "metadata": {},
   "source": [
    "Usando como variable de distancia: 1-resm\n",
    "Dibuja un dendrograma de los diferentes barrios.\n"
   ]
  },
  {
   "cell_type": "code",
   "execution_count": 12,
   "metadata": {},
   "outputs": [
    {
     "name": "stdout",
     "output_type": "stream",
     "text": [
      "package 'dslabs' successfully unpacked and MD5 sums checked\n",
      "\n",
      "The downloaded binary packages are in\n",
      "\tC:\\Users\\Manuel Cors\\AppData\\Local\\Temp\\RtmpcTjs3U\\downloaded_packages\n",
      "\n",
      "  There is a binary version available but the source version is later:\n",
      "           binary source needs_compilation\n",
      "dendextend 1.15.1 1.16.0             FALSE\n",
      "\n"
     ]
    },
    {
     "name": "stderr",
     "output_type": "stream",
     "text": [
      "installing the source package 'dendextend'\n",
      "\n"
     ]
    },
    {
     "data": {
      "image/png": "[encoded data removed]",
      "text/plain": [
       "plot without title"
      ]
     },
     "metadata": {},
     "output_type": "display_data"
    }
   ],
   "source": [
    "library(cluster)\n",
    "install.packages(\"dslabs\")\n",
    "install.packages(\"dendextend\")\n",
    "\n",
    "distancia = as.dist(1 - resm)\n",
    "hc = hclust(distancia, method=\"complete\")\n",
    "dendrograma = as.dendrogram(hc)\n",
    "par(cex=0.4)\n",
    "plot(dendrograma)\n",
    "abline(h=0.2, col=\"green\")"
   ]
  },
  {
   "cell_type": "markdown",
   "metadata": {},
   "source": [
    "¿Que punto de corte sería el aconsejable?, ¿cuantos clusters aparecen?"
   ]
  },
  {
   "cell_type": "markdown",
   "metadata": {},
   "source": [
    "Por lo que nos muestra el dendrograma es aconsejable dejarlo en 0.2 porque hay 3 clusters, cubre gran parte de barrios."
   ]
  },
  {
   "cell_type": "code",
   "execution_count": 13,
   "metadata": {},
   "outputs": [
    {
     "data": {
      "image/png": "[encoded data removed]",
      "text/plain": [
       "Plot with title \"Silhouette plot of (x = clusters, dist = distancia)\""
      ]
     },
     "metadata": {},
     "output_type": "display_data"
    }
   ],
   "source": [
    "#Para corroborar si en 3 clusters es mejor usaremos Silhouette:\n",
    "clusters <-cutree(hc,h=0.2)\n",
    "ss <- silhouette(clusters, distancia)\n",
    "plot(ss,col=1:max(clusters),border=NA)"
   ]
  },
  {
   "cell_type": "markdown",
   "metadata": {},
   "source": [
    "Vamos a crear una nueva columna en el dataframe df_madrid con un nuevo identificador marcado por los clusters obtenidos. Esta columna la llamaremos neighb_id"
   ]
  },
  {
   "cell_type": "code",
   "execution_count": 14,
   "metadata": {},
   "outputs": [
    {
     "data": {
      "text/html": [
       "<ol class=list-inline>\n",
       "\t<li>174</li>\n",
       "\t<li>13</li>\n",
       "</ol>\n"
      ],
      "text/latex": [
       "\\begin{enumerate*}\n",
       "\\item 174\n",
       "\\item 13\n",
       "\\end{enumerate*}\n"
      ],
      "text/markdown": [
       "1. 174\n",
       "2. 13\n",
       "\n",
       "\n"
      ],
      "text/plain": [
       "[1] 174  13"
      ]
     },
     "metadata": {},
     "output_type": "display_data"
    },
    {
     "data": {
      "text/html": [
       "<ol class=list-inline>\n",
       "\t<li>38</li>\n",
       "\t<li>2</li>\n",
       "</ol>\n"
      ],
      "text/latex": [
       "\\begin{enumerate*}\n",
       "\\item 38\n",
       "\\item 2\n",
       "\\end{enumerate*}\n"
      ],
      "text/markdown": [
       "1. 38\n",
       "2. 2\n",
       "\n",
       "\n"
      ],
      "text/plain": [
       "[1] 38  2"
      ]
     },
     "metadata": {},
     "output_type": "display_data"
    },
    {
     "data": {
      "text/html": [
       "<ol class=list-inline>\n",
       "\t<li>140</li>\n",
       "\t<li>14</li>\n",
       "</ol>\n"
      ],
      "text/latex": [
       "\\begin{enumerate*}\n",
       "\\item 140\n",
       "\\item 14\n",
       "\\end{enumerate*}\n"
      ],
      "text/markdown": [
       "1. 140\n",
       "2. 14\n",
       "\n",
       "\n"
      ],
      "text/plain": [
       "[1] 140  14"
      ]
     },
     "metadata": {},
     "output_type": "display_data"
    },
    {
     "data": {
      "text/html": [
       "<table>\n",
       "<thead><tr><th scope=col>Neighbourhood</th><th scope=col>Accommodates</th><th scope=col>Bathrooms</th><th scope=col>Bedrooms</th><th scope=col>Beds</th><th scope=col>Price</th><th scope=col>Square.Feet</th><th scope=col>Guests.Included</th><th scope=col>Extra.People</th><th scope=col>Review.Scores.Rating</th><th scope=col>Latitude</th><th scope=col>Longitude</th><th scope=col>Square.Meters</th><th scope=col>neighb_id</th></tr></thead>\n",
       "<tbody>\n",
       "\t<tr><td>Acacias  </td><td>4        </td><td>1.0      </td><td>1        </td><td>3        </td><td>68       </td><td>807      </td><td>2        </td><td>10       </td><td>90       </td><td>40.39691 </td><td>-3.705202</td><td>74.97272 </td><td>1        </td></tr>\n",
       "\t<tr><td>Acacias  </td><td>4        </td><td>1.0      </td><td>1        </td><td>2        </td><td>60       </td><td>538      </td><td>2        </td><td>15       </td><td>98       </td><td>40.40513 </td><td>-3.707726</td><td>49.98181 </td><td>1        </td></tr>\n",
       "\t<tr><td>Acacias  </td><td>4        </td><td>1.0      </td><td>1        </td><td>2        </td><td>60       </td><td>753      </td><td>2        </td><td>12       </td><td>85       </td><td>40.40073 </td><td>-3.706203</td><td>69.95596 </td><td>1        </td></tr>\n",
       "\t<tr><td>Adelfas  </td><td>6        </td><td>1.5      </td><td>2        </td><td>6        </td><td>60       </td><td>753      </td><td>2        </td><td>15       </td><td>94       </td><td>40.39912 </td><td>-3.670071</td><td>69.95596 </td><td>1        </td></tr>\n",
       "\t<tr><td>Almagro  </td><td>4        </td><td>1.0      </td><td>1        </td><td>2        </td><td>75       </td><td>538      </td><td>2        </td><td>10       </td><td>92       </td><td>40.43825 </td><td>-3.693876</td><td>49.98181 </td><td>1        </td></tr>\n",
       "\t<tr><td>Almenara </td><td>4        </td><td>1.0      </td><td>0        </td><td>1        </td><td>52       </td><td>431      </td><td>2        </td><td> 0       </td><td>53       </td><td>40.47226 </td><td>-3.692849</td><td>40.04119 </td><td>1        </td></tr>\n",
       "</tbody>\n",
       "</table>\n"
      ],
      "text/latex": [
       "\\begin{tabular}{r|llllllllllllll}\n",
       " Neighbourhood & Accommodates & Bathrooms & Bedrooms & Beds & Price & Square.Feet & Guests.Included & Extra.People & Review.Scores.Rating & Latitude & Longitude & Square.Meters & neighb\\_id\\\\\n",
       "\\hline\n",
       "\t Acacias   & 4         & 1.0       & 1         & 3         & 68        & 807       & 2         & 10        & 90        & 40.39691  & -3.705202 & 74.97272  & 1        \\\\\n",
       "\t Acacias   & 4         & 1.0       & 1         & 2         & 60        & 538       & 2         & 15        & 98        & 40.40513  & -3.707726 & 49.98181  & 1        \\\\\n",
       "\t Acacias   & 4         & 1.0       & 1         & 2         & 60        & 753       & 2         & 12        & 85        & 40.40073  & -3.706203 & 69.95596  & 1        \\\\\n",
       "\t Adelfas   & 6         & 1.5       & 2         & 6         & 60        & 753       & 2         & 15        & 94        & 40.39912  & -3.670071 & 69.95596  & 1        \\\\\n",
       "\t Almagro   & 4         & 1.0       & 1         & 2         & 75        & 538       & 2         & 10        & 92        & 40.43825  & -3.693876 & 49.98181  & 1        \\\\\n",
       "\t Almenara  & 4         & 1.0       & 0         & 1         & 52        & 431       & 2         &  0        & 53        & 40.47226  & -3.692849 & 40.04119  & 1        \\\\\n",
       "\\end{tabular}\n"
      ],
      "text/markdown": [
       "\n",
       "| Neighbourhood | Accommodates | Bathrooms | Bedrooms | Beds | Price | Square.Feet | Guests.Included | Extra.People | Review.Scores.Rating | Latitude | Longitude | Square.Meters | neighb_id |\n",
       "|---|---|---|---|---|---|---|---|---|---|---|---|---|---|\n",
       "| Acacias   | 4         | 1.0       | 1         | 3         | 68        | 807       | 2         | 10        | 90        | 40.39691  | -3.705202 | 74.97272  | 1         |\n",
       "| Acacias   | 4         | 1.0       | 1         | 2         | 60        | 538       | 2         | 15        | 98        | 40.40513  | -3.707726 | 49.98181  | 1         |\n",
       "| Acacias   | 4         | 1.0       | 1         | 2         | 60        | 753       | 2         | 12        | 85        | 40.40073  | -3.706203 | 69.95596  | 1         |\n",
       "| Adelfas   | 6         | 1.5       | 2         | 6         | 60        | 753       | 2         | 15        | 94        | 40.39912  | -3.670071 | 69.95596  | 1         |\n",
       "| Almagro   | 4         | 1.0       | 1         | 2         | 75        | 538       | 2         | 10        | 92        | 40.43825  | -3.693876 | 49.98181  | 1         |\n",
       "| Almenara  | 4         | 1.0       | 0         | 1         | 52        | 431       | 2         |  0        | 53        | 40.47226  | -3.692849 | 40.04119  | 1         |\n",
       "\n"
      ],
      "text/plain": [
       "  Neighbourhood Accommodates Bathrooms Bedrooms Beds Price Square.Feet\n",
       "1 Acacias       4            1.0       1        3    68    807        \n",
       "2 Acacias       4            1.0       1        2    60    538        \n",
       "3 Acacias       4            1.0       1        2    60    753        \n",
       "4 Adelfas       6            1.5       2        6    60    753        \n",
       "5 Almagro       4            1.0       1        2    75    538        \n",
       "6 Almenara      4            1.0       0        1    52    431        \n",
       "  Guests.Included Extra.People Review.Scores.Rating Latitude Longitude\n",
       "1 2               10           90                   40.39691 -3.705202\n",
       "2 2               15           98                   40.40513 -3.707726\n",
       "3 2               12           85                   40.40073 -3.706203\n",
       "4 2               15           94                   40.39912 -3.670071\n",
       "5 2               10           92                   40.43825 -3.693876\n",
       "6 2                0           53                   40.47226 -3.692849\n",
       "  Square.Meters neighb_id\n",
       "1 74.97272      1        \n",
       "2 49.98181      1        \n",
       "3 69.95596      1        \n",
       "4 69.95596      1        \n",
       "5 49.98181      1        \n",
       "6 40.04119      1        "
      ]
     },
     "metadata": {},
     "output_type": "display_data"
    }
   ],
   "source": [
    "#Square Meters que no son NA:\n",
    "Square.Meters_No_NA <- df_madrid[!is.na(df_madrid$Square.Meters),]\n",
    "dim(Square.Meters_No_NA)\n",
    "\n",
    "#Agregamos los barrios para el nuevo dataframe:\n",
    "Neighbourhood<-c(\"Acacias\",\"Adelfas\",\"Almagro\",\"Almenara\",\"Arapiles\",\n",
    "                 \"Argüelles\",\"Barajas\",\"Carabanchel\",\"Castellana\",\"Castilla\",\n",
    "                 \"Centro\",\"Chamberí\",\"Ciudad Jardin\",\"Ciudad Lineal\",\"Cortes\",\n",
    "                 \"Cuatro Caminos\",\"El Tréntaiseis\",\"El Viso\",\"Embajadores\",\n",
    "                 \"Fuente del Berro\",\"Goya\",\"Jerónimos\",\"Justicia\",\"La Latina\",\"Lista\",\n",
    "                 \"Malasaña\",\"Moratalaz\",\"Pacifico\",\"Palacio\",\"Palos do Moguer\",\"Recoletos\",\n",
    "                 \"Retiro\",\"Rios Rosas\",\"San Blas\",\"Sol\",\"Trafalgar\",\"Usera\",\"Vicálvaro\")\n",
    "\n",
    "\n",
    "#Creamos el dataframe:\n",
    "df_Clusters <- data.frame(Neighbourhood=Neighbourhood, neighb_id=clusters)\n",
    "dim(df_Clusters)\n",
    "df_madrid_Clusters = merge(Square.Meters_No_NA, df_Clusters, by=\"Neighbourhood\")\n",
    "dim(df_madrid_Clusters)\n",
    "head(df_madrid_Clusters)"
   ]
  },
  {
   "cell_type": "markdown",
   "metadata": {},
   "source": [
    "Vamos a crear dos grupos, uno test y otro train.\n",
    "\n",
    "Tratamos de predecir los metros cuadrados en función del resto de columnas del dataframe."
   ]
  },
  {
   "cell_type": "code",
   "execution_count": 15,
   "metadata": {},
   "outputs": [
    {
     "data": {
      "text/html": [
       "'La cantidad en train son: 121'"
      ],
      "text/latex": [
       "'La cantidad en train son: 121'"
      ],
      "text/markdown": [
       "'La cantidad en train son: 121'"
      ],
      "text/plain": [
       "[1] \"La cantidad en train son: 121\""
      ]
     },
     "metadata": {},
     "output_type": "display_data"
    },
    {
     "data": {
      "text/html": [
       "'La cantidad de test son: 53'"
      ],
      "text/latex": [
       "'La cantidad de test son: 53'"
      ],
      "text/markdown": [
       "'La cantidad de test son: 53'"
      ],
      "text/plain": [
       "[1] \"La cantidad de test son: 53\""
      ]
     },
     "metadata": {},
     "output_type": "display_data"
    }
   ],
   "source": [
    "#Parámetros inciales\n",
    "set.seed(12)\n",
    "idx <- sample(1:nrow(Square.Meters_No_NA),nrow(Square.Meters_No_NA)*0.7)\n",
    "\n",
    "#Pasamos a crear Train y Test:\n",
    "Square.Meters_No_NA.train <- Square.Meters_No_NA[idx,]\n",
    "train <- Square.Meters_No_NA.train %>% nrow()\n",
    "Square.Meters_No_NA.test <- Square.Meters_No_NA[-idx,]\n",
    "test <- Square.Meters_No_NA.test %>% nrow()\n",
    "paste(\"La cantidad en train son:\", train)\n",
    "paste(\"La cantidad de test son:\", test)"
   ]
  },
  {
   "cell_type": "code",
   "execution_count": 17,
   "metadata": {},
   "outputs": [
    {
     "data": {
      "text/plain": [
       "\n",
       "Call:\n",
       "lm(formula = Square.Meters ~ Accommodates + Bathrooms + Bedrooms + \n",
       "    Beds + Price + Review.Scores.Rating, data = Square.Meters_No_NA.train)\n",
       "\n",
       "Residuals:\n",
       "    Min      1Q  Median      3Q     Max \n",
       "-53.653 -12.274  -2.861   8.673  84.207 \n",
       "\n",
       "Coefficients:\n",
       "                      Estimate Std. Error t value Pr(>|t|)    \n",
       "(Intercept)          -17.94739   22.93707  -0.782  0.43564    \n",
       "Accommodates           2.51243    2.09878   1.197  0.23387    \n",
       "Bathrooms             14.01138    5.00381   2.800  0.00604 ** \n",
       "Bedrooms              19.39867    3.50961   5.527 2.24e-07 ***\n",
       "Beds                  -3.52733    2.17647  -1.621  0.10798    \n",
       "Price                  0.08759    0.03468   2.526  0.01298 *  \n",
       "Review.Scores.Rating   0.30361    0.24130   1.258  0.21099    \n",
       "---\n",
       "Signif. codes:  0 '***' 0.001 '**' 0.01 '*' 0.05 '.' 0.1 ' ' 1\n",
       "\n",
       "Residual standard error: 20.88 on 109 degrees of freedom\n",
       "  (5 observations deleted due to missingness)\n",
       "Multiple R-squared:  0.6781,\tAdjusted R-squared:  0.6604 \n",
       "F-statistic: 38.27 on 6 and 109 DF,  p-value: < 2.2e-16\n"
      ]
     },
     "metadata": {},
     "output_type": "display_data"
    }
   ],
   "source": [
    "#Creamos el modelo:\n",
    "modelo <- lm(Square.Meters_No_NA.train, \n",
    "            formula=Square.Meters~Accommodates+Bathrooms+Bedrooms+Beds+Price+Review.Scores.Rating)\n",
    "summary(modelo)"
   ]
  },
  {
   "cell_type": "code",
   "execution_count": 18,
   "metadata": {},
   "outputs": [
    {
     "data": {
      "text/html": [
       "'Predicción Train:'"
      ],
      "text/latex": [
       "'Predicción Train:'"
      ],
      "text/markdown": [
       "'Predicción Train:'"
      ],
      "text/plain": [
       "[1] \"Predicción Train:\""
      ]
     },
     "metadata": {},
     "output_type": "display_data"
    },
    {
     "data": {
      "text/html": [
       "<dl class=dl-horizontal>\n",
       "\t<dt>RMSE</dt>\n",
       "\t\t<dd>20.23869924353</dd>\n",
       "\t<dt>Rsquared</dt>\n",
       "\t\t<dd>0.678087925516862</dd>\n",
       "\t<dt>MAE</dt>\n",
       "\t\t<dd>14.5119334967396</dd>\n",
       "</dl>\n"
      ],
      "text/latex": [
       "\\begin{description*}\n",
       "\\item[RMSE] 20.23869924353\n",
       "\\item[Rsquared] 0.678087925516862\n",
       "\\item[MAE] 14.5119334967396\n",
       "\\end{description*}\n"
      ],
      "text/markdown": [
       "RMSE\n",
       ":   20.23869924353Rsquared\n",
       ":   0.678087925516862MAE\n",
       ":   14.5119334967396\n",
       "\n"
      ],
      "text/plain": [
       "      RMSE   Rsquared        MAE \n",
       "20.2386992  0.6780879 14.5119335 "
      ]
     },
     "metadata": {},
     "output_type": "display_data"
    },
    {
     "data": {
      "text/html": [
       "'Predicción Test:'"
      ],
      "text/latex": [
       "'Predicción Test:'"
      ],
      "text/markdown": [
       "'Predicción Test:'"
      ],
      "text/plain": [
       "[1] \"Predicción Test:\""
      ]
     },
     "metadata": {},
     "output_type": "display_data"
    },
    {
     "data": {
      "text/html": [
       "<dl class=dl-horizontal>\n",
       "\t<dt>RMSE</dt>\n",
       "\t\t<dd>43.1578967292173</dd>\n",
       "\t<dt>Rsquared</dt>\n",
       "\t\t<dd>0.71535155638343</dd>\n",
       "\t<dt>MAE</dt>\n",
       "\t\t<dd>19.5204861290795</dd>\n",
       "</dl>\n"
      ],
      "text/latex": [
       "\\begin{description*}\n",
       "\\item[RMSE] 43.1578967292173\n",
       "\\item[Rsquared] 0.71535155638343\n",
       "\\item[MAE] 19.5204861290795\n",
       "\\end{description*}\n"
      ],
      "text/markdown": [
       "RMSE\n",
       ":   43.1578967292173Rsquared\n",
       ":   0.71535155638343MAE\n",
       ":   19.5204861290795\n",
       "\n"
      ],
      "text/plain": [
       "      RMSE   Rsquared        MAE \n",
       "43.1578967  0.7153516 19.5204861 "
      ]
     },
     "metadata": {},
     "output_type": "display_data"
    }
   ],
   "source": [
    "#contiuamos con las predicciones en test y train:\n",
    "paste(\"Predicción Train:\")\n",
    "predict_train <- predict(modelo,Square.Meters_No_NA.train, )\n",
    "caret::postResample(predict_train,Square.Meters_No_NA.train$Square.Meters)\n",
    "paste(\"Predicción Test:\")\n",
    "predict_test <- predict(modelo,Square.Meters_No_NA.test, )\n",
    "caret::postResample(predict_test,Square.Meters_No_NA.test$Square.Meters)"
   ]
  },
  {
   "cell_type": "markdown",
   "metadata": {},
   "source": [
    "Mirad el histograma de los residuos sobre el conjunto de test para evaluar la calidad de vuestro modelo"
   ]
  },
  {
   "cell_type": "code",
   "execution_count": 19,
   "metadata": {},
   "outputs": [
    {
     "data": {
      "image/png": "[encoded data removed]",
      "text/plain": [
       "plot without title"
      ]
     },
     "metadata": {},
     "output_type": "display_data"
    }
   ],
   "source": [
    "resid_test <- Square.Meters_No_NA.test$Square.Meters - predict_test\n",
    "plot(Square.Meters_No_NA.test$Square.Meters,resid_test)"
   ]
  },
  {
   "cell_type": "markdown",
   "metadata": {},
   "source": [
    "Conclusión: El modelo no es muy bueno, como podemos observar en distribución de residuos es que los al ser muy pocos datos que no son NA por lo que no se puede hacer un calculo mejor."
   ]
  },
  {
   "cell_type": "markdown",
   "metadata": {},
   "source": [
    "Si tuvieramos un anuncio de un apartamento para 6 personas (Accommodates), con 1 baño, con un precio de 80€/noche y 3 habitaciones en el barrio de Sol, con 3 camas y un review de 80.\n",
    "¿Cuantos metros cuadrados tendría? Si tu modelo necesita algúna variable adicional puedes inventartela dentro del rango de valores del dataset.\n",
    "¿Como varía sus metros cuadrados con cada habitación adicional?"
   ]
  },
  {
   "cell_type": "code",
   "execution_count": 20,
   "metadata": {
    "scrolled": true
   },
   "outputs": [
    {
     "data": {
      "text/html": [
       "<table>\n",
       "<thead><tr><th scope=col>Neighbourhood</th><th scope=col>Accommodates</th><th scope=col>Bathrooms</th><th scope=col>Bedrooms</th><th scope=col>Beds</th><th scope=col>Price</th><th scope=col>Square.Feet</th><th scope=col>Guests.Included</th><th scope=col>Extra.People</th><th scope=col>Review.Scores.Rating</th><th scope=col>Latitude</th><th scope=col>Longitude</th><th scope=col>Square.Meters</th></tr></thead>\n",
       "<tbody>\n",
       "\t<tr><td>Sol      </td><td> 6       </td><td>1        </td><td>2        </td><td>3        </td><td>102      </td><td> 807     </td><td>1        </td><td>11       </td><td> 80      </td><td>40.41977 </td><td>-3.699911</td><td> 74.97272</td></tr>\n",
       "\t<tr><td>Sol      </td><td> 6       </td><td>2        </td><td>2        </td><td>3        </td><td>140      </td><td>1076     </td><td>3        </td><td>10       </td><td> 94      </td><td>40.41611 </td><td>-3.707456</td><td> 99.96363</td></tr>\n",
       "\t<tr><td>Sol      </td><td> 4       </td><td>1        </td><td>2        </td><td>3        </td><td> 95      </td><td> 947     </td><td>2        </td><td>10       </td><td> 93      </td><td>40.41487 </td><td>-3.706138</td><td> 87.97914</td></tr>\n",
       "\t<tr><td>Sol      </td><td> 4       </td><td>1        </td><td>1        </td><td>2        </td><td> 95      </td><td> 700     </td><td>2        </td><td>15       </td><td> 90      </td><td>40.41552 </td><td>-3.706460</td><td> 65.03210</td></tr>\n",
       "\t<tr><td>Sol      </td><td> 2       </td><td>1        </td><td>1        </td><td>1        </td><td> 65      </td><td> 431     </td><td>2        </td><td> 0       </td><td> 90      </td><td>40.41888 </td><td>-3.703460</td><td> 40.04119</td></tr>\n",
       "\t<tr><td>Sol      </td><td> 2       </td><td>1        </td><td>1        </td><td>1        </td><td> 65      </td><td> 269     </td><td>2        </td><td> 0       </td><td> 93      </td><td>40.41689 </td><td>-3.707419</td><td> 24.99091</td></tr>\n",
       "\t<tr><td>Sol      </td><td> 4       </td><td>1        </td><td>1        </td><td>1        </td><td>100      </td><td> 753     </td><td>2        </td><td>10       </td><td> 87      </td><td>40.41507 </td><td>-3.703358</td><td> 69.95596</td></tr>\n",
       "\t<tr><td>Sol      </td><td> 5       </td><td>1        </td><td>2        </td><td>5        </td><td>100      </td><td> 753     </td><td>2        </td><td> 5       </td><td> 91      </td><td>40.41609 </td><td>-3.706012</td><td> 69.95596</td></tr>\n",
       "\t<tr><td>Sol      </td><td> 4       </td><td>1        </td><td>1        </td><td>2        </td><td> 70      </td><td> 915     </td><td>2        </td><td> 8       </td><td>100      </td><td>40.41794 </td><td>-3.701260</td><td> 85.00624</td></tr>\n",
       "\t<tr><td>Sol      </td><td> 2       </td><td>1        </td><td>1        </td><td>1        </td><td> 77      </td><td> 431     </td><td>2        </td><td>11       </td><td> 80      </td><td>40.41456 </td><td>-3.704374</td><td> 40.04119</td></tr>\n",
       "\t<tr><td>Sol      </td><td> 8       </td><td>2        </td><td>4        </td><td>5        </td><td>250      </td><td>2153     </td><td>8        </td><td>25       </td><td> 99      </td><td>40.41653 </td><td>-3.703081</td><td>200.02016</td></tr>\n",
       "\t<tr><td>Sol      </td><td> 8       </td><td>2        </td><td>2        </td><td>8        </td><td>110      </td><td>1292     </td><td>4        </td><td>19       </td><td> 80      </td><td>40.41686 </td><td>-3.705873</td><td>120.03068</td></tr>\n",
       "\t<tr><td>Sol      </td><td> 3       </td><td>1        </td><td>0        </td><td>1        </td><td> 45      </td><td> 646     </td><td>2        </td><td>25       </td><td> 97      </td><td>40.41881 </td><td>-3.701293</td><td> 60.01534</td></tr>\n",
       "\t<tr><td>Sol      </td><td> 3       </td><td>1        </td><td>1        </td><td>1        </td><td>100      </td><td> 484     </td><td>2        </td><td>10       </td><td> 96      </td><td>40.41985 </td><td>-3.703648</td><td> 44.96505</td></tr>\n",
       "\t<tr><td>Sol      </td><td> 4       </td><td>1        </td><td>1        </td><td>2        </td><td>108      </td><td> 538     </td><td>2        </td><td>15       </td><td> 95      </td><td>40.41595 </td><td>-3.702808</td><td> 49.98181</td></tr>\n",
       "\t<tr><td>Sol      </td><td>10       </td><td>2        </td><td>2        </td><td>6        </td><td> 98      </td><td>1453     </td><td>1        </td><td>24       </td><td> 94      </td><td>40.41504 </td><td>-3.707618</td><td>134.98806</td></tr>\n",
       "\t<tr><td>Sol      </td><td> 4       </td><td>1        </td><td>1        </td><td>2        </td><td> 85      </td><td> 484     </td><td>2        </td><td>20       </td><td> 50      </td><td>40.41650 </td><td>-3.708658</td><td> 44.96505</td></tr>\n",
       "\t<tr><td>Sol      </td><td>10       </td><td>3        </td><td>3        </td><td>7        </td><td>150      </td><td> 807     </td><td>8        </td><td>20       </td><td> 65      </td><td>40.41869 </td><td>-3.703180</td><td> 74.97272</td></tr>\n",
       "\t<tr><td>Sol      </td><td> 4       </td><td>1        </td><td>1        </td><td>2        </td><td> 71      </td><td> 431     </td><td>2        </td><td>10       </td><td> 91      </td><td>40.41552 </td><td>-3.704214</td><td> 40.04119</td></tr>\n",
       "\t<tr><td>Sol      </td><td> 6       </td><td>2        </td><td>3        </td><td>4        </td><td>199      </td><td>2153     </td><td>2        </td><td>30       </td><td> 96      </td><td>40.41415 </td><td>-3.705004</td><td>200.02016</td></tr>\n",
       "\t<tr><td>Sol      </td><td> 2       </td><td>1        </td><td>0        </td><td>1        </td><td> 69      </td><td> 323     </td><td>1        </td><td> 0       </td><td> 96      </td><td>40.41680 </td><td>-3.704462</td><td> 30.00767</td></tr>\n",
       "\t<tr><td>Sol      </td><td>12       </td><td>4        </td><td>4        </td><td>8        </td><td>250      </td><td>1238     </td><td>6        </td><td>10       </td><td> 96      </td><td>40.41805 </td><td>-3.707654</td><td>115.01391</td></tr>\n",
       "\t<tr><td>Sol      </td><td> 4       </td><td>1        </td><td>1        </td><td>3        </td><td> 85      </td><td> 603     </td><td>2        </td><td>15       </td><td> 94      </td><td>40.41516 </td><td>-3.707311</td><td> 56.02051</td></tr>\n",
       "\t<tr><td>Sol      </td><td> 4       </td><td>1        </td><td>0        </td><td>2        </td><td> 60      </td><td> 398     </td><td>2        </td><td> 0       </td><td> 80      </td><td>40.41911 </td><td>-3.706793</td><td> 36.97539</td></tr>\n",
       "\t<tr><td>Sol      </td><td> 4       </td><td>1        </td><td>1        </td><td>1        </td><td> 82      </td><td> 592     </td><td>2        </td><td>11       </td><td> 88      </td><td>40.41596 </td><td>-3.703019</td><td> 54.99858</td></tr>\n",
       "\t<tr><td>Sol      </td><td> 8       </td><td>1        </td><td>2        </td><td>6        </td><td>145      </td><td> 883     </td><td>1        </td><td>28       </td><td> 97      </td><td>40.41601 </td><td>-3.708529</td><td> 82.03335</td></tr>\n",
       "\t<tr><td>Sol      </td><td> 4       </td><td>1        </td><td>1        </td><td>1        </td><td> 75      </td><td> 646     </td><td>2        </td><td>15       </td><td> 90      </td><td>40.41805 </td><td>-3.703521</td><td> 60.01534</td></tr>\n",
       "\t<tr><td>Sol      </td><td>10       </td><td>2        </td><td>5        </td><td>8        </td><td>300      </td><td>1615     </td><td>7        </td><td>20       </td><td> 95      </td><td>40.41444 </td><td>-3.706969</td><td>150.03834</td></tr>\n",
       "</tbody>\n",
       "</table>\n"
      ],
      "text/latex": [
       "\\begin{tabular}{r|lllllllllllll}\n",
       " Neighbourhood & Accommodates & Bathrooms & Bedrooms & Beds & Price & Square.Feet & Guests.Included & Extra.People & Review.Scores.Rating & Latitude & Longitude & Square.Meters\\\\\n",
       "\\hline\n",
       "\t Sol       &  6        & 1         & 2         & 3         & 102       &  807      & 1         & 11        &  80       & 40.41977  & -3.699911 &  74.97272\\\\\n",
       "\t Sol       &  6        & 2         & 2         & 3         & 140       & 1076      & 3         & 10        &  94       & 40.41611  & -3.707456 &  99.96363\\\\\n",
       "\t Sol       &  4        & 1         & 2         & 3         &  95       &  947      & 2         & 10        &  93       & 40.41487  & -3.706138 &  87.97914\\\\\n",
       "\t Sol       &  4        & 1         & 1         & 2         &  95       &  700      & 2         & 15        &  90       & 40.41552  & -3.706460 &  65.03210\\\\\n",
       "\t Sol       &  2        & 1         & 1         & 1         &  65       &  431      & 2         &  0        &  90       & 40.41888  & -3.703460 &  40.04119\\\\\n",
       "\t Sol       &  2        & 1         & 1         & 1         &  65       &  269      & 2         &  0        &  93       & 40.41689  & -3.707419 &  24.99091\\\\\n",
       "\t Sol       &  4        & 1         & 1         & 1         & 100       &  753      & 2         & 10        &  87       & 40.41507  & -3.703358 &  69.95596\\\\\n",
       "\t Sol       &  5        & 1         & 2         & 5         & 100       &  753      & 2         &  5        &  91       & 40.41609  & -3.706012 &  69.95596\\\\\n",
       "\t Sol       &  4        & 1         & 1         & 2         &  70       &  915      & 2         &  8        & 100       & 40.41794  & -3.701260 &  85.00624\\\\\n",
       "\t Sol       &  2        & 1         & 1         & 1         &  77       &  431      & 2         & 11        &  80       & 40.41456  & -3.704374 &  40.04119\\\\\n",
       "\t Sol       &  8        & 2         & 4         & 5         & 250       & 2153      & 8         & 25        &  99       & 40.41653  & -3.703081 & 200.02016\\\\\n",
       "\t Sol       &  8        & 2         & 2         & 8         & 110       & 1292      & 4         & 19        &  80       & 40.41686  & -3.705873 & 120.03068\\\\\n",
       "\t Sol       &  3        & 1         & 0         & 1         &  45       &  646      & 2         & 25        &  97       & 40.41881  & -3.701293 &  60.01534\\\\\n",
       "\t Sol       &  3        & 1         & 1         & 1         & 100       &  484      & 2         & 10        &  96       & 40.41985  & -3.703648 &  44.96505\\\\\n",
       "\t Sol       &  4        & 1         & 1         & 2         & 108       &  538      & 2         & 15        &  95       & 40.41595  & -3.702808 &  49.98181\\\\\n",
       "\t Sol       & 10        & 2         & 2         & 6         &  98       & 1453      & 1         & 24        &  94       & 40.41504  & -3.707618 & 134.98806\\\\\n",
       "\t Sol       &  4        & 1         & 1         & 2         &  85       &  484      & 2         & 20        &  50       & 40.41650  & -3.708658 &  44.96505\\\\\n",
       "\t Sol       & 10        & 3         & 3         & 7         & 150       &  807      & 8         & 20        &  65       & 40.41869  & -3.703180 &  74.97272\\\\\n",
       "\t Sol       &  4        & 1         & 1         & 2         &  71       &  431      & 2         & 10        &  91       & 40.41552  & -3.704214 &  40.04119\\\\\n",
       "\t Sol       &  6        & 2         & 3         & 4         & 199       & 2153      & 2         & 30        &  96       & 40.41415  & -3.705004 & 200.02016\\\\\n",
       "\t Sol       &  2        & 1         & 0         & 1         &  69       &  323      & 1         &  0        &  96       & 40.41680  & -3.704462 &  30.00767\\\\\n",
       "\t Sol       & 12        & 4         & 4         & 8         & 250       & 1238      & 6         & 10        &  96       & 40.41805  & -3.707654 & 115.01391\\\\\n",
       "\t Sol       &  4        & 1         & 1         & 3         &  85       &  603      & 2         & 15        &  94       & 40.41516  & -3.707311 &  56.02051\\\\\n",
       "\t Sol       &  4        & 1         & 0         & 2         &  60       &  398      & 2         &  0        &  80       & 40.41911  & -3.706793 &  36.97539\\\\\n",
       "\t Sol       &  4        & 1         & 1         & 1         &  82       &  592      & 2         & 11        &  88       & 40.41596  & -3.703019 &  54.99858\\\\\n",
       "\t Sol       &  8        & 1         & 2         & 6         & 145       &  883      & 1         & 28        &  97       & 40.41601  & -3.708529 &  82.03335\\\\\n",
       "\t Sol       &  4        & 1         & 1         & 1         &  75       &  646      & 2         & 15        &  90       & 40.41805  & -3.703521 &  60.01534\\\\\n",
       "\t Sol       & 10        & 2         & 5         & 8         & 300       & 1615      & 7         & 20        &  95       & 40.41444  & -3.706969 & 150.03834\\\\\n",
       "\\end{tabular}\n"
      ],
      "text/markdown": [
       "\n",
       "| Neighbourhood | Accommodates | Bathrooms | Bedrooms | Beds | Price | Square.Feet | Guests.Included | Extra.People | Review.Scores.Rating | Latitude | Longitude | Square.Meters |\n",
       "|---|---|---|---|---|---|---|---|---|---|---|---|---|\n",
       "| Sol       |  6        | 1         | 2         | 3         | 102       |  807      | 1         | 11        |  80       | 40.41977  | -3.699911 |  74.97272 |\n",
       "| Sol       |  6        | 2         | 2         | 3         | 140       | 1076      | 3         | 10        |  94       | 40.41611  | -3.707456 |  99.96363 |\n",
       "| Sol       |  4        | 1         | 2         | 3         |  95       |  947      | 2         | 10        |  93       | 40.41487  | -3.706138 |  87.97914 |\n",
       "| Sol       |  4        | 1         | 1         | 2         |  95       |  700      | 2         | 15        |  90       | 40.41552  | -3.706460 |  65.03210 |\n",
       "| Sol       |  2        | 1         | 1         | 1         |  65       |  431      | 2         |  0        |  90       | 40.41888  | -3.703460 |  40.04119 |\n",
       "| Sol       |  2        | 1         | 1         | 1         |  65       |  269      | 2         |  0        |  93       | 40.41689  | -3.707419 |  24.99091 |\n",
       "| Sol       |  4        | 1         | 1         | 1         | 100       |  753      | 2         | 10        |  87       | 40.41507  | -3.703358 |  69.95596 |\n",
       "| Sol       |  5        | 1         | 2         | 5         | 100       |  753      | 2         |  5        |  91       | 40.41609  | -3.706012 |  69.95596 |\n",
       "| Sol       |  4        | 1         | 1         | 2         |  70       |  915      | 2         |  8        | 100       | 40.41794  | -3.701260 |  85.00624 |\n",
       "| Sol       |  2        | 1         | 1         | 1         |  77       |  431      | 2         | 11        |  80       | 40.41456  | -3.704374 |  40.04119 |\n",
       "| Sol       |  8        | 2         | 4         | 5         | 250       | 2153      | 8         | 25        |  99       | 40.41653  | -3.703081 | 200.02016 |\n",
       "| Sol       |  8        | 2         | 2         | 8         | 110       | 1292      | 4         | 19        |  80       | 40.41686  | -3.705873 | 120.03068 |\n",
       "| Sol       |  3        | 1         | 0         | 1         |  45       |  646      | 2         | 25        |  97       | 40.41881  | -3.701293 |  60.01534 |\n",
       "| Sol       |  3        | 1         | 1         | 1         | 100       |  484      | 2         | 10        |  96       | 40.41985  | -3.703648 |  44.96505 |\n",
       "| Sol       |  4        | 1         | 1         | 2         | 108       |  538      | 2         | 15        |  95       | 40.41595  | -3.702808 |  49.98181 |\n",
       "| Sol       | 10        | 2         | 2         | 6         |  98       | 1453      | 1         | 24        |  94       | 40.41504  | -3.707618 | 134.98806 |\n",
       "| Sol       |  4        | 1         | 1         | 2         |  85       |  484      | 2         | 20        |  50       | 40.41650  | -3.708658 |  44.96505 |\n",
       "| Sol       | 10        | 3         | 3         | 7         | 150       |  807      | 8         | 20        |  65       | 40.41869  | -3.703180 |  74.97272 |\n",
       "| Sol       |  4        | 1         | 1         | 2         |  71       |  431      | 2         | 10        |  91       | 40.41552  | -3.704214 |  40.04119 |\n",
       "| Sol       |  6        | 2         | 3         | 4         | 199       | 2153      | 2         | 30        |  96       | 40.41415  | -3.705004 | 200.02016 |\n",
       "| Sol       |  2        | 1         | 0         | 1         |  69       |  323      | 1         |  0        |  96       | 40.41680  | -3.704462 |  30.00767 |\n",
       "| Sol       | 12        | 4         | 4         | 8         | 250       | 1238      | 6         | 10        |  96       | 40.41805  | -3.707654 | 115.01391 |\n",
       "| Sol       |  4        | 1         | 1         | 3         |  85       |  603      | 2         | 15        |  94       | 40.41516  | -3.707311 |  56.02051 |\n",
       "| Sol       |  4        | 1         | 0         | 2         |  60       |  398      | 2         |  0        |  80       | 40.41911  | -3.706793 |  36.97539 |\n",
       "| Sol       |  4        | 1         | 1         | 1         |  82       |  592      | 2         | 11        |  88       | 40.41596  | -3.703019 |  54.99858 |\n",
       "| Sol       |  8        | 1         | 2         | 6         | 145       |  883      | 1         | 28        |  97       | 40.41601  | -3.708529 |  82.03335 |\n",
       "| Sol       |  4        | 1         | 1         | 1         |  75       |  646      | 2         | 15        |  90       | 40.41805  | -3.703521 |  60.01534 |\n",
       "| Sol       | 10        | 2         | 5         | 8         | 300       | 1615      | 7         | 20        |  95       | 40.41444  | -3.706969 | 150.03834 |\n",
       "\n"
      ],
      "text/plain": [
       "   Neighbourhood Accommodates Bathrooms Bedrooms Beds Price Square.Feet\n",
       "1  Sol            6           1         2        3    102    807       \n",
       "2  Sol            6           2         2        3    140   1076       \n",
       "3  Sol            4           1         2        3     95    947       \n",
       "4  Sol            4           1         1        2     95    700       \n",
       "5  Sol            2           1         1        1     65    431       \n",
       "6  Sol            2           1         1        1     65    269       \n",
       "7  Sol            4           1         1        1    100    753       \n",
       "8  Sol            5           1         2        5    100    753       \n",
       "9  Sol            4           1         1        2     70    915       \n",
       "10 Sol            2           1         1        1     77    431       \n",
       "11 Sol            8           2         4        5    250   2153       \n",
       "12 Sol            8           2         2        8    110   1292       \n",
       "13 Sol            3           1         0        1     45    646       \n",
       "14 Sol            3           1         1        1    100    484       \n",
       "15 Sol            4           1         1        2    108    538       \n",
       "16 Sol           10           2         2        6     98   1453       \n",
       "17 Sol            4           1         1        2     85    484       \n",
       "18 Sol           10           3         3        7    150    807       \n",
       "19 Sol            4           1         1        2     71    431       \n",
       "20 Sol            6           2         3        4    199   2153       \n",
       "21 Sol            2           1         0        1     69    323       \n",
       "22 Sol           12           4         4        8    250   1238       \n",
       "23 Sol            4           1         1        3     85    603       \n",
       "24 Sol            4           1         0        2     60    398       \n",
       "25 Sol            4           1         1        1     82    592       \n",
       "26 Sol            8           1         2        6    145    883       \n",
       "27 Sol            4           1         1        1     75    646       \n",
       "28 Sol           10           2         5        8    300   1615       \n",
       "   Guests.Included Extra.People Review.Scores.Rating Latitude Longitude\n",
       "1  1               11            80                  40.41977 -3.699911\n",
       "2  3               10            94                  40.41611 -3.707456\n",
       "3  2               10            93                  40.41487 -3.706138\n",
       "4  2               15            90                  40.41552 -3.706460\n",
       "5  2                0            90                  40.41888 -3.703460\n",
       "6  2                0            93                  40.41689 -3.707419\n",
       "7  2               10            87                  40.41507 -3.703358\n",
       "8  2                5            91                  40.41609 -3.706012\n",
       "9  2                8           100                  40.41794 -3.701260\n",
       "10 2               11            80                  40.41456 -3.704374\n",
       "11 8               25            99                  40.41653 -3.703081\n",
       "12 4               19            80                  40.41686 -3.705873\n",
       "13 2               25            97                  40.41881 -3.701293\n",
       "14 2               10            96                  40.41985 -3.703648\n",
       "15 2               15            95                  40.41595 -3.702808\n",
       "16 1               24            94                  40.41504 -3.707618\n",
       "17 2               20            50                  40.41650 -3.708658\n",
       "18 8               20            65                  40.41869 -3.703180\n",
       "19 2               10            91                  40.41552 -3.704214\n",
       "20 2               30            96                  40.41415 -3.705004\n",
       "21 1                0            96                  40.41680 -3.704462\n",
       "22 6               10            96                  40.41805 -3.707654\n",
       "23 2               15            94                  40.41516 -3.707311\n",
       "24 2                0            80                  40.41911 -3.706793\n",
       "25 2               11            88                  40.41596 -3.703019\n",
       "26 1               28            97                  40.41601 -3.708529\n",
       "27 2               15            90                  40.41805 -3.703521\n",
       "28 7               20            95                  40.41444 -3.706969\n",
       "   Square.Meters\n",
       "1   74.97272    \n",
       "2   99.96363    \n",
       "3   87.97914    \n",
       "4   65.03210    \n",
       "5   40.04119    \n",
       "6   24.99091    \n",
       "7   69.95596    \n",
       "8   69.95596    \n",
       "9   85.00624    \n",
       "10  40.04119    \n",
       "11 200.02016    \n",
       "12 120.03068    \n",
       "13  60.01534    \n",
       "14  44.96505    \n",
       "15  49.98181    \n",
       "16 134.98806    \n",
       "17  44.96505    \n",
       "18  74.97272    \n",
       "19  40.04119    \n",
       "20 200.02016    \n",
       "21  30.00767    \n",
       "22 115.01391    \n",
       "23  56.02051    \n",
       "24  36.97539    \n",
       "25  54.99858    \n",
       "26  82.03335    \n",
       "27  60.01534    \n",
       "28 150.03834    "
      ]
     },
     "metadata": {},
     "output_type": "display_data"
    }
   ],
   "source": [
    "df_madrid_sol <- Square.Meters_No_NA %>% filter(Neighbourhood==\"Sol\")\n",
    "df_madrid_sol"
   ]
  },
  {
   "cell_type": "code",
   "execution_count": 21,
   "metadata": {},
   "outputs": [
    {
     "data": {
      "text/html": [
       "<span style=white-space:pre-wrap>'¿Cuantos metros cuadrados tendría?:  90.0487825590484'</span>"
      ],
      "text/latex": [
       "'¿Cuantos metros cuadrados tendría?:  90.0487825590484'"
      ],
      "text/markdown": [
       "<span style=white-space:pre-wrap>'¿Cuantos metros cuadrados tendría?:  90.0487825590484'</span>"
      ],
      "text/plain": [
       "[1] \"¿Cuantos metros cuadrados tendría?:  90.0487825590484\""
      ]
     },
     "metadata": {},
     "output_type": "display_data"
    },
    {
     "data": {
      "text/html": [
       "<span style=white-space:pre-wrap>'¿Como varía sus metros cuadrados con cada habitación adicional?:  19.3986735041786'</span>"
      ],
      "text/latex": [
       "'¿Como varía sus metros cuadrados con cada habitación adicional?:  19.3986735041786'"
      ],
      "text/markdown": [
       "<span style=white-space:pre-wrap>'¿Como varía sus metros cuadrados con cada habitación adicional?:  19.3986735041786'</span>"
      ],
      "text/plain": [
       "[1] \"¿Como varía sus metros cuadrados con cada habitación adicional?:  19.3986735041786\""
      ]
     },
     "metadata": {},
     "output_type": "display_data"
    }
   ],
   "source": [
    "predict_piso <- predict(modelo, data.frame(Accommodates=6,Bathrooms=1,Bedrooms=3,Beds=3,Price=80,Review.Scores.Rating=80,\n",
    "                                     Guests.Included=2,Extra.People=10,neighb_id=as.factor(2)))\n",
    "\n",
    "paste(\"¿Cuantos metros cuadrados tendría?: \",predict_piso)\n",
    "\n",
    "\n",
    "predict_piso2 <- predict(modelo, data.frame(Accommodates=6,Bathrooms=1,Bedrooms=4,Beds=3,Price=80,Review.Scores.Rating=80,\n",
    "                                     Guests.Included=2,Extra.People=10,neighb_id=as.factor(2)))\n",
    "paste(\"¿Como varía sus metros cuadrados con cada habitación adicional?: \",predict_piso2-predict_piso)"
   ]
  },
  {
   "cell_type": "markdown",
   "metadata": {},
   "source": [
    "Rellenar los Square.Meters con valor NA con el estimado con el modelo anterior."
   ]
  },
  {
   "cell_type": "code",
   "execution_count": 22,
   "metadata": {
    "scrolled": true
   },
   "outputs": [
    {
     "data": {
      "text/html": [
       "<ol class=list-inline>\n",
       "\t<li>174</li>\n",
       "\t<li>13</li>\n",
       "</ol>\n"
      ],
      "text/latex": [
       "\\begin{enumerate*}\n",
       "\\item 174\n",
       "\\item 13\n",
       "\\end{enumerate*}\n"
      ],
      "text/markdown": [
       "1. 174\n",
       "2. 13\n",
       "\n",
       "\n"
      ],
      "text/plain": [
       "[1] 174  13"
      ]
     },
     "metadata": {},
     "output_type": "display_data"
    },
    {
     "data": {
      "text/html": [
       "<table>\n",
       "<thead><tr><th></th><th scope=col>Neighbourhood</th><th scope=col>Accommodates</th><th scope=col>Bathrooms</th><th scope=col>Bedrooms</th><th scope=col>Beds</th><th scope=col>Price</th><th scope=col>Square.Feet</th><th scope=col>Guests.Included</th><th scope=col>Extra.People</th><th scope=col>Review.Scores.Rating</th><th scope=col>Latitude</th><th scope=col>Longitude</th><th scope=col>Square.Meters</th></tr></thead>\n",
       "<tbody>\n",
       "\t<tr><th scope=row>2537</th><td>Embajadores</td><td> 3         </td><td>1.0        </td><td>1          </td><td>2          </td><td> 85        </td><td> 700       </td><td>2          </td><td> 8         </td><td> 93        </td><td>40.40831   </td><td>-3.703663  </td><td> 65.03210  </td></tr>\n",
       "\t<tr><th scope=row>2203</th><td>Adelfas    </td><td> 6         </td><td>1.5        </td><td>2          </td><td>6          </td><td> 60        </td><td> 753       </td><td>2          </td><td>15         </td><td> 94        </td><td>40.39912   </td><td>-3.670071  </td><td> 69.95596  </td></tr>\n",
       "\t<tr><th scope=row>2582</th><td>MalasaÃ±a  </td><td> 2         </td><td>1.0        </td><td>0          </td><td>1          </td><td> 75        </td><td> 377       </td><td>1          </td><td> 0         </td><td> 67        </td><td>40.42902   </td><td>-3.703978  </td><td> 35.02443  </td></tr>\n",
       "\t<tr><th scope=row>1767</th><td>Cortes     </td><td> 6         </td><td>1.0        </td><td>2          </td><td>5          </td><td> 60        </td><td> 538       </td><td>2          </td><td>30         </td><td> 88        </td><td>40.41302   </td><td>-3.694232  </td><td> 49.98181  </td></tr>\n",
       "\t<tr><th scope=row>883</th><td>La Latina  </td><td> 4         </td><td>1.0        </td><td>2          </td><td>4          </td><td> 70        </td><td> 484       </td><td>2          </td><td>15         </td><td> 85        </td><td>40.41182   </td><td>-3.709931  </td><td> 44.96505  </td></tr>\n",
       "\t<tr><th scope=row>3825</th><td>La Latina  </td><td> 4         </td><td>1.0        </td><td>1          </td><td>2          </td><td> 50        </td><td> 646       </td><td>2          </td><td> 5         </td><td> 94        </td><td>40.40922   </td><td>-3.706288  </td><td> 60.01534  </td></tr>\n",
       "\t<tr><th scope=row>4832</th><td>Sol        </td><td>10         </td><td>2.0        </td><td>5          </td><td>8          </td><td>300        </td><td>1615       </td><td>7          </td><td>20         </td><td> 95        </td><td>40.41444   </td><td>-3.706969  </td><td>150.03834  </td></tr>\n",
       "\t<tr><th scope=row>2225</th><td>Cortes     </td><td> 6         </td><td>2.0        </td><td>2          </td><td>4          </td><td>500        </td><td> 807       </td><td>4          </td><td>15         </td><td> 96        </td><td>40.41364   </td><td>-3.697923  </td><td> 74.97272  </td></tr>\n",
       "\t<tr><th scope=row>3557</th><td>MalasaÃ±a  </td><td> 2         </td><td>1.0        </td><td>1          </td><td>2          </td><td> 50        </td><td> 291       </td><td>1          </td><td> 0         </td><td> 87        </td><td>40.42600   </td><td>-3.712278  </td><td> 27.03477  </td></tr>\n",
       "\t<tr><th scope=row>3509</th><td>MalasaÃ±a  </td><td> 6         </td><td>1.0        </td><td>2          </td><td>3          </td><td> 68        </td><td> 646       </td><td>4          </td><td>15         </td><td> 94        </td><td>40.42360   </td><td>-3.702581  </td><td> 60.01534  </td></tr>\n",
       "\t<tr><th scope=row>982</th><td>Almenara   </td><td> 6         </td><td>1.5        </td><td>3          </td><td>4          </td><td>170        </td><td>1507       </td><td>2          </td><td>25         </td><td> 87        </td><td>40.47293   </td><td>-3.689449  </td><td>140.00482  </td></tr>\n",
       "\t<tr><th scope=row>3128</th><td>Palacio    </td><td> 5         </td><td>1.0        </td><td>1          </td><td>1          </td><td> 62        </td><td> 538       </td><td>3          </td><td>10         </td><td>100        </td><td>40.41707   </td><td>-3.708815  </td><td> 49.98181  </td></tr>\n",
       "\t<tr><th scope=row>3062</th><td>Justicia   </td><td> 6         </td><td> NA        </td><td>2          </td><td>4          </td><td>102        </td><td> 753       </td><td>1          </td><td>11         </td><td> 81        </td><td>40.42329   </td><td>-3.698175  </td><td> 69.95596  </td></tr>\n",
       "\t<tr><th scope=row>368</th><td>Sol        </td><td> 6         </td><td>2.0        </td><td>2          </td><td>3          </td><td>140        </td><td>1076       </td><td>3          </td><td>10         </td><td> 94        </td><td>40.41611   </td><td>-3.707456  </td><td> 99.96363  </td></tr>\n",
       "\t<tr><th scope=row>4253</th><td>MalasaÃ±a  </td><td> 2         </td><td>1.0        </td><td>1          </td><td>1          </td><td> 54        </td><td> 323       </td><td>1          </td><td> 0         </td><td> 94        </td><td>40.42513   </td><td>-3.704265  </td><td> 30.00767  </td></tr>\n",
       "\t<tr><th scope=row>1556</th><td>Cortes     </td><td> 4         </td><td>1.0        </td><td>1          </td><td>2          </td><td> 67        </td><td> 431       </td><td>2          </td><td> 5         </td><td>100        </td><td>40.41307   </td><td>-3.697037  </td><td> 40.04119  </td></tr>\n",
       "\t<tr><th scope=row>1884</th><td>Goya       </td><td> 4         </td><td>1.0        </td><td>2          </td><td>4          </td><td>100        </td><td> 700       </td><td>1          </td><td> 0         </td><td> 97        </td><td>40.42460   </td><td>-3.679277  </td><td> 65.03210  </td></tr>\n",
       "\t<tr><th scope=row>3668</th><td>Sol        </td><td> 2         </td><td>1.0        </td><td>0          </td><td>1          </td><td> 69        </td><td> 323       </td><td>1          </td><td> 0         </td><td> 96        </td><td>40.41680   </td><td>-3.704462  </td><td> 30.00767  </td></tr>\n",
       "\t<tr><th scope=row>3527</th><td>Sol        </td><td>10         </td><td>3.0        </td><td>3          </td><td>7          </td><td>150        </td><td> 807       </td><td>8          </td><td>20         </td><td> 65        </td><td>40.41869   </td><td>-3.703180  </td><td> 74.97272  </td></tr>\n",
       "\t<tr><th scope=row>3002</th><td>Lista      </td><td> 6         </td><td>3.0        </td><td>4          </td><td>3          </td><td>170        </td><td>1507       </td><td>5          </td><td> 0         </td><td> 96        </td><td>40.43287   </td><td>-3.675902  </td><td>140.00482  </td></tr>\n",
       "\t<tr><th scope=row>773</th><td>Sol        </td><td> 2         </td><td>1.0        </td><td>1          </td><td>1          </td><td> 65        </td><td> 431       </td><td>2          </td><td> 0         </td><td> 90        </td><td>40.41888   </td><td>-3.703460  </td><td> 40.04119  </td></tr>\n",
       "\t<tr><th scope=row>4737</th><td>La Latina  </td><td> 6         </td><td>1.0        </td><td>2          </td><td>4          </td><td>116        </td><td> 646       </td><td>4          </td><td>20         </td><td> 96        </td><td>40.41218   </td><td>-3.713691  </td><td> 60.01534  </td></tr>\n",
       "\t<tr><th scope=row>4802</th><td>Embajadores</td><td> 3         </td><td>1.0        </td><td>1          </td><td>1          </td><td> 45        </td><td> 344       </td><td>1          </td><td> 0         </td><td> 97        </td><td>40.40992   </td><td>-3.701764  </td><td> 31.95863  </td></tr>\n",
       "\t<tr><th scope=row>1855</th><td>Sol        </td><td> 8         </td><td>2.0        </td><td>4          </td><td>5          </td><td>250        </td><td>2153       </td><td>8          </td><td>25         </td><td> 99        </td><td>40.41653   </td><td>-3.703081  </td><td>200.02016  </td></tr>\n",
       "\t<tr><th scope=row>855</th><td>Embajadores</td><td> 4         </td><td>1.0        </td><td>1          </td><td>2          </td><td> 56        </td><td> 592       </td><td>2          </td><td> 7         </td><td> 93        </td><td>40.40814   </td><td>-3.701711  </td><td> 54.99858  </td></tr>\n",
       "\t<tr><th scope=row>2280</th><td>MalasaÃ±a  </td><td> 9         </td><td>2.0        </td><td>3          </td><td>4          </td><td>120        </td><td>1076       </td><td>6          </td><td>25         </td><td> 83        </td><td>40.42081   </td><td>-3.706499  </td><td> 99.96363  </td></tr>\n",
       "\t<tr><th scope=row>4219</th><td>La Latina  </td><td> 4         </td><td>1.0        </td><td>1          </td><td>2          </td><td> 60        </td><td> 549       </td><td>2          </td><td>15         </td><td> 95        </td><td>40.40994   </td><td>-3.710366  </td><td> 51.00375  </td></tr>\n",
       "\t<tr><th scope=row>523</th><td>Embajadores</td><td> 4         </td><td>1.0        </td><td>1          </td><td>3          </td><td> 72        </td><td> 560       </td><td>1          </td><td>10         </td><td> 94        </td><td>40.41236   </td><td>-3.702838  </td><td> 52.02568  </td></tr>\n",
       "\t<tr><th scope=row>4225</th><td>Embajadores</td><td> 6         </td><td>1.0        </td><td>2          </td><td>4          </td><td> 75        </td><td> 753       </td><td>2          </td><td> 5         </td><td> 90        </td><td>40.41059   </td><td>-3.703397  </td><td> 69.95596  </td></tr>\n",
       "\t<tr><th scope=row>105</th><td>Recoletos  </td><td> 2         </td><td>1.0        </td><td>0          </td><td>2          </td><td> 61        </td><td> 323       </td><td>1          </td><td> 0         </td><td> 92        </td><td>40.42800   </td><td>-3.686409  </td><td> 30.00767  </td></tr>\n",
       "\t<tr><th scope=row>...</th><td>...</td><td>...</td><td>...</td><td>...</td><td>...</td><td>...</td><td>...</td><td>...</td><td>...</td><td>...</td><td>...</td><td>...</td><td>...</td></tr>\n",
       "\t<tr><th scope=row>1672</th><td>Almenara       </td><td> 4             </td><td>1.0            </td><td>0              </td><td> 1             </td><td> 52            </td><td> 431           </td><td>2              </td><td>  0            </td><td> 53            </td><td>40.47226       </td><td>-3.692849      </td><td> 40.04119      </td></tr>\n",
       "\t<tr><th scope=row>1761</th><td>Embajadores    </td><td> 2             </td><td>1.0            </td><td>1              </td><td> 1             </td><td> 50            </td><td> 431           </td><td>1              </td><td>  0            </td><td> 94            </td><td>40.41047       </td><td>-3.702071      </td><td> 40.04119      </td></tr>\n",
       "\t<tr><th scope=row>1847</th><td>Retiro         </td><td> 6             </td><td>1.0            </td><td>3              </td><td> 4             </td><td> 91            </td><td> 807           </td><td>1              </td><td>  0            </td><td> 96            </td><td>40.40668       </td><td>-3.678839      </td><td> 74.97272      </td></tr>\n",
       "\t<tr><th scope=row>2219</th><td>Acacias        </td><td> 4             </td><td>1.0            </td><td>1              </td><td> 3             </td><td> 68            </td><td> 807           </td><td>2              </td><td> 10            </td><td> 90            </td><td>40.39691       </td><td>-3.705202      </td><td> 74.97272      </td></tr>\n",
       "\t<tr><th scope=row>2327</th><td>El TrÃ©ntaiseis</td><td> 6             </td><td>3.0            </td><td>3              </td><td> 3             </td><td> NA            </td><td>1776           </td><td>1              </td><td>250            </td><td> NA            </td><td>40.40908       </td><td>-3.673131      </td><td>164.99573      </td></tr>\n",
       "\t<tr><th scope=row>2607</th><td>Castilla       </td><td> 6             </td><td>2.0            </td><td>2              </td><td> 4             </td><td> 85            </td><td>1130           </td><td>4              </td><td> 10            </td><td>100            </td><td>40.47267       </td><td>-3.675531      </td><td>104.98039      </td></tr>\n",
       "\t<tr><th scope=row>2615</th><td>Castellana     </td><td> 7             </td><td>2.0            </td><td>3              </td><td> 6             </td><td>450            </td><td>1292           </td><td>1              </td><td>  0            </td><td> NA            </td><td>40.43186       </td><td>-3.685074      </td><td>120.03068      </td></tr>\n",
       "\t<tr><th scope=row>2660</th><td>MalasaÃ±a      </td><td> 5             </td><td>2.5            </td><td>3              </td><td> 3             </td><td> 73            </td><td>1076           </td><td>2              </td><td> 10            </td><td> 96            </td><td>40.42308       </td><td>-3.705691      </td><td> 99.96363      </td></tr>\n",
       "\t<tr><th scope=row>2671</th><td>Justicia       </td><td> 3             </td><td>1.0            </td><td>0              </td><td> 1             </td><td> 53            </td><td> 484           </td><td>1              </td><td> 10            </td><td> 90            </td><td>40.42173       </td><td>-3.700142      </td><td> 44.96505      </td></tr>\n",
       "\t<tr><th scope=row>2681</th><td>La Latina      </td><td> 5             </td><td>1.0            </td><td>2              </td><td> 3             </td><td> 90            </td><td> 753           </td><td>2              </td><td> 20            </td><td> 88            </td><td>40.41366       </td><td>-3.706431      </td><td> 69.95596      </td></tr>\n",
       "\t<tr><th scope=row>2796</th><td>Justicia       </td><td> 6             </td><td>1.0            </td><td>2              </td><td> 3             </td><td> 90            </td><td> 807           </td><td>2              </td><td> 15            </td><td> 95            </td><td>40.42469       </td><td>-3.696031      </td><td> 74.97272      </td></tr>\n",
       "\t<tr><th scope=row>2934</th><td>Embajadores    </td><td> 4             </td><td>1.0            </td><td>1              </td><td> 1             </td><td> 67            </td><td> 646           </td><td>2              </td><td> 15            </td><td> 97            </td><td>40.40858       </td><td>-3.701371      </td><td> 60.01534      </td></tr>\n",
       "\t<tr><th scope=row>3000</th><td>Almenara       </td><td> 4             </td><td>1.0            </td><td>0              </td><td> 1             </td><td> 52            </td><td> 484           </td><td>1              </td><td>  0            </td><td> 80            </td><td>40.47149       </td><td>-3.691282      </td><td> 44.96505      </td></tr>\n",
       "\t<tr><th scope=row>3112</th><td>Sol            </td><td> 3             </td><td>1.0            </td><td>1              </td><td> 1             </td><td>100            </td><td> 484           </td><td>2              </td><td> 10            </td><td> 96            </td><td>40.41985       </td><td>-3.703648      </td><td> 44.96505      </td></tr>\n",
       "\t<tr><th scope=row>3273</th><td>San Blas       </td><td> 6             </td><td>1.5            </td><td>2              </td><td> 4             </td><td> 85            </td><td>1292           </td><td>4              </td><td> 10            </td><td> 92            </td><td>40.44018       </td><td>-3.617583      </td><td>120.03068      </td></tr>\n",
       "\t<tr><th scope=row>3303</th><td>Embajadores    </td><td> 4             </td><td>1.0            </td><td>1              </td><td> 2             </td><td> 50            </td><td> 592           </td><td>2              </td><td> 15            </td><td> 88            </td><td>40.41153       </td><td>-3.699984      </td><td> 54.99858      </td></tr>\n",
       "\t<tr><th scope=row>3305</th><td>Embajadores    </td><td> 2             </td><td>1.0            </td><td>1              </td><td> 1             </td><td> 52            </td><td> 538           </td><td>1              </td><td>  0            </td><td> 95            </td><td>40.40803       </td><td>-3.698546      </td><td> 49.98181      </td></tr>\n",
       "\t<tr><th scope=row>3365</th><td>Sol            </td><td> 4             </td><td>1.0            </td><td>1              </td><td> 2             </td><td>108            </td><td> 538           </td><td>2              </td><td> 15            </td><td> 95            </td><td>40.41595       </td><td>-3.702808      </td><td> 49.98181      </td></tr>\n",
       "\t<tr><th scope=row>3729</th><td>JerÃ³nimos     </td><td> 4             </td><td>2.0            </td><td>1              </td><td> 2             </td><td> 95            </td><td> 700           </td><td>2              </td><td> 15            </td><td> 91            </td><td>40.41301       </td><td>-3.689135      </td><td> 65.03210      </td></tr>\n",
       "\t<tr><th scope=row>3731</th><td>JerÃ³nimos     </td><td>16             </td><td>5.0            </td><td>5              </td><td>13             </td><td>365            </td><td>5167           </td><td>5              </td><td> 37            </td><td> 98            </td><td>40.41826       </td><td>-3.690208      </td><td>480.02980      </td></tr>\n",
       "\t<tr><th scope=row>3736</th><td>Almenara       </td><td> 6             </td><td>2.0            </td><td>1              </td><td> 2             </td><td> 67            </td><td> 646           </td><td>4              </td><td>  0            </td><td> 73            </td><td>40.47335       </td><td>-3.691577      </td><td> 60.01534      </td></tr>\n",
       "\t<tr><th scope=row>3815</th><td>Embajadores    </td><td> 7             </td><td>1.0            </td><td>3              </td><td> 4             </td><td>100            </td><td> 807           </td><td>2              </td><td> 40            </td><td> 96            </td><td>40.40894       </td><td>-3.697660      </td><td> 74.97272      </td></tr>\n",
       "\t<tr><th scope=row>4089</th><td>Acacias        </td><td> 4             </td><td>1.0            </td><td>1              </td><td> 2             </td><td> 60            </td><td> 753           </td><td>2              </td><td> 12            </td><td> 85            </td><td>40.40073       </td><td>-3.706203      </td><td> 69.95596      </td></tr>\n",
       "\t<tr><th scope=row>4228</th><td>Justicia       </td><td> 6             </td><td>1.0            </td><td>2              </td><td> 6             </td><td>500            </td><td> 732           </td><td>4              </td><td> 15            </td><td> 93            </td><td>40.42051       </td><td>-3.699712      </td><td> 68.00500      </td></tr>\n",
       "\t<tr><th scope=row>4372</th><td>MalasaÃ±a      </td><td> 4             </td><td>1.0            </td><td>1              </td><td> 1             </td><td> 55            </td><td> 452           </td><td>1              </td><td> 10            </td><td> 91            </td><td>40.42571       </td><td>-3.703933      </td><td> 41.99216      </td></tr>\n",
       "\t<tr><th scope=row>4432</th><td>Centro         </td><td> 2             </td><td>1.0            </td><td>1              </td><td> 2             </td><td> 42            </td><td> 269           </td><td>1              </td><td> 15            </td><td> 85            </td><td>40.42542       </td><td>-3.712613      </td><td> 24.99091      </td></tr>\n",
       "\t<tr><th scope=row>4441</th><td>ArgÃ¼elles     </td><td> 5             </td><td>1.0            </td><td>2              </td><td> 3             </td><td> 80            </td><td> 807           </td><td>1              </td><td>  0            </td><td> 80            </td><td>40.42460       </td><td>-3.728758      </td><td> 74.97272      </td></tr>\n",
       "\t<tr><th scope=row>4556</th><td>Embajadores    </td><td> 3             </td><td>1.0            </td><td>2              </td><td> 2             </td><td> 78            </td><td> 538           </td><td>2              </td><td> 10            </td><td> 94            </td><td>40.41082       </td><td>-3.701474      </td><td> 49.98181      </td></tr>\n",
       "\t<tr><th scope=row>4819</th><td>MalasaÃ±a      </td><td> 4             </td><td>1.0            </td><td>2              </td><td> 3             </td><td> 40            </td><td> 484           </td><td>2              </td><td> 10            </td><td> 87            </td><td>40.42586       </td><td>-3.710491      </td><td> 44.96505      </td></tr>\n",
       "\t<tr><th scope=row>4877</th><td>La Latina      </td><td> 2             </td><td>1.0            </td><td>1              </td><td> 1             </td><td> 75            </td><td> 431           </td><td>1              </td><td>  0            </td><td> 98            </td><td>40.40862       </td><td>-3.707649      </td><td> 40.04119      </td></tr>\n",
       "</tbody>\n",
       "</table>\n"
      ],
      "text/latex": [
       "\\begin{tabular}{r|lllllllllllll}\n",
       "  & Neighbourhood & Accommodates & Bathrooms & Bedrooms & Beds & Price & Square.Feet & Guests.Included & Extra.People & Review.Scores.Rating & Latitude & Longitude & Square.Meters\\\\\n",
       "\\hline\n",
       "\t2537 & Embajadores &  3          & 1.0         & 1           & 2           &  85         &  700        & 2           &  8          &  93         & 40.40831    & -3.703663   &  65.03210  \\\\\n",
       "\t2203 & Adelfas     &  6          & 1.5         & 2           & 6           &  60         &  753        & 2           & 15          &  94         & 40.39912    & -3.670071   &  69.95596  \\\\\n",
       "\t2582 & MalasaÃ±a   &  2          & 1.0         & 0           & 1           &  75         &  377        & 1           &  0          &  67         & 40.42902    & -3.703978   &  35.02443  \\\\\n",
       "\t1767 & Cortes      &  6          & 1.0         & 2           & 5           &  60         &  538        & 2           & 30          &  88         & 40.41302    & -3.694232   &  49.98181  \\\\\n",
       "\t883 & La Latina   &  4          & 1.0         & 2           & 4           &  70         &  484        & 2           & 15          &  85         & 40.41182    & -3.709931   &  44.96505  \\\\\n",
       "\t3825 & La Latina   &  4          & 1.0         & 1           & 2           &  50         &  646        & 2           &  5          &  94         & 40.40922    & -3.706288   &  60.01534  \\\\\n",
       "\t4832 & Sol         & 10          & 2.0         & 5           & 8           & 300         & 1615        & 7           & 20          &  95         & 40.41444    & -3.706969   & 150.03834  \\\\\n",
       "\t2225 & Cortes      &  6          & 2.0         & 2           & 4           & 500         &  807        & 4           & 15          &  96         & 40.41364    & -3.697923   &  74.97272  \\\\\n",
       "\t3557 & MalasaÃ±a   &  2          & 1.0         & 1           & 2           &  50         &  291        & 1           &  0          &  87         & 40.42600    & -3.712278   &  27.03477  \\\\\n",
       "\t3509 & MalasaÃ±a   &  6          & 1.0         & 2           & 3           &  68         &  646        & 4           & 15          &  94         & 40.42360    & -3.702581   &  60.01534  \\\\\n",
       "\t982 & Almenara    &  6          & 1.5         & 3           & 4           & 170         & 1507        & 2           & 25          &  87         & 40.47293    & -3.689449   & 140.00482  \\\\\n",
       "\t3128 & Palacio     &  5          & 1.0         & 1           & 1           &  62         &  538        & 3           & 10          & 100         & 40.41707    & -3.708815   &  49.98181  \\\\\n",
       "\t3062 & Justicia    &  6          &  NA         & 2           & 4           & 102         &  753        & 1           & 11          &  81         & 40.42329    & -3.698175   &  69.95596  \\\\\n",
       "\t368 & Sol         &  6          & 2.0         & 2           & 3           & 140         & 1076        & 3           & 10          &  94         & 40.41611    & -3.707456   &  99.96363  \\\\\n",
       "\t4253 & MalasaÃ±a   &  2          & 1.0         & 1           & 1           &  54         &  323        & 1           &  0          &  94         & 40.42513    & -3.704265   &  30.00767  \\\\\n",
       "\t1556 & Cortes      &  4          & 1.0         & 1           & 2           &  67         &  431        & 2           &  5          & 100         & 40.41307    & -3.697037   &  40.04119  \\\\\n",
       "\t1884 & Goya        &  4          & 1.0         & 2           & 4           & 100         &  700        & 1           &  0          &  97         & 40.42460    & -3.679277   &  65.03210  \\\\\n",
       "\t3668 & Sol         &  2          & 1.0         & 0           & 1           &  69         &  323        & 1           &  0          &  96         & 40.41680    & -3.704462   &  30.00767  \\\\\n",
       "\t3527 & Sol         & 10          & 3.0         & 3           & 7           & 150         &  807        & 8           & 20          &  65         & 40.41869    & -3.703180   &  74.97272  \\\\\n",
       "\t3002 & Lista       &  6          & 3.0         & 4           & 3           & 170         & 1507        & 5           &  0          &  96         & 40.43287    & -3.675902   & 140.00482  \\\\\n",
       "\t773 & Sol         &  2          & 1.0         & 1           & 1           &  65         &  431        & 2           &  0          &  90         & 40.41888    & -3.703460   &  40.04119  \\\\\n",
       "\t4737 & La Latina   &  6          & 1.0         & 2           & 4           & 116         &  646        & 4           & 20          &  96         & 40.41218    & -3.713691   &  60.01534  \\\\\n",
       "\t4802 & Embajadores &  3          & 1.0         & 1           & 1           &  45         &  344        & 1           &  0          &  97         & 40.40992    & -3.701764   &  31.95863  \\\\\n",
       "\t1855 & Sol         &  8          & 2.0         & 4           & 5           & 250         & 2153        & 8           & 25          &  99         & 40.41653    & -3.703081   & 200.02016  \\\\\n",
       "\t855 & Embajadores &  4          & 1.0         & 1           & 2           &  56         &  592        & 2           &  7          &  93         & 40.40814    & -3.701711   &  54.99858  \\\\\n",
       "\t2280 & MalasaÃ±a   &  9          & 2.0         & 3           & 4           & 120         & 1076        & 6           & 25          &  83         & 40.42081    & -3.706499   &  99.96363  \\\\\n",
       "\t4219 & La Latina   &  4          & 1.0         & 1           & 2           &  60         &  549        & 2           & 15          &  95         & 40.40994    & -3.710366   &  51.00375  \\\\\n",
       "\t523 & Embajadores &  4          & 1.0         & 1           & 3           &  72         &  560        & 1           & 10          &  94         & 40.41236    & -3.702838   &  52.02568  \\\\\n",
       "\t4225 & Embajadores &  6          & 1.0         & 2           & 4           &  75         &  753        & 2           &  5          &  90         & 40.41059    & -3.703397   &  69.95596  \\\\\n",
       "\t105 & Recoletos   &  2          & 1.0         & 0           & 2           &  61         &  323        & 1           &  0          &  92         & 40.42800    & -3.686409   &  30.00767  \\\\\n",
       "\t... & ... & ... & ... & ... & ... & ... & ... & ... & ... & ... & ... & ... & ...\\\\\n",
       "\t1672 & Almenara        &  4              & 1.0             & 0               &  1              &  52             &  431            & 2               &   0             &  53             & 40.47226        & -3.692849       &  40.04119      \\\\\n",
       "\t1761 & Embajadores     &  2              & 1.0             & 1               &  1              &  50             &  431            & 1               &   0             &  94             & 40.41047        & -3.702071       &  40.04119      \\\\\n",
       "\t1847 & Retiro          &  6              & 1.0             & 3               &  4              &  91             &  807            & 1               &   0             &  96             & 40.40668        & -3.678839       &  74.97272      \\\\\n",
       "\t2219 & Acacias         &  4              & 1.0             & 1               &  3              &  68             &  807            & 2               &  10             &  90             & 40.39691        & -3.705202       &  74.97272      \\\\\n",
       "\t2327 & El TrÃ©ntaiseis &  6              & 3.0             & 3               &  3              &  NA             & 1776            & 1               & 250             &  NA             & 40.40908        & -3.673131       & 164.99573      \\\\\n",
       "\t2607 & Castilla        &  6              & 2.0             & 2               &  4              &  85             & 1130            & 4               &  10             & 100             & 40.47267        & -3.675531       & 104.98039      \\\\\n",
       "\t2615 & Castellana      &  7              & 2.0             & 3               &  6              & 450             & 1292            & 1               &   0             &  NA             & 40.43186        & -3.685074       & 120.03068      \\\\\n",
       "\t2660 & MalasaÃ±a       &  5              & 2.5             & 3               &  3              &  73             & 1076            & 2               &  10             &  96             & 40.42308        & -3.705691       &  99.96363      \\\\\n",
       "\t2671 & Justicia        &  3              & 1.0             & 0               &  1              &  53             &  484            & 1               &  10             &  90             & 40.42173        & -3.700142       &  44.96505      \\\\\n",
       "\t2681 & La Latina       &  5              & 1.0             & 2               &  3              &  90             &  753            & 2               &  20             &  88             & 40.41366        & -3.706431       &  69.95596      \\\\\n",
       "\t2796 & Justicia        &  6              & 1.0             & 2               &  3              &  90             &  807            & 2               &  15             &  95             & 40.42469        & -3.696031       &  74.97272      \\\\\n",
       "\t2934 & Embajadores     &  4              & 1.0             & 1               &  1              &  67             &  646            & 2               &  15             &  97             & 40.40858        & -3.701371       &  60.01534      \\\\\n",
       "\t3000 & Almenara        &  4              & 1.0             & 0               &  1              &  52             &  484            & 1               &   0             &  80             & 40.47149        & -3.691282       &  44.96505      \\\\\n",
       "\t3112 & Sol             &  3              & 1.0             & 1               &  1              & 100             &  484            & 2               &  10             &  96             & 40.41985        & -3.703648       &  44.96505      \\\\\n",
       "\t3273 & San Blas        &  6              & 1.5             & 2               &  4              &  85             & 1292            & 4               &  10             &  92             & 40.44018        & -3.617583       & 120.03068      \\\\\n",
       "\t3303 & Embajadores     &  4              & 1.0             & 1               &  2              &  50             &  592            & 2               &  15             &  88             & 40.41153        & -3.699984       &  54.99858      \\\\\n",
       "\t3305 & Embajadores     &  2              & 1.0             & 1               &  1              &  52             &  538            & 1               &   0             &  95             & 40.40803        & -3.698546       &  49.98181      \\\\\n",
       "\t3365 & Sol             &  4              & 1.0             & 1               &  2              & 108             &  538            & 2               &  15             &  95             & 40.41595        & -3.702808       &  49.98181      \\\\\n",
       "\t3729 & JerÃ³nimos      &  4              & 2.0             & 1               &  2              &  95             &  700            & 2               &  15             &  91             & 40.41301        & -3.689135       &  65.03210      \\\\\n",
       "\t3731 & JerÃ³nimos      & 16              & 5.0             & 5               & 13              & 365             & 5167            & 5               &  37             &  98             & 40.41826        & -3.690208       & 480.02980      \\\\\n",
       "\t3736 & Almenara        &  6              & 2.0             & 1               &  2              &  67             &  646            & 4               &   0             &  73             & 40.47335        & -3.691577       &  60.01534      \\\\\n",
       "\t3815 & Embajadores     &  7              & 1.0             & 3               &  4              & 100             &  807            & 2               &  40             &  96             & 40.40894        & -3.697660       &  74.97272      \\\\\n",
       "\t4089 & Acacias         &  4              & 1.0             & 1               &  2              &  60             &  753            & 2               &  12             &  85             & 40.40073        & -3.706203       &  69.95596      \\\\\n",
       "\t4228 & Justicia        &  6              & 1.0             & 2               &  6              & 500             &  732            & 4               &  15             &  93             & 40.42051        & -3.699712       &  68.00500      \\\\\n",
       "\t4372 & MalasaÃ±a       &  4              & 1.0             & 1               &  1              &  55             &  452            & 1               &  10             &  91             & 40.42571        & -3.703933       &  41.99216      \\\\\n",
       "\t4432 & Centro          &  2              & 1.0             & 1               &  2              &  42             &  269            & 1               &  15             &  85             & 40.42542        & -3.712613       &  24.99091      \\\\\n",
       "\t4441 & ArgÃ¼elles      &  5              & 1.0             & 2               &  3              &  80             &  807            & 1               &   0             &  80             & 40.42460        & -3.728758       &  74.97272      \\\\\n",
       "\t4556 & Embajadores     &  3              & 1.0             & 2               &  2              &  78             &  538            & 2               &  10             &  94             & 40.41082        & -3.701474       &  49.98181      \\\\\n",
       "\t4819 & MalasaÃ±a       &  4              & 1.0             & 2               &  3              &  40             &  484            & 2               &  10             &  87             & 40.42586        & -3.710491       &  44.96505      \\\\\n",
       "\t4877 & La Latina       &  2              & 1.0             & 1               &  1              &  75             &  431            & 1               &   0             &  98             & 40.40862        & -3.707649       &  40.04119      \\\\\n",
       "\\end{tabular}\n"
      ],
      "text/markdown": [
       "\n",
       "| <!--/--> | Neighbourhood | Accommodates | Bathrooms | Bedrooms | Beds | Price | Square.Feet | Guests.Included | Extra.People | Review.Scores.Rating | Latitude | Longitude | Square.Meters |\n",
       "|---|---|---|---|---|---|---|---|---|---|---|---|---|---|\n",
       "| 2537 | Embajadores |  3          | 1.0         | 1           | 2           |  85         |  700        | 2           |  8          |  93         | 40.40831    | -3.703663   |  65.03210   |\n",
       "| 2203 | Adelfas     |  6          | 1.5         | 2           | 6           |  60         |  753        | 2           | 15          |  94         | 40.39912    | -3.670071   |  69.95596   |\n",
       "| 2582 | MalasaÃ±a   |  2          | 1.0         | 0           | 1           |  75         |  377        | 1           |  0          |  67         | 40.42902    | -3.703978   |  35.02443   |\n",
       "| 1767 | Cortes      |  6          | 1.0         | 2           | 5           |  60         |  538        | 2           | 30          |  88         | 40.41302    | -3.694232   |  49.98181   |\n",
       "| 883 | La Latina   |  4          | 1.0         | 2           | 4           |  70         |  484        | 2           | 15          |  85         | 40.41182    | -3.709931   |  44.96505   |\n",
       "| 3825 | La Latina   |  4          | 1.0         | 1           | 2           |  50         |  646        | 2           |  5          |  94         | 40.40922    | -3.706288   |  60.01534   |\n",
       "| 4832 | Sol         | 10          | 2.0         | 5           | 8           | 300         | 1615        | 7           | 20          |  95         | 40.41444    | -3.706969   | 150.03834   |\n",
       "| 2225 | Cortes      |  6          | 2.0         | 2           | 4           | 500         |  807        | 4           | 15          |  96         | 40.41364    | -3.697923   |  74.97272   |\n",
       "| 3557 | MalasaÃ±a   |  2          | 1.0         | 1           | 2           |  50         |  291        | 1           |  0          |  87         | 40.42600    | -3.712278   |  27.03477   |\n",
       "| 3509 | MalasaÃ±a   |  6          | 1.0         | 2           | 3           |  68         |  646        | 4           | 15          |  94         | 40.42360    | -3.702581   |  60.01534   |\n",
       "| 982 | Almenara    |  6          | 1.5         | 3           | 4           | 170         | 1507        | 2           | 25          |  87         | 40.47293    | -3.689449   | 140.00482   |\n",
       "| 3128 | Palacio     |  5          | 1.0         | 1           | 1           |  62         |  538        | 3           | 10          | 100         | 40.41707    | -3.708815   |  49.98181   |\n",
       "| 3062 | Justicia    |  6          |  NA         | 2           | 4           | 102         |  753        | 1           | 11          |  81         | 40.42329    | -3.698175   |  69.95596   |\n",
       "| 368 | Sol         |  6          | 2.0         | 2           | 3           | 140         | 1076        | 3           | 10          |  94         | 40.41611    | -3.707456   |  99.96363   |\n",
       "| 4253 | MalasaÃ±a   |  2          | 1.0         | 1           | 1           |  54         |  323        | 1           |  0          |  94         | 40.42513    | -3.704265   |  30.00767   |\n",
       "| 1556 | Cortes      |  4          | 1.0         | 1           | 2           |  67         |  431        | 2           |  5          | 100         | 40.41307    | -3.697037   |  40.04119   |\n",
       "| 1884 | Goya        |  4          | 1.0         | 2           | 4           | 100         |  700        | 1           |  0          |  97         | 40.42460    | -3.679277   |  65.03210   |\n",
       "| 3668 | Sol         |  2          | 1.0         | 0           | 1           |  69         |  323        | 1           |  0          |  96         | 40.41680    | -3.704462   |  30.00767   |\n",
       "| 3527 | Sol         | 10          | 3.0         | 3           | 7           | 150         |  807        | 8           | 20          |  65         | 40.41869    | -3.703180   |  74.97272   |\n",
       "| 3002 | Lista       |  6          | 3.0         | 4           | 3           | 170         | 1507        | 5           |  0          |  96         | 40.43287    | -3.675902   | 140.00482   |\n",
       "| 773 | Sol         |  2          | 1.0         | 1           | 1           |  65         |  431        | 2           |  0          |  90         | 40.41888    | -3.703460   |  40.04119   |\n",
       "| 4737 | La Latina   |  6          | 1.0         | 2           | 4           | 116         |  646        | 4           | 20          |  96         | 40.41218    | -3.713691   |  60.01534   |\n",
       "| 4802 | Embajadores |  3          | 1.0         | 1           | 1           |  45         |  344        | 1           |  0          |  97         | 40.40992    | -3.701764   |  31.95863   |\n",
       "| 1855 | Sol         |  8          | 2.0         | 4           | 5           | 250         | 2153        | 8           | 25          |  99         | 40.41653    | -3.703081   | 200.02016   |\n",
       "| 855 | Embajadores |  4          | 1.0         | 1           | 2           |  56         |  592        | 2           |  7          |  93         | 40.40814    | -3.701711   |  54.99858   |\n",
       "| 2280 | MalasaÃ±a   |  9          | 2.0         | 3           | 4           | 120         | 1076        | 6           | 25          |  83         | 40.42081    | -3.706499   |  99.96363   |\n",
       "| 4219 | La Latina   |  4          | 1.0         | 1           | 2           |  60         |  549        | 2           | 15          |  95         | 40.40994    | -3.710366   |  51.00375   |\n",
       "| 523 | Embajadores |  4          | 1.0         | 1           | 3           |  72         |  560        | 1           | 10          |  94         | 40.41236    | -3.702838   |  52.02568   |\n",
       "| 4225 | Embajadores |  6          | 1.0         | 2           | 4           |  75         |  753        | 2           |  5          |  90         | 40.41059    | -3.703397   |  69.95596   |\n",
       "| 105 | Recoletos   |  2          | 1.0         | 0           | 2           |  61         |  323        | 1           |  0          |  92         | 40.42800    | -3.686409   |  30.00767   |\n",
       "| ... | ... | ... | ... | ... | ... | ... | ... | ... | ... | ... | ... | ... | ... |\n",
       "| 1672 | Almenara        |  4              | 1.0             | 0               |  1              |  52             |  431            | 2               |   0             |  53             | 40.47226        | -3.692849       |  40.04119       |\n",
       "| 1761 | Embajadores     |  2              | 1.0             | 1               |  1              |  50             |  431            | 1               |   0             |  94             | 40.41047        | -3.702071       |  40.04119       |\n",
       "| 1847 | Retiro          |  6              | 1.0             | 3               |  4              |  91             |  807            | 1               |   0             |  96             | 40.40668        | -3.678839       |  74.97272       |\n",
       "| 2219 | Acacias         |  4              | 1.0             | 1               |  3              |  68             |  807            | 2               |  10             |  90             | 40.39691        | -3.705202       |  74.97272       |\n",
       "| 2327 | El TrÃ©ntaiseis |  6              | 3.0             | 3               |  3              |  NA             | 1776            | 1               | 250             |  NA             | 40.40908        | -3.673131       | 164.99573       |\n",
       "| 2607 | Castilla        |  6              | 2.0             | 2               |  4              |  85             | 1130            | 4               |  10             | 100             | 40.47267        | -3.675531       | 104.98039       |\n",
       "| 2615 | Castellana      |  7              | 2.0             | 3               |  6              | 450             | 1292            | 1               |   0             |  NA             | 40.43186        | -3.685074       | 120.03068       |\n",
       "| 2660 | MalasaÃ±a       |  5              | 2.5             | 3               |  3              |  73             | 1076            | 2               |  10             |  96             | 40.42308        | -3.705691       |  99.96363       |\n",
       "| 2671 | Justicia        |  3              | 1.0             | 0               |  1              |  53             |  484            | 1               |  10             |  90             | 40.42173        | -3.700142       |  44.96505       |\n",
       "| 2681 | La Latina       |  5              | 1.0             | 2               |  3              |  90             |  753            | 2               |  20             |  88             | 40.41366        | -3.706431       |  69.95596       |\n",
       "| 2796 | Justicia        |  6              | 1.0             | 2               |  3              |  90             |  807            | 2               |  15             |  95             | 40.42469        | -3.696031       |  74.97272       |\n",
       "| 2934 | Embajadores     |  4              | 1.0             | 1               |  1              |  67             |  646            | 2               |  15             |  97             | 40.40858        | -3.701371       |  60.01534       |\n",
       "| 3000 | Almenara        |  4              | 1.0             | 0               |  1              |  52             |  484            | 1               |   0             |  80             | 40.47149        | -3.691282       |  44.96505       |\n",
       "| 3112 | Sol             |  3              | 1.0             | 1               |  1              | 100             |  484            | 2               |  10             |  96             | 40.41985        | -3.703648       |  44.96505       |\n",
       "| 3273 | San Blas        |  6              | 1.5             | 2               |  4              |  85             | 1292            | 4               |  10             |  92             | 40.44018        | -3.617583       | 120.03068       |\n",
       "| 3303 | Embajadores     |  4              | 1.0             | 1               |  2              |  50             |  592            | 2               |  15             |  88             | 40.41153        | -3.699984       |  54.99858       |\n",
       "| 3305 | Embajadores     |  2              | 1.0             | 1               |  1              |  52             |  538            | 1               |   0             |  95             | 40.40803        | -3.698546       |  49.98181       |\n",
       "| 3365 | Sol             |  4              | 1.0             | 1               |  2              | 108             |  538            | 2               |  15             |  95             | 40.41595        | -3.702808       |  49.98181       |\n",
       "| 3729 | JerÃ³nimos      |  4              | 2.0             | 1               |  2              |  95             |  700            | 2               |  15             |  91             | 40.41301        | -3.689135       |  65.03210       |\n",
       "| 3731 | JerÃ³nimos      | 16              | 5.0             | 5               | 13              | 365             | 5167            | 5               |  37             |  98             | 40.41826        | -3.690208       | 480.02980       |\n",
       "| 3736 | Almenara        |  6              | 2.0             | 1               |  2              |  67             |  646            | 4               |   0             |  73             | 40.47335        | -3.691577       |  60.01534       |\n",
       "| 3815 | Embajadores     |  7              | 1.0             | 3               |  4              | 100             |  807            | 2               |  40             |  96             | 40.40894        | -3.697660       |  74.97272       |\n",
       "| 4089 | Acacias         |  4              | 1.0             | 1               |  2              |  60             |  753            | 2               |  12             |  85             | 40.40073        | -3.706203       |  69.95596       |\n",
       "| 4228 | Justicia        |  6              | 1.0             | 2               |  6              | 500             |  732            | 4               |  15             |  93             | 40.42051        | -3.699712       |  68.00500       |\n",
       "| 4372 | MalasaÃ±a       |  4              | 1.0             | 1               |  1              |  55             |  452            | 1               |  10             |  91             | 40.42571        | -3.703933       |  41.99216       |\n",
       "| 4432 | Centro          |  2              | 1.0             | 1               |  2              |  42             |  269            | 1               |  15             |  85             | 40.42542        | -3.712613       |  24.99091       |\n",
       "| 4441 | ArgÃ¼elles      |  5              | 1.0             | 2               |  3              |  80             |  807            | 1               |   0             |  80             | 40.42460        | -3.728758       |  74.97272       |\n",
       "| 4556 | Embajadores     |  3              | 1.0             | 2               |  2              |  78             |  538            | 2               |  10             |  94             | 40.41082        | -3.701474       |  49.98181       |\n",
       "| 4819 | MalasaÃ±a       |  4              | 1.0             | 2               |  3              |  40             |  484            | 2               |  10             |  87             | 40.42586        | -3.710491       |  44.96505       |\n",
       "| 4877 | La Latina       |  2              | 1.0             | 1               |  1              |  75             |  431            | 1               |   0             |  98             | 40.40862        | -3.707649       |  40.04119       |\n",
       "\n"
      ],
      "text/plain": [
       "     Neighbourhood   Accommodates Bathrooms Bedrooms Beds Price Square.Feet\n",
       "2537 Embajadores      3           1.0       1        2     85    700       \n",
       "2203 Adelfas          6           1.5       2        6     60    753       \n",
       "2582 MalasaÃ±a        2           1.0       0        1     75    377       \n",
       "1767 Cortes           6           1.0       2        5     60    538       \n",
       "883  La Latina        4           1.0       2        4     70    484       \n",
       "3825 La Latina        4           1.0       1        2     50    646       \n",
       "4832 Sol             10           2.0       5        8    300   1615       \n",
       "2225 Cortes           6           2.0       2        4    500    807       \n",
       "3557 MalasaÃ±a        2           1.0       1        2     50    291       \n",
       "3509 MalasaÃ±a        6           1.0       2        3     68    646       \n",
       "982  Almenara         6           1.5       3        4    170   1507       \n",
       "3128 Palacio          5           1.0       1        1     62    538       \n",
       "3062 Justicia         6            NA       2        4    102    753       \n",
       "368  Sol              6           2.0       2        3    140   1076       \n",
       "4253 MalasaÃ±a        2           1.0       1        1     54    323       \n",
       "1556 Cortes           4           1.0       1        2     67    431       \n",
       "1884 Goya             4           1.0       2        4    100    700       \n",
       "3668 Sol              2           1.0       0        1     69    323       \n",
       "3527 Sol             10           3.0       3        7    150    807       \n",
       "3002 Lista            6           3.0       4        3    170   1507       \n",
       "773  Sol              2           1.0       1        1     65    431       \n",
       "4737 La Latina        6           1.0       2        4    116    646       \n",
       "4802 Embajadores      3           1.0       1        1     45    344       \n",
       "1855 Sol              8           2.0       4        5    250   2153       \n",
       "855  Embajadores      4           1.0       1        2     56    592       \n",
       "2280 MalasaÃ±a        9           2.0       3        4    120   1076       \n",
       "4219 La Latina        4           1.0       1        2     60    549       \n",
       "523  Embajadores      4           1.0       1        3     72    560       \n",
       "4225 Embajadores      6           1.0       2        4     75    753       \n",
       "105  Recoletos        2           1.0       0        2     61    323       \n",
       "...  ...             ...          ...       ...      ...  ...   ...        \n",
       "1672 Almenara         4           1.0       0         1    52    431       \n",
       "1761 Embajadores      2           1.0       1         1    50    431       \n",
       "1847 Retiro           6           1.0       3         4    91    807       \n",
       "2219 Acacias          4           1.0       1         3    68    807       \n",
       "2327 El TrÃ©ntaiseis  6           3.0       3         3    NA   1776       \n",
       "2607 Castilla         6           2.0       2         4    85   1130       \n",
       "2615 Castellana       7           2.0       3         6   450   1292       \n",
       "2660 MalasaÃ±a        5           2.5       3         3    73   1076       \n",
       "2671 Justicia         3           1.0       0         1    53    484       \n",
       "2681 La Latina        5           1.0       2         3    90    753       \n",
       "2796 Justicia         6           1.0       2         3    90    807       \n",
       "2934 Embajadores      4           1.0       1         1    67    646       \n",
       "3000 Almenara         4           1.0       0         1    52    484       \n",
       "3112 Sol              3           1.0       1         1   100    484       \n",
       "3273 San Blas         6           1.5       2         4    85   1292       \n",
       "3303 Embajadores      4           1.0       1         2    50    592       \n",
       "3305 Embajadores      2           1.0       1         1    52    538       \n",
       "3365 Sol              4           1.0       1         2   108    538       \n",
       "3729 JerÃ³nimos       4           2.0       1         2    95    700       \n",
       "3731 JerÃ³nimos      16           5.0       5        13   365   5167       \n",
       "3736 Almenara         6           2.0       1         2    67    646       \n",
       "3815 Embajadores      7           1.0       3         4   100    807       \n",
       "4089 Acacias          4           1.0       1         2    60    753       \n",
       "4228 Justicia         6           1.0       2         6   500    732       \n",
       "4372 MalasaÃ±a        4           1.0       1         1    55    452       \n",
       "4432 Centro           2           1.0       1         2    42    269       \n",
       "4441 ArgÃ¼elles       5           1.0       2         3    80    807       \n",
       "4556 Embajadores      3           1.0       2         2    78    538       \n",
       "4819 MalasaÃ±a        4           1.0       2         3    40    484       \n",
       "4877 La Latina        2           1.0       1         1    75    431       \n",
       "     Guests.Included Extra.People Review.Scores.Rating Latitude Longitude\n",
       "2537 2                8            93                  40.40831 -3.703663\n",
       "2203 2               15            94                  40.39912 -3.670071\n",
       "2582 1                0            67                  40.42902 -3.703978\n",
       "1767 2               30            88                  40.41302 -3.694232\n",
       "883  2               15            85                  40.41182 -3.709931\n",
       "3825 2                5            94                  40.40922 -3.706288\n",
       "4832 7               20            95                  40.41444 -3.706969\n",
       "2225 4               15            96                  40.41364 -3.697923\n",
       "3557 1                0            87                  40.42600 -3.712278\n",
       "3509 4               15            94                  40.42360 -3.702581\n",
       "982  2               25            87                  40.47293 -3.689449\n",
       "3128 3               10           100                  40.41707 -3.708815\n",
       "3062 1               11            81                  40.42329 -3.698175\n",
       "368  3               10            94                  40.41611 -3.707456\n",
       "4253 1                0            94                  40.42513 -3.704265\n",
       "1556 2                5           100                  40.41307 -3.697037\n",
       "1884 1                0            97                  40.42460 -3.679277\n",
       "3668 1                0            96                  40.41680 -3.704462\n",
       "3527 8               20            65                  40.41869 -3.703180\n",
       "3002 5                0            96                  40.43287 -3.675902\n",
       "773  2                0            90                  40.41888 -3.703460\n",
       "4737 4               20            96                  40.41218 -3.713691\n",
       "4802 1                0            97                  40.40992 -3.701764\n",
       "1855 8               25            99                  40.41653 -3.703081\n",
       "855  2                7            93                  40.40814 -3.701711\n",
       "2280 6               25            83                  40.42081 -3.706499\n",
       "4219 2               15            95                  40.40994 -3.710366\n",
       "523  1               10            94                  40.41236 -3.702838\n",
       "4225 2                5            90                  40.41059 -3.703397\n",
       "105  1                0            92                  40.42800 -3.686409\n",
       "...  ...             ...          ...                  ...      ...      \n",
       "1672 2                 0           53                  40.47226 -3.692849\n",
       "1761 1                 0           94                  40.41047 -3.702071\n",
       "1847 1                 0           96                  40.40668 -3.678839\n",
       "2219 2                10           90                  40.39691 -3.705202\n",
       "2327 1               250           NA                  40.40908 -3.673131\n",
       "2607 4                10          100                  40.47267 -3.675531\n",
       "2615 1                 0           NA                  40.43186 -3.685074\n",
       "2660 2                10           96                  40.42308 -3.705691\n",
       "2671 1                10           90                  40.42173 -3.700142\n",
       "2681 2                20           88                  40.41366 -3.706431\n",
       "2796 2                15           95                  40.42469 -3.696031\n",
       "2934 2                15           97                  40.40858 -3.701371\n",
       "3000 1                 0           80                  40.47149 -3.691282\n",
       "3112 2                10           96                  40.41985 -3.703648\n",
       "3273 4                10           92                  40.44018 -3.617583\n",
       "3303 2                15           88                  40.41153 -3.699984\n",
       "3305 1                 0           95                  40.40803 -3.698546\n",
       "3365 2                15           95                  40.41595 -3.702808\n",
       "3729 2                15           91                  40.41301 -3.689135\n",
       "3731 5                37           98                  40.41826 -3.690208\n",
       "3736 4                 0           73                  40.47335 -3.691577\n",
       "3815 2                40           96                  40.40894 -3.697660\n",
       "4089 2                12           85                  40.40073 -3.706203\n",
       "4228 4                15           93                  40.42051 -3.699712\n",
       "4372 1                10           91                  40.42571 -3.703933\n",
       "4432 1                15           85                  40.42542 -3.712613\n",
       "4441 1                 0           80                  40.42460 -3.728758\n",
       "4556 2                10           94                  40.41082 -3.701474\n",
       "4819 2                10           87                  40.42586 -3.710491\n",
       "4877 1                 0           98                  40.40862 -3.707649\n",
       "     Square.Meters\n",
       "2537  65.03210    \n",
       "2203  69.95596    \n",
       "2582  35.02443    \n",
       "1767  49.98181    \n",
       "883   44.96505    \n",
       "3825  60.01534    \n",
       "4832 150.03834    \n",
       "2225  74.97272    \n",
       "3557  27.03477    \n",
       "3509  60.01534    \n",
       "982  140.00482    \n",
       "3128  49.98181    \n",
       "3062  69.95596    \n",
       "368   99.96363    \n",
       "4253  30.00767    \n",
       "1556  40.04119    \n",
       "1884  65.03210    \n",
       "3668  30.00767    \n",
       "3527  74.97272    \n",
       "3002 140.00482    \n",
       "773   40.04119    \n",
       "4737  60.01534    \n",
       "4802  31.95863    \n",
       "1855 200.02016    \n",
       "855   54.99858    \n",
       "2280  99.96363    \n",
       "4219  51.00375    \n",
       "523   52.02568    \n",
       "4225  69.95596    \n",
       "105   30.00767    \n",
       "...  ...          \n",
       "1672  40.04119    \n",
       "1761  40.04119    \n",
       "1847  74.97272    \n",
       "2219  74.97272    \n",
       "2327 164.99573    \n",
       "2607 104.98039    \n",
       "2615 120.03068    \n",
       "2660  99.96363    \n",
       "2671  44.96505    \n",
       "2681  69.95596    \n",
       "2796  74.97272    \n",
       "2934  60.01534    \n",
       "3000  44.96505    \n",
       "3112  44.96505    \n",
       "3273 120.03068    \n",
       "3303  54.99858    \n",
       "3305  49.98181    \n",
       "3365  49.98181    \n",
       "3729  65.03210    \n",
       "3731 480.02980    \n",
       "3736  60.01534    \n",
       "3815  74.97272    \n",
       "4089  69.95596    \n",
       "4228  68.00500    \n",
       "4372  41.99216    \n",
       "4432  24.99091    \n",
       "4441  74.97272    \n",
       "4556  49.98181    \n",
       "4819  44.96505    \n",
       "4877  40.04119    "
      ]
     },
     "metadata": {},
     "output_type": "display_data"
    }
   ],
   "source": [
    "#Nuevo dataframe con valores en Square Meters diferentes a NA:\n",
    "df_madrid_nuevo <- df_madrid_Clusters[!is.na(df_madrid_Clusters$Square.Meters),]\n",
    "\n",
    "#Nuevo dataframe con valores NA en Square Meters:\n",
    "df_madrid_nuevo_NA <- df_madrid_Clusters[is.na(df_madrid_Clusters$Square.Meters),]\n",
    "\n",
    "#Reemplazamos los valores NA de Square Meters:\n",
    "df_madrid_nuevo_NA[,\"Square.Meters\"] <- predict(modelo, data.frame(Accommodates=df_madrid_nuevo_NA$Accommodates,\n",
    "                                                                   Bathrooms=df_madrid_nuevo_NA$Bathrooms,\n",
    "                                                         Bedrooms=df_madrid_nuevo_NA$Bedrooms,Beds=df_madrid_nuevo_NA$Beds,Price=df_madrid_nuevo_NA$Price,\n",
    "                                                         Review.Scores.Rating=df_madrid_nuevo_NA$Review.Scores.Rating,Guests.Included=df_madrid_nuevo_NA$Guests.Included,\n",
    "                                                         Extra.People=df_madrid_nuevo_NA$Extra.People,neighb_id=df_madrid_nuevo_NA$neighb_id))\n",
    "#Nuevo dataframe uniendo test y train:\n",
    "df_madrid_nuevo = rbind(Square.Meters_No_NA.train,Square.Meters_No_NA.test)\n",
    "dim(df_madrid_nuevo)\n",
    "df_madrid_nuevo\n",
    "#logramos hacer el reemplazo por que nos da las columnas y valores que son del dataframe inicial."
   ]
  },
  {
   "cell_type": "markdown",
   "metadata": {},
   "source": [
    "Usar PCA para encontrar el apartamento más cercano a uno dado.\n",
    "\n",
    "Este algoritmo nos ayudaría a dado un apartamento que el algoritmo nos devolvería los 5 apartamentos más similares.\n",
    "\n",
    "\n",
    "Crearemos una función tal que le pasemos un apartamento con los siguientes datos:\n",
    "* Accommodates\t\n",
    "* Bathrooms\t\n",
    "* Bedrooms\t\n",
    "* Beds\t\n",
    "* Price\t\n",
    "* Guests.Included\t\n",
    "* Extra.People\t\n",
    "* Review.Scores.Rating\t\n",
    "* Latitude\t\n",
    "* Longitude\t\n",
    "* Square.Meters\n",
    "\n",
    "y nos devuelva los 5 más similares de:"
   ]
  },
  {
   "cell_type": "code",
   "execution_count": 23,
   "metadata": {
    "scrolled": true
   },
   "outputs": [
    {
     "data": {
      "text/html": [
       "<table>\n",
       "<thead><tr><th></th><th scope=col>Accommodates</th><th scope=col>Bathrooms</th><th scope=col>Bedrooms</th><th scope=col>Beds</th><th scope=col>Price</th><th scope=col>Review.Scores.Rating</th><th scope=col>Latitude</th><th scope=col>Longitude</th><th scope=col>Square.Meters</th></tr></thead>\n",
       "<tbody>\n",
       "\t<tr><th scope=row>2537</th><td>3        </td><td>1.0      </td><td>1        </td><td>2        </td><td>85       </td><td>93       </td><td>40.40831 </td><td>-3.703663</td><td>65.03210 </td></tr>\n",
       "\t<tr><th scope=row>2203</th><td>6        </td><td>1.5      </td><td>2        </td><td>6        </td><td>60       </td><td>94       </td><td>40.39912 </td><td>-3.670071</td><td>69.95596 </td></tr>\n",
       "\t<tr><th scope=row>2582</th><td>2        </td><td>1.0      </td><td>0        </td><td>1        </td><td>75       </td><td>67       </td><td>40.42902 </td><td>-3.703978</td><td>35.02443 </td></tr>\n",
       "\t<tr><th scope=row>1767</th><td>6        </td><td>1.0      </td><td>2        </td><td>5        </td><td>60       </td><td>88       </td><td>40.41302 </td><td>-3.694232</td><td>49.98181 </td></tr>\n",
       "\t<tr><th scope=row>883</th><td>4        </td><td>1.0      </td><td>2        </td><td>4        </td><td>70       </td><td>85       </td><td>40.41182 </td><td>-3.709931</td><td>44.96505 </td></tr>\n",
       "\t<tr><th scope=row>3825</th><td>4        </td><td>1.0      </td><td>1        </td><td>2        </td><td>50       </td><td>94       </td><td>40.40922 </td><td>-3.706288</td><td>60.01534 </td></tr>\n",
       "</tbody>\n",
       "</table>\n"
      ],
      "text/latex": [
       "\\begin{tabular}{r|lllllllll}\n",
       "  & Accommodates & Bathrooms & Bedrooms & Beds & Price & Review.Scores.Rating & Latitude & Longitude & Square.Meters\\\\\n",
       "\\hline\n",
       "\t2537 & 3         & 1.0       & 1         & 2         & 85        & 93        & 40.40831  & -3.703663 & 65.03210 \\\\\n",
       "\t2203 & 6         & 1.5       & 2         & 6         & 60        & 94        & 40.39912  & -3.670071 & 69.95596 \\\\\n",
       "\t2582 & 2         & 1.0       & 0         & 1         & 75        & 67        & 40.42902  & -3.703978 & 35.02443 \\\\\n",
       "\t1767 & 6         & 1.0       & 2         & 5         & 60        & 88        & 40.41302  & -3.694232 & 49.98181 \\\\\n",
       "\t883 & 4         & 1.0       & 2         & 4         & 70        & 85        & 40.41182  & -3.709931 & 44.96505 \\\\\n",
       "\t3825 & 4         & 1.0       & 1         & 2         & 50        & 94        & 40.40922  & -3.706288 & 60.01534 \\\\\n",
       "\\end{tabular}\n"
      ],
      "text/markdown": [
       "\n",
       "| <!--/--> | Accommodates | Bathrooms | Bedrooms | Beds | Price | Review.Scores.Rating | Latitude | Longitude | Square.Meters |\n",
       "|---|---|---|---|---|---|---|---|---|---|\n",
       "| 2537 | 3         | 1.0       | 1         | 2         | 85        | 93        | 40.40831  | -3.703663 | 65.03210  |\n",
       "| 2203 | 6         | 1.5       | 2         | 6         | 60        | 94        | 40.39912  | -3.670071 | 69.95596  |\n",
       "| 2582 | 2         | 1.0       | 0         | 1         | 75        | 67        | 40.42902  | -3.703978 | 35.02443  |\n",
       "| 1767 | 6         | 1.0       | 2         | 5         | 60        | 88        | 40.41302  | -3.694232 | 49.98181  |\n",
       "| 883 | 4         | 1.0       | 2         | 4         | 70        | 85        | 40.41182  | -3.709931 | 44.96505  |\n",
       "| 3825 | 4         | 1.0       | 1         | 2         | 50        | 94        | 40.40922  | -3.706288 | 60.01534  |\n",
       "\n"
      ],
      "text/plain": [
       "     Accommodates Bathrooms Bedrooms Beds Price Review.Scores.Rating Latitude\n",
       "2537 3            1.0       1        2    85    93                   40.40831\n",
       "2203 6            1.5       2        6    60    94                   40.39912\n",
       "2582 2            1.0       0        1    75    67                   40.42902\n",
       "1767 6            1.0       2        5    60    88                   40.41302\n",
       "883  4            1.0       2        4    70    85                   40.41182\n",
       "3825 4            1.0       1        2    50    94                   40.40922\n",
       "     Longitude Square.Meters\n",
       "2537 -3.703663 65.03210     \n",
       "2203 -3.670071 69.95596     \n",
       "2582 -3.703978 35.02443     \n",
       "1767 -3.694232 49.98181     \n",
       "883  -3.709931 44.96505     \n",
       "3825 -3.706288 60.01534     "
      ]
     },
     "metadata": {},
     "output_type": "display_data"
    }
   ],
   "source": [
    "#Eliminamos las columnas categoricas para quedarnos solamente con las numericas:\n",
    "df_madrid_nuevo <- df_madrid_nuevo[c(\"Accommodates\",\"Bathrooms\",\"Bedrooms\",\"Beds\",\"Price\",\"Review.Scores.Rating\",\"Latitude\",\n",
    "                                     \"Longitude\",\"Square.Meters\")]\n",
    "head(df_madrid_nuevo)"
   ]
  },
  {
   "cell_type": "code",
   "execution_count": 24,
   "metadata": {},
   "outputs": [
    {
     "data": {
      "text/html": [
       "<table>\n",
       "<thead><tr><th></th><th scope=col>Accommodates</th><th scope=col>Bathrooms</th><th scope=col>Bedrooms</th><th scope=col>Beds</th><th scope=col>Price</th><th scope=col>Review.Scores.Rating</th><th scope=col>Latitude</th><th scope=col>Longitude</th><th scope=col>Square.Meters</th></tr></thead>\n",
       "<tbody>\n",
       "\t<tr><th scope=row>2537</th><td>3        </td><td>1.0      </td><td>1        </td><td>2        </td><td>85       </td><td>93       </td><td>40.40831 </td><td>-3.703663</td><td>65.03210 </td></tr>\n",
       "\t<tr><th scope=row>2203</th><td>6        </td><td>1.5      </td><td>2        </td><td>6        </td><td>60       </td><td>94       </td><td>40.39912 </td><td>-3.670071</td><td>69.95596 </td></tr>\n",
       "\t<tr><th scope=row>2582</th><td>2        </td><td>1.0      </td><td>0        </td><td>1        </td><td>75       </td><td>67       </td><td>40.42902 </td><td>-3.703978</td><td>35.02443 </td></tr>\n",
       "\t<tr><th scope=row>1767</th><td>6        </td><td>1.0      </td><td>2        </td><td>5        </td><td>60       </td><td>88       </td><td>40.41302 </td><td>-3.694232</td><td>49.98181 </td></tr>\n",
       "\t<tr><th scope=row>883</th><td>4        </td><td>1.0      </td><td>2        </td><td>4        </td><td>70       </td><td>85       </td><td>40.41182 </td><td>-3.709931</td><td>44.96505 </td></tr>\n",
       "\t<tr><th scope=row>3825</th><td>4        </td><td>1.0      </td><td>1        </td><td>2        </td><td>50       </td><td>94       </td><td>40.40922 </td><td>-3.706288</td><td>60.01534 </td></tr>\n",
       "</tbody>\n",
       "</table>\n"
      ],
      "text/latex": [
       "\\begin{tabular}{r|lllllllll}\n",
       "  & Accommodates & Bathrooms & Bedrooms & Beds & Price & Review.Scores.Rating & Latitude & Longitude & Square.Meters\\\\\n",
       "\\hline\n",
       "\t2537 & 3         & 1.0       & 1         & 2         & 85        & 93        & 40.40831  & -3.703663 & 65.03210 \\\\\n",
       "\t2203 & 6         & 1.5       & 2         & 6         & 60        & 94        & 40.39912  & -3.670071 & 69.95596 \\\\\n",
       "\t2582 & 2         & 1.0       & 0         & 1         & 75        & 67        & 40.42902  & -3.703978 & 35.02443 \\\\\n",
       "\t1767 & 6         & 1.0       & 2         & 5         & 60        & 88        & 40.41302  & -3.694232 & 49.98181 \\\\\n",
       "\t883 & 4         & 1.0       & 2         & 4         & 70        & 85        & 40.41182  & -3.709931 & 44.96505 \\\\\n",
       "\t3825 & 4         & 1.0       & 1         & 2         & 50        & 94        & 40.40922  & -3.706288 & 60.01534 \\\\\n",
       "\\end{tabular}\n"
      ],
      "text/markdown": [
       "\n",
       "| <!--/--> | Accommodates | Bathrooms | Bedrooms | Beds | Price | Review.Scores.Rating | Latitude | Longitude | Square.Meters |\n",
       "|---|---|---|---|---|---|---|---|---|---|\n",
       "| 2537 | 3         | 1.0       | 1         | 2         | 85        | 93        | 40.40831  | -3.703663 | 65.03210  |\n",
       "| 2203 | 6         | 1.5       | 2         | 6         | 60        | 94        | 40.39912  | -3.670071 | 69.95596  |\n",
       "| 2582 | 2         | 1.0       | 0         | 1         | 75        | 67        | 40.42902  | -3.703978 | 35.02443  |\n",
       "| 1767 | 6         | 1.0       | 2         | 5         | 60        | 88        | 40.41302  | -3.694232 | 49.98181  |\n",
       "| 883 | 4         | 1.0       | 2         | 4         | 70        | 85        | 40.41182  | -3.709931 | 44.96505  |\n",
       "| 3825 | 4         | 1.0       | 1         | 2         | 50        | 94        | 40.40922  | -3.706288 | 60.01534  |\n",
       "\n"
      ],
      "text/plain": [
       "     Accommodates Bathrooms Bedrooms Beds Price Review.Scores.Rating Latitude\n",
       "2537 3            1.0       1        2    85    93                   40.40831\n",
       "2203 6            1.5       2        6    60    94                   40.39912\n",
       "2582 2            1.0       0        1    75    67                   40.42902\n",
       "1767 6            1.0       2        5    60    88                   40.41302\n",
       "883  4            1.0       2        4    70    85                   40.41182\n",
       "3825 4            1.0       1        2    50    94                   40.40922\n",
       "     Longitude Square.Meters\n",
       "2537 -3.703663 65.03210     \n",
       "2203 -3.670071 69.95596     \n",
       "2582 -3.703978 35.02443     \n",
       "1767 -3.694232 49.98181     \n",
       "883  -3.709931 44.96505     \n",
       "3825 -3.706288 60.01534     "
      ]
     },
     "metadata": {},
     "output_type": "display_data"
    }
   ],
   "source": [
    "#Eliminamos valores que contengan NA's:\n",
    "df_madrid_nuevo_No_NA <- na.omit(df_madrid_nuevo)\n",
    "head(df_madrid_nuevo_No_NA)"
   ]
  },
  {
   "cell_type": "code",
   "execution_count": 25,
   "metadata": {},
   "outputs": [
    {
     "data": {
      "text/plain": [
       "Standard deviations (1, .., p=9):\n",
       "[1] 2.839209216 0.667884810 0.451382034 0.355501054 0.272342477 0.238733076\n",
       "[7] 0.162971367 0.070399788 0.003803285\n",
       "\n",
       "Rotation (n x k) = (9 x 9):\n",
       "                            PC1         PC2         PC3         PC4\n",
       "Accommodates         -0.3442032  0.11471903 -0.22244275  0.21954233\n",
       "Bathrooms            -0.3404491  0.04901407 -0.06049866 -0.46366180\n",
       "Bedrooms             -0.3337898  0.27103455 -0.25899841  0.05967240\n",
       "Beds                 -0.3296963  0.33808013 -0.27176756  0.56530225\n",
       "Price                -0.3138887  0.31302791  0.88641578  0.11941821\n",
       "Review.Scores.Rating -0.3351401 -0.44640419  0.04694245  0.02784128\n",
       "Latitude             -0.3353164 -0.45381891  0.03113763  0.05364699\n",
       "Longitude             0.3352684  0.45436587 -0.03195729 -0.05616784\n",
       "Square.Meters        -0.3313854  0.29498499 -0.12646743 -0.62659620\n",
       "                              PC5          PC6         PC7          PC8\n",
       "Accommodates          0.201828317  0.155397967 -0.83365799 -0.103906493\n",
       "Bathrooms             0.170105600  0.762799574  0.22747902 -0.022252603\n",
       "Bedrooms             -0.860041622  0.026691583  0.05204207  0.037271440\n",
       "Beds                  0.383157920 -0.074946821  0.48038169  0.019578458\n",
       "Price                -0.040259470  0.004508455 -0.04229225  0.007966685\n",
       "Review.Scores.Rating -0.054336461 -0.150425853  0.13050088 -0.801751849\n",
       "Latitude             -0.002884489 -0.075495085  0.01878295  0.416556022\n",
       "Longitude             0.001446552  0.077884783 -0.01239335 -0.411063193\n",
       "Square.Meters         0.198151817 -0.594344180 -0.02161459  0.039678996\n",
       "                               PC9\n",
       "Accommodates         -0.0043192156\n",
       "Bathrooms             0.0029494810\n",
       "Bedrooms              0.0014594122\n",
       "Beds                  0.0010220807\n",
       "Price                -0.0007064850\n",
       "Review.Scores.Rating -0.0029614975\n",
       "Latitude             -0.7058216369\n",
       "Longitude            -0.7083614826\n",
       "Square.Meters         0.0001662381"
      ]
     },
     "metadata": {},
     "output_type": "display_data"
    },
    {
     "data": {
      "image/png": "[encoded data removed]",
      "text/plain": [
       "Plot with title \"Autovalores\""
      ]
     },
     "metadata": {},
     "output_type": "display_data"
    }
   ],
   "source": [
    "#Para calcular PCA usamos prcomp:\n",
    "pca_df_madrid<-prcomp(df_madrid_nuevo_No_NA,center=FALSE,scale.=TRUE)\n",
    "pca_df_madrid\n",
    "plot(pca_df_madrid$sdev^2/sum(pca_df_madrid$sdev^2),main=\"Autovalores\")"
   ]
  },
  {
   "cell_type": "code",
   "execution_count": 26,
   "metadata": {},
   "outputs": [
    {
     "data": {
      "text/html": [
       "<table>\n",
       "<thead><tr><th></th><th scope=col>PC1</th><th scope=col>PC2</th><th scope=col>PC3</th><th scope=col>PC4</th><th scope=col>PC5</th><th scope=col>PC6</th><th scope=col>PC7</th><th scope=col>PC8</th><th scope=col>PC9</th></tr></thead>\n",
       "<tbody>\n",
       "\t<tr><th scope=row>Accommodates</th><td>-0.3442032   </td><td> 0.11471903  </td><td>-0.22244275  </td><td> 0.21954233  </td><td> 0.201828317 </td><td> 0.155397967 </td><td>-0.83365799  </td><td>-0.103906493 </td><td>-0.0043192156</td></tr>\n",
       "\t<tr><th scope=row>Bathrooms</th><td>-0.3404491   </td><td> 0.04901407  </td><td>-0.06049866  </td><td>-0.46366180  </td><td> 0.170105600 </td><td> 0.762799574 </td><td> 0.22747902  </td><td>-0.022252603 </td><td> 0.0029494810</td></tr>\n",
       "\t<tr><th scope=row>Bedrooms</th><td>-0.3337898   </td><td> 0.27103455  </td><td>-0.25899841  </td><td> 0.05967240  </td><td>-0.860041622 </td><td> 0.026691583 </td><td> 0.05204207  </td><td> 0.037271440 </td><td> 0.0014594122</td></tr>\n",
       "\t<tr><th scope=row>Beds</th><td>-0.3296963   </td><td> 0.33808013  </td><td>-0.27176756  </td><td> 0.56530225  </td><td> 0.383157920 </td><td>-0.074946821 </td><td> 0.48038169  </td><td> 0.019578458 </td><td> 0.0010220807</td></tr>\n",
       "\t<tr><th scope=row>Price</th><td>-0.3138887   </td><td> 0.31302791  </td><td> 0.88641578  </td><td> 0.11941821  </td><td>-0.040259470 </td><td> 0.004508455 </td><td>-0.04229225  </td><td> 0.007966685 </td><td>-0.0007064850</td></tr>\n",
       "\t<tr><th scope=row>Review.Scores.Rating</th><td>-0.3351401   </td><td>-0.44640419  </td><td> 0.04694245  </td><td> 0.02784128  </td><td>-0.054336461 </td><td>-0.150425853 </td><td> 0.13050088  </td><td>-0.801751849 </td><td>-0.0029614975</td></tr>\n",
       "\t<tr><th scope=row>Latitude</th><td>-0.3353164   </td><td>-0.45381891  </td><td> 0.03113763  </td><td> 0.05364699  </td><td>-0.002884489 </td><td>-0.075495085 </td><td> 0.01878295  </td><td> 0.416556022 </td><td>-0.7058216369</td></tr>\n",
       "\t<tr><th scope=row>Longitude</th><td> 0.3352684   </td><td> 0.45436587  </td><td>-0.03195729  </td><td>-0.05616784  </td><td> 0.001446552 </td><td> 0.077884783 </td><td>-0.01239335  </td><td>-0.411063193 </td><td>-0.7083614826</td></tr>\n",
       "\t<tr><th scope=row>Square.Meters</th><td>-0.3313854   </td><td> 0.29498499  </td><td>-0.12646743  </td><td>-0.62659620  </td><td> 0.198151817 </td><td>-0.594344180 </td><td>-0.02161459  </td><td> 0.039678996 </td><td> 0.0001662381</td></tr>\n",
       "</tbody>\n",
       "</table>\n"
      ],
      "text/latex": [
       "\\begin{tabular}{r|lllllllll}\n",
       "  & PC1 & PC2 & PC3 & PC4 & PC5 & PC6 & PC7 & PC8 & PC9\\\\\n",
       "\\hline\n",
       "\tAccommodates & -0.3442032    &  0.11471903   & -0.22244275   &  0.21954233   &  0.201828317  &  0.155397967  & -0.83365799   & -0.103906493  & -0.0043192156\\\\\n",
       "\tBathrooms & -0.3404491    &  0.04901407   & -0.06049866   & -0.46366180   &  0.170105600  &  0.762799574  &  0.22747902   & -0.022252603  &  0.0029494810\\\\\n",
       "\tBedrooms & -0.3337898    &  0.27103455   & -0.25899841   &  0.05967240   & -0.860041622  &  0.026691583  &  0.05204207   &  0.037271440  &  0.0014594122\\\\\n",
       "\tBeds & -0.3296963    &  0.33808013   & -0.27176756   &  0.56530225   &  0.383157920  & -0.074946821  &  0.48038169   &  0.019578458  &  0.0010220807\\\\\n",
       "\tPrice & -0.3138887    &  0.31302791   &  0.88641578   &  0.11941821   & -0.040259470  &  0.004508455  & -0.04229225   &  0.007966685  & -0.0007064850\\\\\n",
       "\tReview.Scores.Rating & -0.3351401    & -0.44640419   &  0.04694245   &  0.02784128   & -0.054336461  & -0.150425853  &  0.13050088   & -0.801751849  & -0.0029614975\\\\\n",
       "\tLatitude & -0.3353164    & -0.45381891   &  0.03113763   &  0.05364699   & -0.002884489  & -0.075495085  &  0.01878295   &  0.416556022  & -0.7058216369\\\\\n",
       "\tLongitude &  0.3352684    &  0.45436587   & -0.03195729   & -0.05616784   &  0.001446552  &  0.077884783  & -0.01239335   & -0.411063193  & -0.7083614826\\\\\n",
       "\tSquare.Meters & -0.3313854    &  0.29498499   & -0.12646743   & -0.62659620   &  0.198151817  & -0.594344180  & -0.02161459   &  0.039678996  &  0.0001662381\\\\\n",
       "\\end{tabular}\n"
      ],
      "text/markdown": [
       "\n",
       "| <!--/--> | PC1 | PC2 | PC3 | PC4 | PC5 | PC6 | PC7 | PC8 | PC9 |\n",
       "|---|---|---|---|---|---|---|---|---|---|\n",
       "| Accommodates | -0.3442032    |  0.11471903   | -0.22244275   |  0.21954233   |  0.201828317  |  0.155397967  | -0.83365799   | -0.103906493  | -0.0043192156 |\n",
       "| Bathrooms | -0.3404491    |  0.04901407   | -0.06049866   | -0.46366180   |  0.170105600  |  0.762799574  |  0.22747902   | -0.022252603  |  0.0029494810 |\n",
       "| Bedrooms | -0.3337898    |  0.27103455   | -0.25899841   |  0.05967240   | -0.860041622  |  0.026691583  |  0.05204207   |  0.037271440  |  0.0014594122 |\n",
       "| Beds | -0.3296963    |  0.33808013   | -0.27176756   |  0.56530225   |  0.383157920  | -0.074946821  |  0.48038169   |  0.019578458  |  0.0010220807 |\n",
       "| Price | -0.3138887    |  0.31302791   |  0.88641578   |  0.11941821   | -0.040259470  |  0.004508455  | -0.04229225   |  0.007966685  | -0.0007064850 |\n",
       "| Review.Scores.Rating | -0.3351401    | -0.44640419   |  0.04694245   |  0.02784128   | -0.054336461  | -0.150425853  |  0.13050088   | -0.801751849  | -0.0029614975 |\n",
       "| Latitude | -0.3353164    | -0.45381891   |  0.03113763   |  0.05364699   | -0.002884489  | -0.075495085  |  0.01878295   |  0.416556022  | -0.7058216369 |\n",
       "| Longitude |  0.3352684    |  0.45436587   | -0.03195729   | -0.05616784   |  0.001446552  |  0.077884783  | -0.01239335   | -0.411063193  | -0.7083614826 |\n",
       "| Square.Meters | -0.3313854    |  0.29498499   | -0.12646743   | -0.62659620   |  0.198151817  | -0.594344180  | -0.02161459   |  0.039678996  |  0.0001662381 |\n",
       "\n"
      ],
      "text/plain": [
       "                     PC1        PC2         PC3         PC4        \n",
       "Accommodates         -0.3442032  0.11471903 -0.22244275  0.21954233\n",
       "Bathrooms            -0.3404491  0.04901407 -0.06049866 -0.46366180\n",
       "Bedrooms             -0.3337898  0.27103455 -0.25899841  0.05967240\n",
       "Beds                 -0.3296963  0.33808013 -0.27176756  0.56530225\n",
       "Price                -0.3138887  0.31302791  0.88641578  0.11941821\n",
       "Review.Scores.Rating -0.3351401 -0.44640419  0.04694245  0.02784128\n",
       "Latitude             -0.3353164 -0.45381891  0.03113763  0.05364699\n",
       "Longitude             0.3352684  0.45436587 -0.03195729 -0.05616784\n",
       "Square.Meters        -0.3313854  0.29498499 -0.12646743 -0.62659620\n",
       "                     PC5          PC6          PC7         PC8         \n",
       "Accommodates          0.201828317  0.155397967 -0.83365799 -0.103906493\n",
       "Bathrooms             0.170105600  0.762799574  0.22747902 -0.022252603\n",
       "Bedrooms             -0.860041622  0.026691583  0.05204207  0.037271440\n",
       "Beds                  0.383157920 -0.074946821  0.48038169  0.019578458\n",
       "Price                -0.040259470  0.004508455 -0.04229225  0.007966685\n",
       "Review.Scores.Rating -0.054336461 -0.150425853  0.13050088 -0.801751849\n",
       "Latitude             -0.002884489 -0.075495085  0.01878295  0.416556022\n",
       "Longitude             0.001446552  0.077884783 -0.01239335 -0.411063193\n",
       "Square.Meters         0.198151817 -0.594344180 -0.02161459  0.039678996\n",
       "                     PC9          \n",
       "Accommodates         -0.0043192156\n",
       "Bathrooms             0.0029494810\n",
       "Bedrooms              0.0014594122\n",
       "Beds                  0.0010220807\n",
       "Price                -0.0007064850\n",
       "Review.Scores.Rating -0.0029614975\n",
       "Latitude             -0.7058216369\n",
       "Longitude            -0.7083614826\n",
       "Square.Meters         0.0001662381"
      ]
     },
     "metadata": {},
     "output_type": "display_data"
    }
   ],
   "source": [
    "#Matriz de autovalores:\n",
    "madrid_sdev <- pca_df_madrid$sdev\n",
    "#Matriz de autovectores\n",
    "pca_df_madrid$rotation\n",
    "\n",
    "#Componentes y rango:\n",
    "pca_componentes <- 3\n",
    "rango <- pca_df_madrid$x[,1:pca_componentes]"
   ]
  },
  {
   "cell_type": "code",
   "execution_count": 27,
   "metadata": {},
   "outputs": [
    {
     "data": {
      "text/html": [
       "<table>\n",
       "<thead><tr><th></th><th scope=col>Accommodates</th><th scope=col>Bathrooms</th><th scope=col>Bedrooms</th><th scope=col>Beds</th><th scope=col>Price</th><th scope=col>Review.Scores.Rating</th><th scope=col>Latitude</th><th scope=col>Longitude</th><th scope=col>Square.Meters</th></tr></thead>\n",
       "<tbody>\n",
       "\t<tr><th scope=row>1187</th><td>4        </td><td>1        </td><td>2        </td><td>3        </td><td>85       </td><td>94       </td><td>40.40818 </td><td>-3.708963</td><td>37.99733 </td></tr>\n",
       "\t<tr><th scope=row>3736</th><td>6        </td><td>2        </td><td>1        </td><td>2        </td><td>67       </td><td>73       </td><td>40.47335 </td><td>-3.691577</td><td>60.01534 </td></tr>\n",
       "\t<tr><th scope=row>3764</th><td>4        </td><td>1        </td><td>2        </td><td>3        </td><td>65       </td><td>93       </td><td>40.40888 </td><td>-3.713721</td><td>65.03210 </td></tr>\n",
       "\t<tr><th scope=row>2219</th><td>4        </td><td>1        </td><td>1        </td><td>3        </td><td>68       </td><td>90       </td><td>40.39691 </td><td>-3.705202</td><td>74.97272 </td></tr>\n",
       "\t<tr><th scope=row>585</th><td>6        </td><td>1        </td><td>2        </td><td>2        </td><td>91       </td><td>89       </td><td>40.42417 </td><td>-3.704949</td><td>69.95596 </td></tr>\n",
       "</tbody>\n",
       "</table>\n"
      ],
      "text/latex": [
       "\\begin{tabular}{r|lllllllll}\n",
       "  & Accommodates & Bathrooms & Bedrooms & Beds & Price & Review.Scores.Rating & Latitude & Longitude & Square.Meters\\\\\n",
       "\\hline\n",
       "\t1187 & 4         & 1         & 2         & 3         & 85        & 94        & 40.40818  & -3.708963 & 37.99733 \\\\\n",
       "\t3736 & 6         & 2         & 1         & 2         & 67        & 73        & 40.47335  & -3.691577 & 60.01534 \\\\\n",
       "\t3764 & 4         & 1         & 2         & 3         & 65        & 93        & 40.40888  & -3.713721 & 65.03210 \\\\\n",
       "\t2219 & 4         & 1         & 1         & 3         & 68        & 90        & 40.39691  & -3.705202 & 74.97272 \\\\\n",
       "\t585 & 6         & 1         & 2         & 2         & 91        & 89        & 40.42417  & -3.704949 & 69.95596 \\\\\n",
       "\\end{tabular}\n"
      ],
      "text/markdown": [
       "\n",
       "| <!--/--> | Accommodates | Bathrooms | Bedrooms | Beds | Price | Review.Scores.Rating | Latitude | Longitude | Square.Meters |\n",
       "|---|---|---|---|---|---|---|---|---|---|\n",
       "| 1187 | 4         | 1         | 2         | 3         | 85        | 94        | 40.40818  | -3.708963 | 37.99733  |\n",
       "| 3736 | 6         | 2         | 1         | 2         | 67        | 73        | 40.47335  | -3.691577 | 60.01534  |\n",
       "| 3764 | 4         | 1         | 2         | 3         | 65        | 93        | 40.40888  | -3.713721 | 65.03210  |\n",
       "| 2219 | 4         | 1         | 1         | 3         | 68        | 90        | 40.39691  | -3.705202 | 74.97272  |\n",
       "| 585 | 6         | 1         | 2         | 2         | 91        | 89        | 40.42417  | -3.704949 | 69.95596  |\n",
       "\n"
      ],
      "text/plain": [
       "     Accommodates Bathrooms Bedrooms Beds Price Review.Scores.Rating Latitude\n",
       "1187 4            1         2        3    85    94                   40.40818\n",
       "3736 6            2         1        2    67    73                   40.47335\n",
       "3764 4            1         2        3    65    93                   40.40888\n",
       "2219 4            1         1        3    68    90                   40.39691\n",
       "585  6            1         2        2    91    89                   40.42417\n",
       "     Longitude Square.Meters\n",
       "1187 -3.708963 37.99733     \n",
       "3736 -3.691577 60.01534     \n",
       "3764 -3.713721 65.03210     \n",
       "2219 -3.705202 74.97272     \n",
       "585  -3.704949 69.95596     "
      ]
     },
     "metadata": {},
     "output_type": "display_data"
    }
   ],
   "source": [
    "#Apartamento:\n",
    "piso<-data.frame(Accommodates=4,Bathrooms=1,Bedrooms=2,Beds=3,Price=80, Review.Scores.Rating=90,Latitude=40.41985,Longitude=-3.703648,Square.Meters=50)\n",
    "#Creamos la predicción:\n",
    "prediccion<-matrix(predict(pca_df_madrid,piso)[1:pca_componentes], nrow=1)\n",
    "dist <- rep(NA,nrow(rango))\n",
    "for (i in 1:nrow(rango)){\n",
    "    dist[i]<-sum((prediccion-rango[i,])^2)\n",
    "}\n",
    "df_madrid_nuevo_No_NA[head(order(dist),5),]\n"
   ]
  },
  {
   "cell_type": "markdown",
   "metadata": {},
   "source": [
    "Bonus: ¿de todas las coordenadas PCA cual es la que mejor permite clasificar por id de barrio?\n",
    "\n",
    "¿Por qué?"
   ]
  },
  {
   "cell_type": "code",
   "execution_count": null,
   "metadata": {},
   "outputs": [],
   "source": []
  },
  {
   "cell_type": "code",
   "execution_count": null,
   "metadata": {},
   "outputs": [],
   "source": []
  },
  {
   "cell_type": "code",
   "execution_count": null,
   "metadata": {},
   "outputs": [],
   "source": []
  },
  {
   "cell_type": "code",
   "execution_count": null,
   "metadata": {},
   "outputs": [],
   "source": []
  }
 ],
 "metadata": {
  "kernelspec": {
   "display_name": "R",
   "language": "R",
   "name": "ir"
  },
  "language_info": {
   "codemirror_mode": "r",
   "file_extension": ".r",
   "mimetype": "text/x-r-source",
   "name": "R",
   "pygments_lexer": "r",
   "version": "3.6.1"
  }
 },
 "nbformat": 4,
 "nbformat_minor": 2
}
